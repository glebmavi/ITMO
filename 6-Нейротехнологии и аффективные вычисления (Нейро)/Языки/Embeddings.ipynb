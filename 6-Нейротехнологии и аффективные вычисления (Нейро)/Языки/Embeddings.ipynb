{
 "nbformat": 4,
 "nbformat_minor": 0,
 "metadata": {
  "colab": {
   "provenance": [],
   "collapsed_sections": [
    "juR4NX0wX-r_",
    "CXKnPffPX-sY",
    "yI2MToHc3Vk1"
   ]
  },
  "kernelspec": {
   "display_name": "Python 3",
   "language": "python",
   "name": "python3"
  },
  "language_info": {
   "codemirror_mode": {
    "name": "ipython",
    "version": 3
   },
   "file_extension": ".py",
   "mimetype": "text/x-python",
   "name": "python",
   "nbconvert_exporter": "python",
   "pygments_lexer": "ipython3",
   "version": "3.6.3"
  },
  "widgets": {
   "application/vnd.jupyter.widget-state+json": {
    "68e14405f823439898540afdcd70d40b": {
     "model_module": "@jupyter-widgets/controls",
     "model_name": "HBoxModel",
     "state": {
      "_view_name": "HBoxView",
      "_dom_classes": [],
      "_model_name": "HBoxModel",
      "_view_module": "@jupyter-widgets/controls",
      "_model_module_version": "1.5.0",
      "_view_count": null,
      "_view_module_version": "1.5.0",
      "box_style": "",
      "layout": "IPY_MODEL_7ea7feb0bdb94166b25a726647d33fc2",
      "_model_module": "@jupyter-widgets/controls",
      "children": [
       "IPY_MODEL_e58ae1725e6a4f9491c407461f141343",
       "IPY_MODEL_2fed6ef43be042b8b3ceca5c5b984f70"
      ]
     },
     "model_module_version": "1.5.0"
    },
    "7ea7feb0bdb94166b25a726647d33fc2": {
     "model_module": "@jupyter-widgets/base",
     "model_name": "LayoutModel",
     "state": {
      "_view_name": "LayoutView",
      "grid_template_rows": null,
      "right": null,
      "justify_content": null,
      "_view_module": "@jupyter-widgets/base",
      "overflow": null,
      "_model_module_version": "1.2.0",
      "_view_count": null,
      "flex_flow": null,
      "width": null,
      "min_width": null,
      "border": null,
      "align_items": null,
      "bottom": null,
      "_model_module": "@jupyter-widgets/base",
      "top": null,
      "grid_column": null,
      "overflow_y": null,
      "overflow_x": null,
      "grid_auto_flow": null,
      "grid_area": null,
      "grid_template_columns": null,
      "flex": null,
      "_model_name": "LayoutModel",
      "justify_items": null,
      "grid_row": null,
      "max_height": null,
      "align_content": null,
      "visibility": null,
      "align_self": null,
      "height": null,
      "min_height": null,
      "padding": null,
      "grid_auto_rows": null,
      "grid_gap": null,
      "max_width": null,
      "order": null,
      "_view_module_version": "1.2.0",
      "grid_template_areas": null,
      "object_position": null,
      "object_fit": null,
      "grid_auto_columns": null,
      "margin": null,
      "display": null,
      "left": null
     },
     "model_module_version": "1.2.0"
    },
    "e58ae1725e6a4f9491c407461f141343": {
     "model_module": "@jupyter-widgets/controls",
     "model_name": "FloatProgressModel",
     "state": {
      "_view_name": "ProgressView",
      "style": "IPY_MODEL_d463d60607eb4f7a869a231ed1bc8c52",
      "_dom_classes": [],
      "description": "100%",
      "_model_name": "FloatProgressModel",
      "bar_style": "success",
      "max": 528987,
      "_view_module": "@jupyter-widgets/controls",
      "_model_module_version": "1.5.0",
      "value": 528987,
      "_view_count": null,
      "_view_module_version": "1.5.0",
      "orientation": "horizontal",
      "min": 0,
      "description_tooltip": null,
      "_model_module": "@jupyter-widgets/controls",
      "layout": "IPY_MODEL_862c04d0fd354c9e999b62a1f7eb09cf"
     },
     "model_module_version": "1.5.0"
    },
    "2fed6ef43be042b8b3ceca5c5b984f70": {
     "model_module": "@jupyter-widgets/controls",
     "model_name": "HTMLModel",
     "state": {
      "_view_name": "HTMLView",
      "style": "IPY_MODEL_ebf91196748544659f08b85f2f4d331f",
      "_dom_classes": [],
      "description": "",
      "_model_name": "HTMLModel",
      "placeholder": "​",
      "_view_module": "@jupyter-widgets/controls",
      "_model_module_version": "1.5.0",
      "value": " 528987/528987 [00:12&lt;00:00, 43449.18it/s]",
      "_view_count": null,
      "_view_module_version": "1.5.0",
      "description_tooltip": null,
      "_model_module": "@jupyter-widgets/controls",
      "layout": "IPY_MODEL_8d20e35b0f2c4c6d9370c95dbf0fe60a"
     },
     "model_module_version": "1.5.0"
    },
    "d463d60607eb4f7a869a231ed1bc8c52": {
     "model_module": "@jupyter-widgets/controls",
     "model_name": "ProgressStyleModel",
     "state": {
      "_view_name": "StyleView",
      "_model_name": "ProgressStyleModel",
      "description_width": "initial",
      "_view_module": "@jupyter-widgets/base",
      "_model_module_version": "1.5.0",
      "_view_count": null,
      "_view_module_version": "1.2.0",
      "bar_color": null,
      "_model_module": "@jupyter-widgets/controls"
     },
     "model_module_version": "1.5.0"
    },
    "862c04d0fd354c9e999b62a1f7eb09cf": {
     "model_module": "@jupyter-widgets/base",
     "model_name": "LayoutModel",
     "state": {
      "_view_name": "LayoutView",
      "grid_template_rows": null,
      "right": null,
      "justify_content": null,
      "_view_module": "@jupyter-widgets/base",
      "overflow": null,
      "_model_module_version": "1.2.0",
      "_view_count": null,
      "flex_flow": null,
      "width": null,
      "min_width": null,
      "border": null,
      "align_items": null,
      "bottom": null,
      "_model_module": "@jupyter-widgets/base",
      "top": null,
      "grid_column": null,
      "overflow_y": null,
      "overflow_x": null,
      "grid_auto_flow": null,
      "grid_area": null,
      "grid_template_columns": null,
      "flex": null,
      "_model_name": "LayoutModel",
      "justify_items": null,
      "grid_row": null,
      "max_height": null,
      "align_content": null,
      "visibility": null,
      "align_self": null,
      "height": null,
      "min_height": null,
      "padding": null,
      "grid_auto_rows": null,
      "grid_gap": null,
      "max_width": null,
      "order": null,
      "_view_module_version": "1.2.0",
      "grid_template_areas": null,
      "object_position": null,
      "object_fit": null,
      "grid_auto_columns": null,
      "margin": null,
      "display": null,
      "left": null
     },
     "model_module_version": "1.2.0"
    },
    "ebf91196748544659f08b85f2f4d331f": {
     "model_module": "@jupyter-widgets/controls",
     "model_name": "DescriptionStyleModel",
     "state": {
      "_view_name": "StyleView",
      "_model_name": "DescriptionStyleModel",
      "description_width": "",
      "_view_module": "@jupyter-widgets/base",
      "_model_module_version": "1.5.0",
      "_view_count": null,
      "_view_module_version": "1.2.0",
      "_model_module": "@jupyter-widgets/controls"
     },
     "model_module_version": "1.5.0"
    },
    "8d20e35b0f2c4c6d9370c95dbf0fe60a": {
     "model_module": "@jupyter-widgets/base",
     "model_name": "LayoutModel",
     "state": {
      "_view_name": "LayoutView",
      "grid_template_rows": null,
      "right": null,
      "justify_content": null,
      "_view_module": "@jupyter-widgets/base",
      "overflow": null,
      "_model_module_version": "1.2.0",
      "_view_count": null,
      "flex_flow": null,
      "width": null,
      "min_width": null,
      "border": null,
      "align_items": null,
      "bottom": null,
      "_model_module": "@jupyter-widgets/base",
      "top": null,
      "grid_column": null,
      "overflow_y": null,
      "overflow_x": null,
      "grid_auto_flow": null,
      "grid_area": null,
      "grid_template_columns": null,
      "flex": null,
      "_model_name": "LayoutModel",
      "justify_items": null,
      "grid_row": null,
      "max_height": null,
      "align_content": null,
      "visibility": null,
      "align_self": null,
      "height": null,
      "min_height": null,
      "padding": null,
      "grid_auto_rows": null,
      "grid_gap": null,
      "max_width": null,
      "order": null,
      "_view_module_version": "1.2.0",
      "grid_template_areas": null,
      "object_position": null,
      "object_fit": null,
      "grid_auto_columns": null,
      "margin": null,
      "display": null,
      "left": null
     },
     "model_module_version": "1.2.0"
    },
    "ba39fc09153c44039607875bec4ba9a7": {
     "model_module": "@jupyter-widgets/controls",
     "model_name": "HBoxModel",
     "model_module_version": "1.5.0",
     "state": {
      "_dom_classes": [],
      "_model_module": "@jupyter-widgets/controls",
      "_model_module_version": "1.5.0",
      "_model_name": "HBoxModel",
      "_view_count": null,
      "_view_module": "@jupyter-widgets/controls",
      "_view_module_version": "1.5.0",
      "_view_name": "HBoxView",
      "box_style": "",
      "children": [
       "IPY_MODEL_a2715bc7a2ac47b58c0317f5de214587",
       "IPY_MODEL_289a9e4085c348efbae213cbb584c615",
       "IPY_MODEL_77f8b33fbb8c462c9279c0867822348b"
      ],
      "layout": "IPY_MODEL_f38f6cb137ec47a1b4ebb1be2c522ca5"
     }
    },
    "a2715bc7a2ac47b58c0317f5de214587": {
     "model_module": "@jupyter-widgets/controls",
     "model_name": "HTMLModel",
     "model_module_version": "1.5.0",
     "state": {
      "_dom_classes": [],
      "_model_module": "@jupyter-widgets/controls",
      "_model_module_version": "1.5.0",
      "_model_name": "HTMLModel",
      "_view_count": null,
      "_view_module": "@jupyter-widgets/controls",
      "_view_module_version": "1.5.0",
      "_view_name": "HTMLView",
      "description": "",
      "description_tooltip": null,
      "layout": "IPY_MODEL_7eef0f160a6d489ca8c2eba368c36b48",
      "placeholder": "​",
      "style": "IPY_MODEL_3e33e96e691d4150ba2bad28a633e751",
      "value": "100%"
     }
    },
    "289a9e4085c348efbae213cbb584c615": {
     "model_module": "@jupyter-widgets/controls",
     "model_name": "FloatProgressModel",
     "model_module_version": "1.5.0",
     "state": {
      "_dom_classes": [],
      "_model_module": "@jupyter-widgets/controls",
      "_model_module_version": "1.5.0",
      "_model_name": "FloatProgressModel",
      "_view_count": null,
      "_view_module": "@jupyter-widgets/controls",
      "_view_module_version": "1.5.0",
      "_view_name": "ProgressView",
      "bar_style": "success",
      "description": "",
      "description_tooltip": null,
      "layout": "IPY_MODEL_57585720a0bf4b86b4e232e6011fcc52",
      "max": 226834,
      "min": 0,
      "orientation": "horizontal",
      "style": "IPY_MODEL_aaa0cd8f2aaa4a4fbba939b018e7a55f",
      "value": 226834
     }
    },
    "77f8b33fbb8c462c9279c0867822348b": {
     "model_module": "@jupyter-widgets/controls",
     "model_name": "HTMLModel",
     "model_module_version": "1.5.0",
     "state": {
      "_dom_classes": [],
      "_model_module": "@jupyter-widgets/controls",
      "_model_module_version": "1.5.0",
      "_model_name": "HTMLModel",
      "_view_count": null,
      "_view_module": "@jupyter-widgets/controls",
      "_view_module_version": "1.5.0",
      "_view_name": "HTMLView",
      "description": "",
      "description_tooltip": null,
      "layout": "IPY_MODEL_fe8a2816fd8f4d358a04f3b59c5a3f83",
      "placeholder": "​",
      "style": "IPY_MODEL_c1ef40a839904706965a2ce49a680f88",
      "value": " 226834/226834 [14:44&lt;00:00, 184.57it/s]"
     }
    },
    "f38f6cb137ec47a1b4ebb1be2c522ca5": {
     "model_module": "@jupyter-widgets/base",
     "model_name": "LayoutModel",
     "model_module_version": "1.2.0",
     "state": {
      "_model_module": "@jupyter-widgets/base",
      "_model_module_version": "1.2.0",
      "_model_name": "LayoutModel",
      "_view_count": null,
      "_view_module": "@jupyter-widgets/base",
      "_view_module_version": "1.2.0",
      "_view_name": "LayoutView",
      "align_content": null,
      "align_items": null,
      "align_self": null,
      "border": null,
      "bottom": null,
      "display": null,
      "flex": null,
      "flex_flow": null,
      "grid_area": null,
      "grid_auto_columns": null,
      "grid_auto_flow": null,
      "grid_auto_rows": null,
      "grid_column": null,
      "grid_gap": null,
      "grid_row": null,
      "grid_template_areas": null,
      "grid_template_columns": null,
      "grid_template_rows": null,
      "height": null,
      "justify_content": null,
      "justify_items": null,
      "left": null,
      "margin": null,
      "max_height": null,
      "max_width": null,
      "min_height": null,
      "min_width": null,
      "object_fit": null,
      "object_position": null,
      "order": null,
      "overflow": null,
      "overflow_x": null,
      "overflow_y": null,
      "padding": null,
      "right": null,
      "top": null,
      "visibility": null,
      "width": null
     }
    },
    "7eef0f160a6d489ca8c2eba368c36b48": {
     "model_module": "@jupyter-widgets/base",
     "model_name": "LayoutModel",
     "model_module_version": "1.2.0",
     "state": {
      "_model_module": "@jupyter-widgets/base",
      "_model_module_version": "1.2.0",
      "_model_name": "LayoutModel",
      "_view_count": null,
      "_view_module": "@jupyter-widgets/base",
      "_view_module_version": "1.2.0",
      "_view_name": "LayoutView",
      "align_content": null,
      "align_items": null,
      "align_self": null,
      "border": null,
      "bottom": null,
      "display": null,
      "flex": null,
      "flex_flow": null,
      "grid_area": null,
      "grid_auto_columns": null,
      "grid_auto_flow": null,
      "grid_auto_rows": null,
      "grid_column": null,
      "grid_gap": null,
      "grid_row": null,
      "grid_template_areas": null,
      "grid_template_columns": null,
      "grid_template_rows": null,
      "height": null,
      "justify_content": null,
      "justify_items": null,
      "left": null,
      "margin": null,
      "max_height": null,
      "max_width": null,
      "min_height": null,
      "min_width": null,
      "object_fit": null,
      "object_position": null,
      "order": null,
      "overflow": null,
      "overflow_x": null,
      "overflow_y": null,
      "padding": null,
      "right": null,
      "top": null,
      "visibility": null,
      "width": null
     }
    },
    "3e33e96e691d4150ba2bad28a633e751": {
     "model_module": "@jupyter-widgets/controls",
     "model_name": "DescriptionStyleModel",
     "model_module_version": "1.5.0",
     "state": {
      "_model_module": "@jupyter-widgets/controls",
      "_model_module_version": "1.5.0",
      "_model_name": "DescriptionStyleModel",
      "_view_count": null,
      "_view_module": "@jupyter-widgets/base",
      "_view_module_version": "1.2.0",
      "_view_name": "StyleView",
      "description_width": ""
     }
    },
    "57585720a0bf4b86b4e232e6011fcc52": {
     "model_module": "@jupyter-widgets/base",
     "model_name": "LayoutModel",
     "model_module_version": "1.2.0",
     "state": {
      "_model_module": "@jupyter-widgets/base",
      "_model_module_version": "1.2.0",
      "_model_name": "LayoutModel",
      "_view_count": null,
      "_view_module": "@jupyter-widgets/base",
      "_view_module_version": "1.2.0",
      "_view_name": "LayoutView",
      "align_content": null,
      "align_items": null,
      "align_self": null,
      "border": null,
      "bottom": null,
      "display": null,
      "flex": null,
      "flex_flow": null,
      "grid_area": null,
      "grid_auto_columns": null,
      "grid_auto_flow": null,
      "grid_auto_rows": null,
      "grid_column": null,
      "grid_gap": null,
      "grid_row": null,
      "grid_template_areas": null,
      "grid_template_columns": null,
      "grid_template_rows": null,
      "height": null,
      "justify_content": null,
      "justify_items": null,
      "left": null,
      "margin": null,
      "max_height": null,
      "max_width": null,
      "min_height": null,
      "min_width": null,
      "object_fit": null,
      "object_position": null,
      "order": null,
      "overflow": null,
      "overflow_x": null,
      "overflow_y": null,
      "padding": null,
      "right": null,
      "top": null,
      "visibility": null,
      "width": null
     }
    },
    "aaa0cd8f2aaa4a4fbba939b018e7a55f": {
     "model_module": "@jupyter-widgets/controls",
     "model_name": "ProgressStyleModel",
     "model_module_version": "1.5.0",
     "state": {
      "_model_module": "@jupyter-widgets/controls",
      "_model_module_version": "1.5.0",
      "_model_name": "ProgressStyleModel",
      "_view_count": null,
      "_view_module": "@jupyter-widgets/base",
      "_view_module_version": "1.2.0",
      "_view_name": "StyleView",
      "bar_color": null,
      "description_width": ""
     }
    },
    "fe8a2816fd8f4d358a04f3b59c5a3f83": {
     "model_module": "@jupyter-widgets/base",
     "model_name": "LayoutModel",
     "model_module_version": "1.2.0",
     "state": {
      "_model_module": "@jupyter-widgets/base",
      "_model_module_version": "1.2.0",
      "_model_name": "LayoutModel",
      "_view_count": null,
      "_view_module": "@jupyter-widgets/base",
      "_view_module_version": "1.2.0",
      "_view_name": "LayoutView",
      "align_content": null,
      "align_items": null,
      "align_self": null,
      "border": null,
      "bottom": null,
      "display": null,
      "flex": null,
      "flex_flow": null,
      "grid_area": null,
      "grid_auto_columns": null,
      "grid_auto_flow": null,
      "grid_auto_rows": null,
      "grid_column": null,
      "grid_gap": null,
      "grid_row": null,
      "grid_template_areas": null,
      "grid_template_columns": null,
      "grid_template_rows": null,
      "height": null,
      "justify_content": null,
      "justify_items": null,
      "left": null,
      "margin": null,
      "max_height": null,
      "max_width": null,
      "min_height": null,
      "min_width": null,
      "object_fit": null,
      "object_position": null,
      "order": null,
      "overflow": null,
      "overflow_x": null,
      "overflow_y": null,
      "padding": null,
      "right": null,
      "top": null,
      "visibility": null,
      "width": null
     }
    },
    "c1ef40a839904706965a2ce49a680f88": {
     "model_module": "@jupyter-widgets/controls",
     "model_name": "DescriptionStyleModel",
     "model_module_version": "1.5.0",
     "state": {
      "_model_module": "@jupyter-widgets/controls",
      "_model_module_version": "1.5.0",
      "_model_name": "DescriptionStyleModel",
      "_view_count": null,
      "_view_module": "@jupyter-widgets/base",
      "_view_module_version": "1.2.0",
      "_view_name": "StyleView",
      "description_width": ""
     }
    }
   }
  }
 },
 "cells": [
  {
   "cell_type": "markdown",
   "metadata": {
    "id": "ypt7ymI8X-rM"
   },
   "source": [
    "# Embeddings\n",
    "\n",
    "1. Использовать предобученную модель word2vec с сайта RusVectōrēs для решения задач: поиска n ближайших по смыслу слов, сложения и вычитания смысловых векторов, нахождения лишнего слова.\n",
    "2. Провести обучение своей модели с использованием датасета с размеченными и неразмеченными отзывами о фильмах.\n",
    "3. Провести дообучение существующей модели.\n",
    "4. Выполнить оценку качества модели.\n",
    "5. Выполнить t-SNE преобразование (без SVD и с SVD) визуализацию модели.\n",
    "6. Использовать технологию fasttext, обучить модель и аналогично выполнить задачи: получения ближайших соседей, аналогий.\n",
    "7. Решить задачу анализа тональности твитов с применением описанных выше технологий."
   ]
  },
  {
   "cell_type": "code",
   "metadata": {
    "id": "sTLnNKaNX-rP",
    "ExecuteTime": {
     "end_time": "2025-05-29T16:29:34.392648Z",
     "start_time": "2025-05-29T16:29:34.284900Z"
    }
   },
   "source": [
    "import urllib.request\n",
    "import gensim\n",
    "from gensim.models import word2vec\n",
    "import zipfile"
   ],
   "outputs": [],
   "execution_count": 3
  },
  {
   "cell_type": "code",
   "metadata": {
    "colab": {
     "base_uri": "https://localhost:8080/",
     "height": 379
    },
    "id": "zm9z6SN3X-rS",
    "outputId": "5c607a3d-8111-45b8-d1ee-4cc0be6e30f4",
    "ExecuteTime": {
     "end_time": "2025-05-29T16:31:08.581714Z",
     "start_time": "2025-05-29T16:29:34.403212Z"
    }
   },
   "source": [
    "urllib.request.urlretrieve(\n",
    "\"https://vectors.nlpl.eu/repository/20/220.zip\",\n",
    "\"ruwikiruscorpora_upos_cbow_300_10_2021.zip\"\n",
    ")\n",
    "\n",
    "with zipfile.ZipFile(\n",
    " \"ruwikiruscorpora_upos_cbow_300_10_2021.zip\", 'r'\n",
    " ) as zip_ref:\n",
    " zip_ref.extractall(\"model\")"
   ],
   "outputs": [
    {
     "ename": "KeyboardInterrupt",
     "evalue": "",
     "output_type": "error",
     "traceback": [
      "\u001B[0;31m---------------------------------------------------------------------------\u001B[0m",
      "\u001B[0;31mKeyboardInterrupt\u001B[0m                         Traceback (most recent call last)",
      "Cell \u001B[0;32mIn[4], line 1\u001B[0m\n\u001B[0;32m----> 1\u001B[0m \u001B[43murllib\u001B[49m\u001B[38;5;241;43m.\u001B[39;49m\u001B[43mrequest\u001B[49m\u001B[38;5;241;43m.\u001B[39;49m\u001B[43murlretrieve\u001B[49m\u001B[43m(\u001B[49m\n\u001B[1;32m      2\u001B[0m \u001B[38;5;124;43m\"\u001B[39;49m\u001B[38;5;124;43mhttps://vectors.nlpl.eu/repository/20/220.zip\u001B[39;49m\u001B[38;5;124;43m\"\u001B[39;49m\u001B[43m,\u001B[49m\n\u001B[1;32m      3\u001B[0m \u001B[38;5;124;43m\"\u001B[39;49m\u001B[38;5;124;43mruwikiruscorpora_upos_cbow_300_10_2021.zip\u001B[39;49m\u001B[38;5;124;43m\"\u001B[39;49m\n\u001B[1;32m      4\u001B[0m \u001B[43m)\u001B[49m\n\u001B[1;32m      6\u001B[0m \u001B[38;5;28;01mwith\u001B[39;00m zipfile\u001B[38;5;241m.\u001B[39mZipFile(\n\u001B[1;32m      7\u001B[0m  \u001B[38;5;124m\"\u001B[39m\u001B[38;5;124mruwikiruscorpora_upos_cbow_300_10_2021.zip\u001B[39m\u001B[38;5;124m\"\u001B[39m, \u001B[38;5;124m'\u001B[39m\u001B[38;5;124mr\u001B[39m\u001B[38;5;124m'\u001B[39m\n\u001B[1;32m      8\u001B[0m  ) \u001B[38;5;28;01mas\u001B[39;00m zip_ref:\n\u001B[1;32m      9\u001B[0m  zip_ref\u001B[38;5;241m.\u001B[39mextractall(\u001B[38;5;124m\"\u001B[39m\u001B[38;5;124mmodel\u001B[39m\u001B[38;5;124m\"\u001B[39m)\n",
      "File \u001B[0;32m/usr/lib/python3.10/urllib/request.py:270\u001B[0m, in \u001B[0;36murlretrieve\u001B[0;34m(url, filename, reporthook, data)\u001B[0m\n\u001B[1;32m    267\u001B[0m     reporthook(blocknum, bs, size)\n\u001B[1;32m    269\u001B[0m \u001B[38;5;28;01mwhile\u001B[39;00m \u001B[38;5;28;01mTrue\u001B[39;00m:\n\u001B[0;32m--> 270\u001B[0m     block \u001B[38;5;241m=\u001B[39m \u001B[43mfp\u001B[49m\u001B[38;5;241;43m.\u001B[39;49m\u001B[43mread\u001B[49m\u001B[43m(\u001B[49m\u001B[43mbs\u001B[49m\u001B[43m)\u001B[49m\n\u001B[1;32m    271\u001B[0m     \u001B[38;5;28;01mif\u001B[39;00m \u001B[38;5;129;01mnot\u001B[39;00m block:\n\u001B[1;32m    272\u001B[0m         \u001B[38;5;28;01mbreak\u001B[39;00m\n",
      "File \u001B[0;32m/usr/lib/python3.10/http/client.py:466\u001B[0m, in \u001B[0;36mHTTPResponse.read\u001B[0;34m(self, amt)\u001B[0m\n\u001B[1;32m    463\u001B[0m \u001B[38;5;28;01mif\u001B[39;00m \u001B[38;5;28mself\u001B[39m\u001B[38;5;241m.\u001B[39mlength \u001B[38;5;129;01mis\u001B[39;00m \u001B[38;5;129;01mnot\u001B[39;00m \u001B[38;5;28;01mNone\u001B[39;00m \u001B[38;5;129;01mand\u001B[39;00m amt \u001B[38;5;241m>\u001B[39m \u001B[38;5;28mself\u001B[39m\u001B[38;5;241m.\u001B[39mlength:\n\u001B[1;32m    464\u001B[0m     \u001B[38;5;66;03m# clip the read to the \"end of response\"\u001B[39;00m\n\u001B[1;32m    465\u001B[0m     amt \u001B[38;5;241m=\u001B[39m \u001B[38;5;28mself\u001B[39m\u001B[38;5;241m.\u001B[39mlength\n\u001B[0;32m--> 466\u001B[0m s \u001B[38;5;241m=\u001B[39m \u001B[38;5;28;43mself\u001B[39;49m\u001B[38;5;241;43m.\u001B[39;49m\u001B[43mfp\u001B[49m\u001B[38;5;241;43m.\u001B[39;49m\u001B[43mread\u001B[49m\u001B[43m(\u001B[49m\u001B[43mamt\u001B[49m\u001B[43m)\u001B[49m\n\u001B[1;32m    467\u001B[0m \u001B[38;5;28;01mif\u001B[39;00m \u001B[38;5;129;01mnot\u001B[39;00m s \u001B[38;5;129;01mand\u001B[39;00m amt:\n\u001B[1;32m    468\u001B[0m     \u001B[38;5;66;03m# Ideally, we would raise IncompleteRead if the content-length\u001B[39;00m\n\u001B[1;32m    469\u001B[0m     \u001B[38;5;66;03m# wasn't satisfied, but it might break compatibility.\u001B[39;00m\n\u001B[1;32m    470\u001B[0m     \u001B[38;5;28mself\u001B[39m\u001B[38;5;241m.\u001B[39m_close_conn()\n",
      "File \u001B[0;32m/usr/lib/python3.10/socket.py:705\u001B[0m, in \u001B[0;36mSocketIO.readinto\u001B[0;34m(self, b)\u001B[0m\n\u001B[1;32m    703\u001B[0m \u001B[38;5;28;01mwhile\u001B[39;00m \u001B[38;5;28;01mTrue\u001B[39;00m:\n\u001B[1;32m    704\u001B[0m     \u001B[38;5;28;01mtry\u001B[39;00m:\n\u001B[0;32m--> 705\u001B[0m         \u001B[38;5;28;01mreturn\u001B[39;00m \u001B[38;5;28;43mself\u001B[39;49m\u001B[38;5;241;43m.\u001B[39;49m\u001B[43m_sock\u001B[49m\u001B[38;5;241;43m.\u001B[39;49m\u001B[43mrecv_into\u001B[49m\u001B[43m(\u001B[49m\u001B[43mb\u001B[49m\u001B[43m)\u001B[49m\n\u001B[1;32m    706\u001B[0m     \u001B[38;5;28;01mexcept\u001B[39;00m timeout:\n\u001B[1;32m    707\u001B[0m         \u001B[38;5;28mself\u001B[39m\u001B[38;5;241m.\u001B[39m_timeout_occurred \u001B[38;5;241m=\u001B[39m \u001B[38;5;28;01mTrue\u001B[39;00m\n",
      "File \u001B[0;32m/usr/lib/python3.10/ssl.py:1303\u001B[0m, in \u001B[0;36mSSLSocket.recv_into\u001B[0;34m(self, buffer, nbytes, flags)\u001B[0m\n\u001B[1;32m   1299\u001B[0m     \u001B[38;5;28;01mif\u001B[39;00m flags \u001B[38;5;241m!=\u001B[39m \u001B[38;5;241m0\u001B[39m:\n\u001B[1;32m   1300\u001B[0m         \u001B[38;5;28;01mraise\u001B[39;00m \u001B[38;5;167;01mValueError\u001B[39;00m(\n\u001B[1;32m   1301\u001B[0m           \u001B[38;5;124m\"\u001B[39m\u001B[38;5;124mnon-zero flags not allowed in calls to recv_into() on \u001B[39m\u001B[38;5;132;01m%s\u001B[39;00m\u001B[38;5;124m\"\u001B[39m \u001B[38;5;241m%\u001B[39m\n\u001B[1;32m   1302\u001B[0m           \u001B[38;5;28mself\u001B[39m\u001B[38;5;241m.\u001B[39m\u001B[38;5;18m__class__\u001B[39m)\n\u001B[0;32m-> 1303\u001B[0m     \u001B[38;5;28;01mreturn\u001B[39;00m \u001B[38;5;28;43mself\u001B[39;49m\u001B[38;5;241;43m.\u001B[39;49m\u001B[43mread\u001B[49m\u001B[43m(\u001B[49m\u001B[43mnbytes\u001B[49m\u001B[43m,\u001B[49m\u001B[43m \u001B[49m\u001B[43mbuffer\u001B[49m\u001B[43m)\u001B[49m\n\u001B[1;32m   1304\u001B[0m \u001B[38;5;28;01melse\u001B[39;00m:\n\u001B[1;32m   1305\u001B[0m     \u001B[38;5;28;01mreturn\u001B[39;00m \u001B[38;5;28msuper\u001B[39m()\u001B[38;5;241m.\u001B[39mrecv_into(buffer, nbytes, flags)\n",
      "File \u001B[0;32m/usr/lib/python3.10/ssl.py:1159\u001B[0m, in \u001B[0;36mSSLSocket.read\u001B[0;34m(self, len, buffer)\u001B[0m\n\u001B[1;32m   1157\u001B[0m \u001B[38;5;28;01mtry\u001B[39;00m:\n\u001B[1;32m   1158\u001B[0m     \u001B[38;5;28;01mif\u001B[39;00m buffer \u001B[38;5;129;01mis\u001B[39;00m \u001B[38;5;129;01mnot\u001B[39;00m \u001B[38;5;28;01mNone\u001B[39;00m:\n\u001B[0;32m-> 1159\u001B[0m         \u001B[38;5;28;01mreturn\u001B[39;00m \u001B[38;5;28;43mself\u001B[39;49m\u001B[38;5;241;43m.\u001B[39;49m\u001B[43m_sslobj\u001B[49m\u001B[38;5;241;43m.\u001B[39;49m\u001B[43mread\u001B[49m\u001B[43m(\u001B[49m\u001B[38;5;28;43mlen\u001B[39;49m\u001B[43m,\u001B[49m\u001B[43m \u001B[49m\u001B[43mbuffer\u001B[49m\u001B[43m)\u001B[49m\n\u001B[1;32m   1160\u001B[0m     \u001B[38;5;28;01melse\u001B[39;00m:\n\u001B[1;32m   1161\u001B[0m         \u001B[38;5;28;01mreturn\u001B[39;00m \u001B[38;5;28mself\u001B[39m\u001B[38;5;241m.\u001B[39m_sslobj\u001B[38;5;241m.\u001B[39mread(\u001B[38;5;28mlen\u001B[39m)\n",
      "\u001B[0;31mKeyboardInterrupt\u001B[0m: "
     ]
    }
   ],
   "execution_count": 4
  },
  {
   "cell_type": "code",
   "metadata": {
    "id": "mkuCawyFX-rW",
    "ExecuteTime": {
     "end_time": "2025-05-29T16:31:14.419421Z",
     "start_time": "2025-05-29T16:31:11.680094Z"
    }
   },
   "source": [
    "model_path = 'model/model.bin'\n",
    "\n",
    "model_ru = gensim.models.KeyedVectors.load_word2vec_format(model_path, binary=True)"
   ],
   "outputs": [],
   "execution_count": 5
  },
  {
   "metadata": {},
   "cell_type": "markdown",
   "source": "Посмотрим на ближайших соседей следующей группы слов:"
  },
  {
   "cell_type": "code",
   "metadata": {
    "id": "H4D0hMgkX-rY",
    "ExecuteTime": {
     "end_time": "2025-05-29T16:31:18.973100Z",
     "start_time": "2025-05-29T16:31:18.969274Z"
    }
   },
   "source": "words = ['день_NOUN', 'ночь_NOUN', 'человек_NOUN', 'семантика_NOUN', 'биткоин_NOUN']",
   "outputs": [],
   "execution_count": 6
  },
  {
   "cell_type": "code",
   "metadata": {
    "colab": {
     "base_uri": "https://localhost:8080/"
    },
    "id": "9Uer5sHyX-ra",
    "outputId": "e3669c3f-9808-4b52-d96b-52490620a513",
    "ExecuteTime": {
     "end_time": "2025-05-29T16:31:19.210297Z",
     "start_time": "2025-05-29T16:31:18.999196Z"
    }
   },
   "source": [
    "for word in words:\n",
    "    if word in model_ru:\n",
    "        print(word)\n",
    "        print(model_ru[word][:10])\n",
    "        for word, sim in model_ru.most_similar(positive=[word], topn=10):\n",
    "            print(word, ': ', sim)\n",
    "        print('\\n')\n",
    "    else:\n",
    "        print('Увы, слова \"%s\" нет в модели!' % word)"
   ],
   "outputs": [
    {
     "name": "stdout",
     "output_type": "stream",
     "text": [
      "день_NOUN\n",
      "[ 1.607006    0.88105875 -0.90222335  0.1547316   2.5412288  -0.7520914\n",
      "  1.7317989   0.5731876  -2.1542902  -2.353275  ]\n",
      "неделя_NOUN :  0.767143726348877\n",
      "месяц_NOUN :  0.7355299592018127\n",
      "утро_NOUN :  0.6559638381004333\n",
      "час_NOUN :  0.6324191689491272\n",
      "ночь_NOUN :  0.5809687972068787\n",
      "сутки_NOUN :  0.5776057243347168\n",
      "вечер_NOUN :  0.5675091743469238\n",
      "минута_NOUN :  0.548324465751648\n",
      "день»_PROPN :  0.5270609259605408\n",
      "денька_NOUN :  0.515771210193634\n",
      "\n",
      "\n",
      "ночь_NOUN\n",
      "[-1.9102603  -1.5677836   0.5107194   0.7136092  -1.7047127  -4.622845\n",
      "  3.485842    1.2509006   0.04754175 -1.8432467 ]\n",
      "вечер_NOUN :  0.7615349292755127\n",
      "утро_NOUN :  0.7531794309616089\n",
      "рассвет_NOUN :  0.727114737033844\n",
      "полночь_NOUN :  0.6713059544563293\n",
      "полдень_NOUN :  0.6476588249206543\n",
      "сумерки_NOUN :  0.60179603099823\n",
      "утр_NOUN :  0.5851607322692871\n",
      "день_NOUN :  0.5809688568115234\n",
      "темнота_NOUN :  0.5586055517196655\n",
      "ночной_ADJ :  0.5421528220176697\n",
      "\n",
      "\n",
      "человек_NOUN\n",
      "[-3.8098485   2.7259772   1.1949589  -1.3183012   2.5352347  -1.1812418\n",
      "  0.43386376 -0.49407318 -2.751272   -3.2406285 ]\n",
      "житель_NOUN :  0.611152172088623\n",
      "женщина_NOUN :  0.5880182385444641\n",
      "мужчина_NOUN :  0.5467938184738159\n",
      "душа_NOUN :  0.5095201730728149\n",
      "более_ADV :  0.49628716707229614\n",
      "население_NOUN :  0.4762383997440338\n",
      "человеческий_ADJ :  0.4728815257549286\n",
      "солдат_NOUN :  0.4657357335090637\n",
      "пациент_NOUN :  0.4500826597213745\n",
      "ребенок_NOUN :  0.4453369081020355\n",
      "\n",
      "\n",
      "семантика_NOUN\n",
      "[ 0.8795417  -0.24299768  0.48081356 -0.49417803  3.1144907   0.74110126\n",
      " -0.69421816 -1.0950029   4.286728    0.7727813 ]\n",
      "семантический_ADJ :  0.7910400032997131\n",
      "синтаксический_ADJ :  0.7384093403816223\n",
      "синтаксис_NOUN :  0.7115976810455322\n",
      "семантика_PROPN :  0.6700522899627686\n",
      "референция_NOUN :  0.6674174666404724\n",
      "лингвистический_ADJ :  0.6506384015083313\n",
      "грамматический_ADJ :  0.6489705443382263\n",
      "диахронический_ADJ :  0.6474006772041321\n",
      "предикативный_ADJ :  0.6456334590911865\n",
      "смысловой_ADJ :  0.6449254155158997\n",
      "\n",
      "\n",
      "Увы, слова \"биткоин_NOUN\" нет в модели!\n"
     ]
    }
   ],
   "execution_count": 7
  },
  {
   "cell_type": "markdown",
   "metadata": {
    "id": "1GqDmAcJX-rc"
   },
   "source": [
    "Находить косинусную близость пары слов функцией ```similarity()```:"
   ]
  },
  {
   "cell_type": "code",
   "metadata": {
    "colab": {
     "base_uri": "https://localhost:8080/"
    },
    "id": "MDFjOSJjX-rd",
    "outputId": "eb0e1304-1bf4-4972-b42e-df2371768371",
    "ExecuteTime": {
     "end_time": "2025-05-29T16:31:19.265612Z",
     "start_time": "2025-05-29T16:31:19.258528Z"
    }
   },
   "source": "print(model_ru.similarity('человек_NOUN', 'обезьяна_NOUN'))",
   "outputs": [
    {
     "name": "stdout",
     "output_type": "stream",
     "text": [
      "0.26860568\n"
     ]
    }
   ],
   "execution_count": 8
  },
  {
   "cell_type": "markdown",
   "metadata": {
    "id": "B0w4pQooX-rf"
   },
   "source": [
    "У загруженной модели много различных функций. Например, можно решать задачи на семантическую близость.\n",
    "\n",
    "Что получится, если вычесть из пиццы Италию и прибавить Сибирь?\n",
    "\n",
    "Для решения примера в качестве параметров метода ```most_similar()``` необходимо передать:\n",
    "* positive — вектора, которые мы складываем\n",
    "* negative — вектора, которые вычитаем\n",
    "\n",
    "*Замечание:* не забываем взять самый близкий элемент, для этого необходимо указать ```[0][0]```."
   ]
  },
  {
   "cell_type": "code",
   "metadata": {
    "colab": {
     "base_uri": "https://localhost:8080/"
    },
    "id": "N0L5_TCQX-rf",
    "outputId": "dd948d67-28bc-4f48-c2db-57db4d6c51b7",
    "ExecuteTime": {
     "end_time": "2025-05-29T16:31:19.338160Z",
     "start_time": "2025-05-29T16:31:19.324690Z"
    }
   },
   "source": "print(model_ru.most_similar(positive=['футбол_NOUN', 'россия_NOUN'], negative=['хоккей_NOUN'])[0][0])",
   "outputs": [
    {
     "name": "stdout",
     "output_type": "stream",
     "text": [
      "геополитика_PROPN\n"
     ]
    }
   ],
   "execution_count": 9
  },
  {
   "cell_type": "code",
   "metadata": {
    "colab": {
     "base_uri": "https://localhost:8080/"
    },
    "id": "-fmv1d051n35",
    "outputId": "805c18cf-1d6e-46c4-b280-595db343afc0",
    "ExecuteTime": {
     "end_time": "2025-05-29T16:31:19.495062Z",
     "start_time": "2025-05-29T16:31:19.420439Z"
    }
   },
   "source": [
    "# придумайте и проверьте с помощью метода most_similar какую-нибудь аналогию\n",
    "languages = {\n",
    "key: model_ru.most_similar(positive=['английский_NOUN', key],\n",
    "negative=['великобритания_NOUN'])[0][0]\n",
    "for key in ['россия_NOUN', 'франция_NOUN', 'япония_NOUN', 'испания_NOUN']\n",
    "}\n",
    "\n",
    "print(languages)\n",
    "\n",
    "print(model_ru.most_similar(positive=['король_NOUN',\n",
    "'женщина_NOUN'], negative=['мужчина_NOUN'])[0][0])"
   ],
   "outputs": [
    {
     "name": "stdout",
     "output_type": "stream",
     "text": [
      "{'россия_NOUN': 'русяча_NOUN', 'франция_NOUN': 'франц_NOUN', 'япония_NOUN': 'англ_ADJ', 'испания_NOUN': 'англ_ADJ'}\n",
      "королева_NOUN\n"
     ]
    }
   ],
   "execution_count": 10
  },
  {
   "cell_type": "markdown",
   "metadata": {
    "id": "kqEwG7HiypUc"
   },
   "source": [
    "Метод ```doesnt_match()``` находит \"лишнее слово\" в группе слов:"
   ]
  },
  {
   "cell_type": "code",
   "metadata": {
    "colab": {
     "base_uri": "https://localhost:8080/",
     "height": 91
    },
    "id": "DrN2Jc31X-rh",
    "outputId": "3bff9e4d-7a8f-40e0-deff-1b83f12b0256",
    "ExecuteTime": {
     "end_time": "2025-05-29T16:31:19.553020Z",
     "start_time": "2025-05-29T16:31:19.536966Z"
    }
   },
   "source": "model_ru.doesnt_match('пицца_NOUN пельмень_NOUN хот-дог_NOUN ананас_NOUN'.split())",
   "outputs": [
    {
     "data": {
      "text/plain": [
       "'ананас_NOUN'"
      ]
     },
     "execution_count": 11,
     "metadata": {},
     "output_type": "execute_result"
    }
   ],
   "execution_count": 11
  },
  {
   "cell_type": "markdown",
   "metadata": {
    "id": "ZNHMtmbqX-rl"
   },
   "source": "## Собственная модель"
  },
  {
   "cell_type": "code",
   "metadata": {
    "colab": {
     "base_uri": "https://localhost:8080/"
    },
    "id": "-1Vz9le-X-rl",
    "outputId": "0bbe7de0-41f6-44eb-ee05-06b9b18ee8b5",
    "ExecuteTime": {
     "end_time": "2025-05-29T16:31:28.125113Z",
     "start_time": "2025-05-29T16:31:19.605913Z"
    }
   },
   "source": [
    "# скачиваем датасет\n",
    "! wget https://raw.githubusercontent.com/ancatmara/data-science-nlp/master/data/w2v/train/unlabeledTrainData.tsv"
   ],
   "outputs": [
    {
     "name": "stdout",
     "output_type": "stream",
     "text": [
      "/bin/bash: warning: setlocale: LC_ALL: cannot change locale (en_US.UTF-8)\r\n",
      "--2025-05-29 19:31:19--  https://raw.githubusercontent.com/ancatmara/data-science-nlp/master/data/w2v/train/unlabeledTrainData.tsv\r\n",
      "Resolving raw.githubusercontent.com (raw.githubusercontent.com)... 185.199.109.133, 185.199.110.133, 185.199.111.133, ...\r\n",
      "Connecting to raw.githubusercontent.com (raw.githubusercontent.com)|185.199.109.133|:443... connected.\r\n",
      "HTTP request sent, awaiting response... 200 OK\r\n",
      "Length: 67281491 (64M) [text/plain]\r\n",
      "Saving to: 'unlabeledTrainData.tsv.1'\r\n",
      "\r\n",
      "unlabeledTrainData. 100%[===================>]  64.16M  13.8MB/s    in 7.9s    \r\n",
      "\r\n",
      "2025-05-29 19:31:28 (8.17 MB/s) - 'unlabeledTrainData.tsv.1' saved [67281491/67281491]\r\n",
      "\r\n"
     ]
    }
   ],
   "execution_count": 12
  },
  {
   "cell_type": "markdown",
   "metadata": {
    "id": "oIZaQ3kYX-rt"
   },
   "source": [
    "Нам необходимо отчистить данные от лишнего: убрать ссылки, html-разметку и небуквенные символы. Затем нужно привести все к нижнему регистру и токенизировать.\n",
    "\n",
    "На выходе мы хотим получить массив из предложений, каждое из которых представляет собой массив слов.\n",
    "\n",
    "Импортируем необходимые библиотеки и методы:"
   ]
  },
  {
   "cell_type": "code",
   "metadata": {
    "colab": {
     "base_uri": "https://localhost:8080/"
    },
    "id": "4hm6sz-LzaTl",
    "outputId": "70e472c3-5c60-42ad-caa4-c1686d6c03a4",
    "ExecuteTime": {
     "end_time": "2025-05-29T16:31:29.446878Z",
     "start_time": "2025-05-29T16:31:28.140311Z"
    }
   },
   "source": [
    "import pandas as pd\n",
    "import nltk.data\n",
    "import re\n",
    "from bs4 import BeautifulSoup\n",
    "from nltk.corpus import stopwords\n",
    "from nltk.tokenize import sent_tokenize, RegexpTokenizer\n",
    "import gensim\n",
    "\n",
    "nltk.download('punkt')\n",
    "nltk.download('punkt_tab')\n",
    "data = pd.read_csv(\"unlabeledTrainData.tsv\", header=0, delimiter=\"\\t\", quoting =3)\n",
    "tokenizer = nltk.data.load('tokenizers/punkt/english.pickle')"
   ],
   "outputs": [
    {
     "name": "stderr",
     "output_type": "stream",
     "text": [
      "[nltk_data] Downloading package punkt to /home/glebmavi/nltk_data...\n",
      "[nltk_data]   Package punkt is already up-to-date!\n",
      "[nltk_data] Downloading package punkt_tab to\n",
      "[nltk_data]     /home/glebmavi/nltk_data...\n",
      "[nltk_data]   Package punkt_tab is already up-to-date!\n"
     ]
    }
   ],
   "execution_count": 13
  },
  {
   "cell_type": "markdown",
   "metadata": {
    "id": "crMypdC30jrp"
   },
   "source": [
    "Функции для очистки данных:"
   ]
  },
  {
   "cell_type": "code",
   "metadata": {
    "id": "irbunSOfX-rt",
    "ExecuteTime": {
     "end_time": "2025-05-29T16:31:29.466122Z",
     "start_time": "2025-05-29T16:31:29.461550Z"
    }
   },
   "source": [
    "def review_to_wordlist(review, remove_stopwords=False):\n",
    "    # убираем ссылки вне тегов\n",
    "    review = re.sub(r\"http[s]?://(?:[a-zA-Z]|[0-9]|[$-_@.&+]|[!*\\(\\),]|(?:%[0-9a-fA-F][0-9a-fA-F]))+\", \" \", review)\n",
    "    # достаем сам текст\n",
    "    review_text = BeautifulSoup(review, \"lxml\").get_text()\n",
    "    # оставляем только буквенные символы\n",
    "    review_text = re.sub(\"[^a-zA-Z]\",\" \", review_text)\n",
    "    words = review_text.lower().split()\n",
    "    if remove_stopwords:\n",
    "      # убираем стоп-слова\n",
    "        stops = stopwords.words(\"english\")\n",
    "        words = [w for w in words if not w in stops]\n",
    "    return(words)\n",
    "\n",
    "def review_to_sentences(review, tokenizer, remove_stopwords=False):\n",
    "    raw_sentences = tokenizer.tokenize(review.strip())\n",
    "    sentences = []\n",
    "    for raw_sentence in raw_sentences:\n",
    "        if len(raw_sentence) > 0:\n",
    "            sentences.append(review_to_wordlist(raw_sentence, remove_stopwords))\n",
    "    return sentences"
   ],
   "outputs": [],
   "execution_count": 14
  },
  {
   "cell_type": "markdown",
   "metadata": {
    "id": "M7LYYyZB0zoV"
   },
   "source": [
    "Проходим по всему датасету и парсим написанной выше функцией текст в списки слов, удаляя при этом лишнее:"
   ]
  },
  {
   "cell_type": "code",
   "metadata": {
    "colab": {
     "base_uri": "https://localhost:8080/"
    },
    "id": "bolPEuQgX-rv",
    "outputId": "67eddbeb-8aaf-43ba-b94f-cb048d59ea79",
    "ExecuteTime": {
     "end_time": "2025-05-29T16:32:37.316247Z",
     "start_time": "2025-05-29T16:31:29.528020Z"
    }
   },
   "source": [
    "sentences = []\n",
    "\n",
    "print(\"Parsing sentences from training set...\")\n",
    "for review in data[\"review\"]:\n",
    "    sentences += review_to_sentences(review, tokenizer)"
   ],
   "outputs": [
    {
     "name": "stdout",
     "output_type": "stream",
     "text": [
      "Parsing sentences from training set...\n"
     ]
    }
   ],
   "execution_count": 15
  },
  {
   "cell_type": "markdown",
   "metadata": {
    "id": "SKOn9yqG06fj"
   },
   "source": [
    "Посмотрим, что получилось:"
   ]
  },
  {
   "cell_type": "code",
   "metadata": {
    "colab": {
     "base_uri": "https://localhost:8080/"
    },
    "id": "FbrH6TdfX-rx",
    "outputId": "2a20045c-ea29-4b39-8ecb-33893737f7cd",
    "ExecuteTime": {
     "end_time": "2025-05-29T16:32:37.340355Z",
     "start_time": "2025-05-29T16:32:37.337051Z"
    }
   },
   "source": [
    "print(len(sentences))\n",
    "print(sentences[0])"
   ],
   "outputs": [
    {
     "name": "stdout",
     "output_type": "stream",
     "text": [
      "529416\n",
      "['watching', 'time', 'chasers', 'it', 'obvious', 'that', 'it', 'was', 'made', 'by', 'a', 'bunch', 'of', 'friends']\n"
     ]
    }
   ],
   "execution_count": 16
  },
  {
   "cell_type": "code",
   "metadata": {
    "id": "JB37dj2tg-dk",
    "ExecuteTime": {
     "end_time": "2025-05-29T16:32:37.421573Z",
     "start_time": "2025-05-29T16:32:37.399528Z"
    }
   },
   "source": [
    "# это понадобится нам позже для обучения другой модели эмбеддингов\n",
    "\n",
    "with open('clean_text.txt', 'w') as f:\n",
    "    for s in sentences[:5000]:\n",
    "        f.write(' '.join(s))\n",
    "        f.write('\\n')"
   ],
   "outputs": [],
   "execution_count": 17
  },
  {
   "cell_type": "markdown",
   "metadata": {
    "id": "qqFhuv7XX-r1"
   },
   "source": [
    "Обучаем и сохраняем модель.\n",
    "\n",
    "\n",
    "Основные параметры:\n",
    "* данные должны быть итерируемым объектом\n",
    "* size — размер вектора,\n",
    "* window — размер окна наблюдения,\n",
    "* min_count — мин. частотность слова в корпусе,\n",
    "* sg — используемый алгоритм обучения (0 — CBOW, 1 — Skip-gram),\n",
    "* sample — порог для downsampling'a высокочастотных слов,\n",
    "* workers — количество потоков,\n",
    "* alpha — learning rate,\n",
    "* iter — количество итераций,\n",
    "* max_vocab_size — позволяет выставить ограничение по памяти при создании словаря (т.е. если ограничение превышается, то низкочастотные слова будут выбрасываться). Для сравнения: 10 млн слов = 1Гб RAM.\n",
    "\n",
    "**NB!** Обратите внимание, что тренировка модели не включает препроцессинг! Это значит, что избавляться от пунктуации, приводить слова к нижнему регистру, лемматизировать их, проставлять частеречные теги придется до тренировки модели (если, конечно, это необходимо для вашей задачи). Т.е. в каком виде слова будут в исходном тексте, в таком они будут и в модели."
   ]
  },
  {
   "cell_type": "code",
   "metadata": {
    "colab": {
     "base_uri": "https://localhost:8080/",
     "height": 178
    },
    "id": "OB2FqIioX-r1",
    "outputId": "929e6376-484c-4cf4-b8e3-4bd9486cb39d",
    "ExecuteTime": {
     "end_time": "2025-05-29T16:33:07.882438Z",
     "start_time": "2025-05-29T16:32:37.457200Z"
    }
   },
   "source": [
    "# обучаем модель с векторами размерности 300, длиной окна 10\n",
    "model_en = gensim.models.Word2Vec(sentences, workers=4, vector_size=300, min_count=10, window=10, sample=1e-3)"
   ],
   "outputs": [],
   "execution_count": 18
  },
  {
   "cell_type": "markdown",
   "metadata": {
    "id": "HFU6SYAZX-r3"
   },
   "source": [
    "Смотрим, сколько в модели слов."
   ]
  },
  {
   "cell_type": "code",
   "metadata": {
    "colab": {
     "base_uri": "https://localhost:8080/"
    },
    "id": "HA3P0CUYX-r4",
    "outputId": "18a6f624-bf4b-40f5-9dfe-d8c7cbb49d5a",
    "ExecuteTime": {
     "end_time": "2025-05-29T16:33:07.939468Z",
     "start_time": "2025-05-29T16:33:07.936214Z"
    }
   },
   "source": "print(len(model_en.wv))",
   "outputs": [
    {
     "name": "stdout",
     "output_type": "stream",
     "text": [
      "28308\n"
     ]
    }
   ],
   "execution_count": 19
  },
  {
   "cell_type": "markdown",
   "metadata": {
    "id": "2mU9sbGYX-r8"
   },
   "source": [
    "Попробуем оценить модель вручную, порешав примеры. Несколько дано ниже, попробуйте придумать свои."
   ]
  },
  {
   "cell_type": "code",
   "metadata": {
    "colab": {
     "base_uri": "https://localhost:8080/"
    },
    "id": "n8OQxmUyX-r9",
    "outputId": "e8c6105c-2e78-449d-f338-b0f68d635dc3",
    "ExecuteTime": {
     "end_time": "2025-05-29T16:33:08.041561Z",
     "start_time": "2025-05-29T16:33:07.998346Z"
    }
   },
   "source": [
    "print(model_en.wv.most_similar(positive=[\"woman\", \"actor\"], negative=[\"man\"], topn=1))\n",
    "print(model_en.wv.most_similar(positive=[\"dogs\", \"man\"], negative=[\"dog\"], topn=1))\n",
    "\n",
    "print(model_en.wv.most_similar(\"usa\", topn=3))\n",
    "\n",
    "print(model_en.wv.doesnt_match(\"comedy thriller western novel\".split()))"
   ],
   "outputs": [
    {
     "name": "stdout",
     "output_type": "stream",
     "text": [
      "[('actress', 0.7681520581245422)]\n",
      "[('men', 0.6274680495262146)]\n",
      "[('germany', 0.7383697628974915), ('europe', 0.730600893497467), ('north', 0.7086883783340454)]\n",
      "novel\n"
     ]
    }
   ],
   "execution_count": 20
  },
  {
   "cell_type": "code",
   "metadata": {
    "id": "lAO7cOj_p0Jn",
    "ExecuteTime": {
     "end_time": "2025-05-29T16:33:08.102381Z",
     "start_time": "2025-05-29T16:33:08.090296Z"
    }
   },
   "source": [
    "print(model_en.wv.most_similar(positive=[\"hill\", \"high\"], negative=[\"low\"], topn=1))\n",
    "print(model_en.wv.most_similar(positive=[\"cats\", \"woman\"], negative=[\"cat\"], topn=1))\n",
    "\n",
    "print(model_en.wv.most_similar(\"football\", topn=3))\n",
    "\n",
    "print(model_en.wv.doesnt_match(\"car train horse bus\".split()))"
   ],
   "outputs": [
    {
     "name": "stdout",
     "output_type": "stream",
     "text": [
      "[('avenue', 0.5459960699081421)]\n",
      "[('women', 0.609978437423706)]\n",
      "[('basketball', 0.7553985118865967), ('soccer', 0.7295182943344116), ('baseball', 0.6655445098876953)]\n",
      "horse\n"
     ]
    }
   ],
   "execution_count": 21
  },
  {
   "cell_type": "markdown",
   "metadata": {
    "id": "juR4NX0wX-r_"
   },
   "source": [
    "### Как дообучить существующую модель\n",
    "\n",
    "При тренировке модели \"с нуля\" веса инициализируются случайно, однако, можно использовать для инициализации векторов веса из предобученной модели, таким образом как бы дообучая ее.\n",
    "\n",
    "Сначала посмотрим близость какой-нибудь пары слов в имеющейся модели, чтобы потом сравнить результат с дообученной."
   ]
  },
  {
   "cell_type": "code",
   "metadata": {
    "colab": {
     "base_uri": "https://localhost:8080/"
    },
    "id": "rAUVp96kX-sA",
    "outputId": "cc6d4e13-e3cf-4e45-9ed8-c4d067a8496f",
    "ExecuteTime": {
     "end_time": "2025-05-29T16:33:08.193258Z",
     "start_time": "2025-05-29T16:33:08.185938Z"
    }
   },
   "source": "model_en.wv.similarity('lion', 'rabbit')",
   "outputs": [
    {
     "data": {
      "text/plain": [
       "0.28527483"
      ]
     },
     "execution_count": 22,
     "metadata": {},
     "output_type": "execute_result"
    }
   ],
   "execution_count": 22
  },
  {
   "cell_type": "markdown",
   "metadata": {
    "id": "Mxsz8DKMX-sD"
   },
   "source": [
    "В качестве дополнительных данных для обучения возьмем английский текст «Алисы в Зазеркалье»."
   ]
  },
  {
   "cell_type": "code",
   "metadata": {
    "colab": {
     "base_uri": "https://localhost:8080/"
    },
    "id": "4eTCOgpMX-sE",
    "outputId": "8904f57c-1efc-4141-ba18-b9ed03109995",
    "ExecuteTime": {
     "end_time": "2025-05-29T16:33:09.031394Z",
     "start_time": "2025-05-29T16:33:08.252773Z"
    }
   },
   "source": [
    "! wget https://raw.githubusercontent.com/ancatmara/data-science-nlp/master/data/w2v/train/alice.txt"
   ],
   "outputs": [
    {
     "name": "stdout",
     "output_type": "stream",
     "text": [
      "/bin/bash: warning: setlocale: LC_ALL: cannot change locale (en_US.UTF-8)\r\n",
      "--2025-05-29 19:33:08--  https://raw.githubusercontent.com/ancatmara/data-science-nlp/master/data/w2v/train/alice.txt\r\n",
      "Resolving raw.githubusercontent.com (raw.githubusercontent.com)... 185.199.109.133, 185.199.108.133, 185.199.110.133, ...\r\n",
      "Connecting to raw.githubusercontent.com (raw.githubusercontent.com)|185.199.109.133|:443... connected.\r\n",
      "HTTP request sent, awaiting response... 200 OK\r\n",
      "Length: 167631 (164K) [text/plain]\r\n",
      "Saving to: 'alice.txt.1'\r\n",
      "\r\n",
      "alice.txt.1         100%[===================>] 163.70K  1.03MB/s    in 0.2s    \r\n",
      "\r\n",
      "2025-05-29 19:33:08 (1.03 MB/s) - 'alice.txt.1' saved [167631/167631]\r\n",
      "\r\n"
     ]
    }
   ],
   "execution_count": 23
  },
  {
   "cell_type": "code",
   "metadata": {
    "colab": {
     "base_uri": "https://localhost:8080/"
    },
    "id": "yHuXJgB_X-sI",
    "outputId": "0c6ca91d-e3f2-4553-f786-cb3017283110",
    "ExecuteTime": {
     "end_time": "2025-05-29T16:33:09.085062Z",
     "start_time": "2025-05-29T16:33:09.043756Z"
    }
   },
   "source": [
    "with open(\"alice.txt\", 'r', encoding='utf-8') as f:\n",
    "    text = f.read()\n",
    "\n",
    "# убираем переносы строк, токенизируем текст\n",
    "\n",
    "text = re.sub('\\n', ' ', text)\n",
    "sents = sent_tokenize(text)\n",
    "\n",
    "punct = '!\"#$%&()*+,-./:;<=>?@[\\]^_`{|}~„“«»†*—/\\-‘’'\n",
    "clean_sents = []\n",
    "\n",
    "# убираем всю пунктуацию и делим текст на слова по пробелу\n",
    "for sent in sents:\n",
    "    s = [w.lower().strip(punct) for w in sent.split()]\n",
    "    clean_sents.append(s)\n",
    "\n",
    "print(clean_sents[:2])"
   ],
   "outputs": [
    {
     "name": "stdout",
     "output_type": "stream",
     "text": [
      "[['through', 'the', 'looking-glass', 'by', 'lewis', 'carroll', 'chapter', 'i', 'looking-glass', 'house', 'one', 'thing', 'was', 'certain', 'that', 'the', 'white', 'kitten', 'had', 'had', 'nothing', 'to', 'do', 'with', 'it', '', 'it', 'was', 'the', 'black', 'kitten’s', 'fault', 'entirely'], ['for', 'the', 'white', 'kitten', 'had', 'been', 'having', 'its', 'face', 'washed', 'by', 'the', 'old', 'cat', 'for', 'the', 'last', 'quarter', 'of', 'an', 'hour', 'and', 'bearing', 'it', 'pretty', 'well', 'considering', 'so', 'you', 'see', 'that', 'it', 'couldn’t', 'have', 'had', 'any', 'hand', 'in', 'the', 'mischief']]\n"
     ]
    }
   ],
   "execution_count": 24
  },
  {
   "cell_type": "markdown",
   "metadata": {
    "id": "dH8f7GNBX-sK"
   },
   "source": "Чтобы дообучить модель, надо сначала ее сохранить, а потом загрузить. Все параметры тренировки (размер вектора, мин. частота слова и т.п.) будут взяты из загруженной модели, т.е. задать их заново нельзя."
  },
  {
   "cell_type": "code",
   "metadata": {
    "colab": {
     "base_uri": "https://localhost:8080/"
    },
    "id": "Rv--44TmX-sL",
    "outputId": "a7ee3dd8-9de5-43de-f6d5-65329057d212",
    "ExecuteTime": {
     "end_time": "2025-05-29T16:33:09.398445Z",
     "start_time": "2025-05-29T16:33:09.106176Z"
    }
   },
   "source": [
    "model_path = \"movie_reviews.model\"\n",
    "\n",
    "# так можно сохранить модель для последующего дообучения\n",
    "print(\"Saving model...\")\n",
    "model_en.save(model_path)"
   ],
   "outputs": [
    {
     "name": "stdout",
     "output_type": "stream",
     "text": [
      "Saving model...\n"
     ]
    }
   ],
   "execution_count": 25
  },
  {
   "cell_type": "code",
   "metadata": {
    "colab": {
     "base_uri": "https://localhost:8080/"
    },
    "id": "f6eZwBQzX-sQ",
    "outputId": "180da30f-393a-4e96-b2c4-ce8fa3f5fd5e",
    "ExecuteTime": {
     "end_time": "2025-05-29T16:33:10.205311Z",
     "start_time": "2025-05-29T16:33:09.410376Z"
    }
   },
   "source": [
    "from gensim.models import Word2Vec\n",
    "\n",
    "# загружаем нашу обученную модель и дообучаем на текстах \"Алисы\"\n",
    "\n",
    "model = Word2Vec.load(model_path)\n",
    "\n",
    "model.build_vocab(clean_sents, update=True)\n",
    "model.train(clean_sents, total_examples=model.corpus_count, epochs=5)"
   ],
   "outputs": [
    {
     "data": {
      "text/plain": [
       "(96950, 150225)"
      ]
     },
     "execution_count": 26,
     "metadata": {},
     "output_type": "execute_result"
    }
   ],
   "execution_count": 26
  },
  {
   "cell_type": "markdown",
   "metadata": {
    "id": "nMLhISWiX-sS"
   },
   "source": [
    "Лев и кролик стали ближе друг к другу!"
   ]
  },
  {
   "cell_type": "code",
   "metadata": {
    "ExecuteTime": {
     "end_time": "2025-05-29T16:33:10.222729Z",
     "start_time": "2025-05-29T16:33:10.218228Z"
    }
   },
   "source": "model.wv.similarity('lion', 'rabbit')",
   "outputs": [
    {
     "data": {
      "text/plain": [
       "0.29905683"
      ]
     },
     "execution_count": 27,
     "metadata": {},
     "output_type": "execute_result"
    }
   ],
   "execution_count": 27
  },
  {
   "cell_type": "code",
   "metadata": {
    "colab": {
     "base_uri": "https://localhost:8080/"
    },
    "id": "ZAVaTYvQX-sU",
    "outputId": "0eeb1fad-aaa0-4acd-9d1f-9b637bed96c9",
    "ExecuteTime": {
     "end_time": "2025-05-29T16:33:13.616264Z",
     "start_time": "2025-05-29T16:33:10.288190Z"
    }
   },
   "source": [
    "model_path = \"movies_alice.bin\"\n",
    "\n",
    "print(\"Saving model...\")\n",
    "model_en.wv.save_word2vec_format(model_path, binary=True)"
   ],
   "outputs": [
    {
     "name": "stdout",
     "output_type": "stream",
     "text": [
      "Saving model...\n"
     ]
    }
   ],
   "execution_count": 28
  },
  {
   "cell_type": "markdown",
   "metadata": {
    "id": "CXKnPffPX-sY"
   },
   "source": "## Оценка\n"
  },
  {
   "cell_type": "code",
   "metadata": {
    "colab": {
     "base_uri": "https://localhost:8080/"
    },
    "id": "-YhZcONZX-sY",
    "outputId": "3b7600d3-bf71-40a7-fa36-e6bb47e3784d",
    "ExecuteTime": {
     "end_time": "2025-05-29T16:33:14.649663Z",
     "start_time": "2025-05-29T16:33:13.629248Z"
    }
   },
   "source": "! wget https://raw.githubusercontent.com/ancatmara/data-science-nlp/master/data/w2v/evaluation/ru_analogy_tagged.txt",
   "outputs": [
    {
     "name": "stdout",
     "output_type": "stream",
     "text": [
      "/bin/bash: warning: setlocale: LC_ALL: cannot change locale (en_US.UTF-8)\r\n",
      "--2025-05-29 19:33:13--  https://raw.githubusercontent.com/ancatmara/data-science-nlp/master/data/w2v/evaluation/ru_analogy_tagged.txt\r\n",
      "Resolving raw.githubusercontent.com (raw.githubusercontent.com)... 185.199.109.133, 185.199.108.133, 185.199.110.133, ...\r\n",
      "Connecting to raw.githubusercontent.com (raw.githubusercontent.com)|185.199.109.133|:443... connected.\r\n",
      "HTTP request sent, awaiting response... 200 OK\r\n",
      "Length: 871776 (851K) [text/plain]\r\n",
      "Saving to: 'ru_analogy_tagged.txt.1'\r\n",
      "\r\n",
      "ru_analogy_tagged.t 100%[===================>] 851.34K  2.10MB/s    in 0.4s    \r\n",
      "\r\n",
      "2025-05-29 19:33:14 (2.10 MB/s) - 'ru_analogy_tagged.txt.1' saved [871776/871776]\r\n",
      "\r\n"
     ]
    }
   ],
   "execution_count": 29
  },
  {
   "cell_type": "markdown",
   "metadata": {
    "id": "rJGRHanIKXVg"
   },
   "source": [
    "Посчитаем точность модели на датасете с аналогиями:"
   ]
  },
  {
   "cell_type": "code",
   "metadata": {
    "colab": {
     "base_uri": "https://localhost:8080/"
    },
    "id": "z54TWXlcX-sb",
    "outputId": "0e550d9e-278d-42cd-9c2f-69807b73c3a8",
    "ExecuteTime": {
     "end_time": "2025-05-29T16:33:15.052748Z",
     "start_time": "2025-05-29T16:33:14.662591Z"
    }
   },
   "source": "res = model_ru.evaluate_word_analogies('ru_analogy_tagged.txt')",
   "outputs": [],
   "execution_count": 30
  },
  {
   "cell_type": "code",
   "metadata": {
    "colab": {
     "base_uri": "https://localhost:8080/"
    },
    "id": "tWNppFBeX-sd",
    "outputId": "80fbde64-73b5-42d2-d0a8-5cc6608e3fb2",
    "ExecuteTime": {
     "end_time": "2025-05-29T16:33:15.069754Z",
     "start_time": "2025-05-29T16:33:15.065560Z"
    }
   },
   "source": [
    "print(res[0])\n",
    "print(res[1][0])\n",
    "\n",
    "for section in res[1]:\n",
    "    correct = len(section['correct'])\n",
    "    incorrect = len(section['incorrect'])\n",
    "    accuracy = correct / (correct + incorrect) if (correct + incorrect) > 0 else 0\n",
    "    print(f\"Section: {section['section']}, Accuracy:{accuracy :.2%}\")"
   ],
   "outputs": [
    {
     "name": "stdout",
     "output_type": "stream",
     "text": [
      "0.0\n",
      "{'section': 'capital-common-countries', 'correct': [], 'incorrect': []}\n",
      "Section: capital-common-countries, Accuracy:0.00%\n",
      "Section: capital-world, Accuracy:0.00%\n",
      "Section: currency, Accuracy:0.00%\n",
      "Section: city-in-state, Accuracy:0.00%\n",
      "Section: family, Accuracy:0.00%\n",
      "Section: gram1-Aective-to-adverb, Accuracy:0.00%\n",
      "Section: gram2-opposite, Accuracy:0.00%\n",
      "Section: gram6-nationality-Aective, Accuracy:0.00%\n",
      "Section: Total accuracy, Accuracy:0.00%\n"
     ]
    }
   ],
   "execution_count": 31
  },
  {
   "cell_type": "markdown",
   "metadata": {
    "id": "Sv0wxUXIX-se"
   },
   "source": "## Визуализация"
  },
  {
   "cell_type": "code",
   "metadata": {
    "id": "xipujjX83jm5",
    "ExecuteTime": {
     "end_time": "2025-05-29T16:33:15.128245Z",
     "start_time": "2025-05-29T16:33:15.125777Z"
    }
   },
   "source": [
    "from nltk import FreqDist\n",
    "from tqdm.notebook import tqdm\n",
    "from sklearn.manifold import TSNE"
   ],
   "outputs": [],
   "execution_count": 32
  },
  {
   "cell_type": "code",
   "metadata": {
    "colab": {
     "base_uri": "https://localhost:8080/",
     "height": 193,
     "referenced_widgets": [
      "68e14405f823439898540afdcd70d40b",
      "7ea7feb0bdb94166b25a726647d33fc2",
      "e58ae1725e6a4f9491c407461f141343",
      "2fed6ef43be042b8b3ceca5c5b984f70",
      "d463d60607eb4f7a869a231ed1bc8c52",
      "862c04d0fd354c9e999b62a1f7eb09cf",
      "ebf91196748544659f08b85f2f4d331f",
      "8d20e35b0f2c4c6d9370c95dbf0fe60a"
     ]
    },
    "id": "5UH91gFyX-sf",
    "outputId": "efb527c0-d995-46af-9d07-347ccdfa3e20",
    "ExecuteTime": {
     "end_time": "2025-05-29T16:33:19.909667Z",
     "start_time": "2025-05-29T16:33:15.179186Z"
    }
   },
   "source": [
    "top_words = []\n",
    "\n",
    "fd = FreqDist()\n",
    "for s in tqdm(sentences):\n",
    "    fd.update(s)\n",
    "\n",
    "for w in fd.most_common(1000):\n",
    "    top_words.append(w[0])\n",
    "\n",
    "print(top_words[:50:])\n",
    "top_words_vec = model.wv[top_words]"
   ],
   "outputs": [
    {
     "data": {
      "text/plain": [
       "  0%|          | 0/529416 [00:00<?, ?it/s]"
      ],
      "application/vnd.jupyter.widget-view+json": {
       "version_major": 2,
       "version_minor": 0,
       "model_id": "43042228a4564e9391b4201d7ae702ae"
      }
     },
     "metadata": {},
     "output_type": "display_data"
    },
    {
     "name": "stdout",
     "output_type": "stream",
     "text": [
      "['the', 'and', 'a', 'of', 'to', 'is', 'it', 'in', 'i', 'this', 'that', 's', 'was', 'as', 'with', 'for', 'movie', 'but', 'film', 'you', 't', 'on', 'not', 'he', 'are', 'his', 'have', 'be', 'one', 'all', 'they', 'at', 'by', 'who', 'an', 'from', 'so', 'like', 'there', 'or', 'her', 'just', 'about', 'out', 'has', 'if', 'what', 'some', 'good', 'can']\n"
     ]
    }
   ],
   "execution_count": 33
  },
  {
   "cell_type": "code",
   "metadata": {
    "colab": {
     "base_uri": "https://localhost:8080/"
    },
    "id": "9OfQGPTezjrm",
    "outputId": "c793de7b-5bad-49fd-d48a-90be5f7cea67",
    "ExecuteTime": {
     "end_time": "2025-05-29T16:33:50.453852Z",
     "start_time": "2025-05-29T16:33:50.448632Z"
    }
   },
   "source": "top_words_vec = model.wv[top_words]",
   "outputs": [],
   "execution_count": 35
  },
  {
   "cell_type": "markdown",
   "metadata": {
    "id": "7dkgD_DLKps6"
   },
   "source": [
    "Применяем преобразование t-SNE для векторов выбранных 1000 слов:"
   ]
  },
  {
   "cell_type": "code",
   "metadata": {
    "colab": {
     "base_uri": "https://localhost:8080/"
    },
    "id": "74FvTsuuX-sg",
    "outputId": "220ff969-756a-4a6c-8a7f-ffabf6f8fb80",
    "ExecuteTime": {
     "end_time": "2025-05-29T16:34:00.728548Z",
     "start_time": "2025-05-29T16:33:58.117111Z"
    }
   },
   "source": [
    "%%time\n",
    "# инициализируем модель\n",
    "tsne = TSNE(n_components=2, random_state=0)\n",
    "# обучаем и применяем\n",
    "top_words_tsne = tsne.fit_transform(top_words_vec)"
   ],
   "outputs": [
    {
     "name": "stdout",
     "output_type": "stream",
     "text": [
      "CPU times: user 20.1 s, sys: 3.19 s, total: 23.3 s\n",
      "Wall time: 2.61 s\n"
     ]
    }
   ],
   "execution_count": 36
  },
  {
   "cell_type": "code",
   "metadata": {
    "colab": {
     "base_uri": "https://localhost:8080/",
     "height": 616
    },
    "id": "R0A__XKwX-si",
    "outputId": "7d8851bd-c03d-4373-ce06-29178ba201dc",
    "ExecuteTime": {
     "end_time": "2025-05-29T16:34:31.502339Z",
     "start_time": "2025-05-29T16:34:30.608369Z"
    }
   },
   "source": [
    "from bokeh.models import ColumnDataSource, LabelSet\n",
    "from bokeh.plotting import figure, show, output_file\n",
    "from bokeh.io import output_notebook\n",
    "output_notebook()\n",
    "\n",
    "p = figure(tools=\"pan,wheel_zoom,reset,save\",\n",
    "           toolbar_location=\"above\",\n",
    "           title=\"word2vec T-SNE (eng model, top1000 words)\")\n",
    "\n",
    "source = ColumnDataSource(data=dict(x1=top_words_tsne[:,0],\n",
    "                                    x2=top_words_tsne[:,1],\n",
    "                                    names=top_words))\n",
    "\n",
    "p.scatter(x=\"x1\", y=\"x2\", size=8, source=source)\n",
    "\n",
    "labels = LabelSet(x=\"x1\", y=\"x2\", text=\"names\", y_offset=6,\n",
    "                  text_font_size=\"8pt\", text_color=\"#555555\",\n",
    "                  source=source, text_align='center')\n",
    "p.add_layout(labels)\n",
    "\n",
    "show(p)"
   ],
   "outputs": [
    {
     "data": {
      "text/html": [
       "    <style>\n",
       "        .bk-notebook-logo {\n",
       "            display: block;\n",
       "            width: 20px;\n",
       "            height: 20px;\n",
       "            background-image: url(data:image/png;base64,iVBORw0KGgoAAAANSUhEUgAAABQAAAAUCAYAAACNiR0NAAAABHNCSVQICAgIfAhkiAAAAAlwSFlzAAALEgAACxIB0t1+/AAAABx0RVh0U29mdHdhcmUAQWRvYmUgRmlyZXdvcmtzIENTNui8sowAAAOkSURBVDiNjZRtaJVlGMd/1/08zzln5zjP1LWcU9N0NkN8m2CYjpgQYQXqSs0I84OLIC0hkEKoPtiH3gmKoiJDU7QpLgoLjLIQCpEsNJ1vqUOdO7ppbuec5+V+rj4ctwzd8IIbbi6u+8f1539dt3A78eXC7QizUF7gyV1fD1Yqg4JWz84yffhm0qkFqBogB9rM8tZdtwVsPUhWhGcFJngGeWrPzHm5oaMmkfEg1usvLFyc8jLRqDOMru7AyC8saQr7GG7f5fvDeH7Ej8CM66nIF+8yngt6HWaKh7k49Soy9nXurCi1o3qUbS3zWfrYeQDTB/Qj6kX6Ybhw4B+bOYoLKCC9H3Nu/leUTZ1JdRWkkn2ldcCamzrcf47KKXdAJllSlxAOkRgyHsGC/zRday5Qld9DyoM4/q/rUoy/CXh3jzOu3bHUVZeU+DEn8FInkPBFlu3+nW3Nw0mk6vCDiWg8CeJaxEwuHS3+z5RgY+YBR6V1Z1nxSOfoaPa4LASWxxdNp+VWTk7+4vzaou8v8PN+xo+KY2xsw6une2frhw05CTYOmQvsEhjhWjn0bmXPjpE1+kplmmkP3suftwTubK9Vq22qKmrBhpY4jvd5afdRA3wGjFAgcnTK2s4hY0/GPNIb0nErGMCRxWOOX64Z8RAC4oCXdklmEvcL8o0BfkNK4lUg9HTl+oPlQxdNo3Mg4Nv175e/1LDGzZen30MEjRUtmXSfiTVu1kK8W4txyV6BMKlbgk3lMwYCiusNy9fVfvvwMxv8Ynl6vxoByANLTWplvuj/nF9m2+PDtt1eiHPBr1oIfhCChQMBw6Aw0UulqTKZdfVvfG7VcfIqLG9bcldL/+pdWTLxLUy8Qq38heUIjh4XlzZxzQm19lLFlr8vdQ97rjZVOLf8nclzckbcD4wxXMidpX30sFd37Fv/GtwwhzhxGVAprjbg0gCAEeIgwCZyTV2Z1REEW8O4py0wsjeloKoMr6iCY6dP92H6Vw/oTyICIthibxjm/DfN9lVz8IqtqKYLUXfoKVMVQVVJOElGjrnnUt9T9wbgp8AyYKaGlqingHZU/uG2NTZSVqwHQTWkx9hxjkpWDaCg6Ckj5qebgBVbT3V3NNXMSiWSDdGV3hrtzla7J+duwPOToIg42ChPQOQjspnSlp1V+Gjdged7+8UN5CRAV7a5EdFNwCjEaBR27b3W890TE7g24NAP/mMDXRWrGoFPQI9ls/MWO2dWFAar/xcOIImbbpA3zgAAAABJRU5ErkJggg==);\n",
       "        }\n",
       "    </style>\n",
       "    <div>\n",
       "        <a href=\"https://bokeh.org\" target=\"_blank\" class=\"bk-notebook-logo\"></a>\n",
       "        <span id=\"a9f6d9b7-10ec-46a0-9b2b-4695d5b56804\">Loading BokehJS ...</span>\n",
       "    </div>\n"
      ]
     },
     "metadata": {},
     "output_type": "display_data"
    },
    {
     "data": {
      "application/javascript": "'use strict';\n(function(root) {\n  function now() {\n    return new Date();\n  }\n\n  const force = true;\n\n  if (typeof root._bokeh_onload_callbacks === \"undefined\" || force === true) {\n    root._bokeh_onload_callbacks = [];\n    root._bokeh_is_loading = undefined;\n  }\n\nconst JS_MIME_TYPE = 'application/javascript';\n  const HTML_MIME_TYPE = 'text/html';\n  const EXEC_MIME_TYPE = 'application/vnd.bokehjs_exec.v0+json';\n  const CLASS_NAME = 'output_bokeh rendered_html';\n\n  /**\n   * Render data to the DOM node\n   */\n  function render(props, node) {\n    const script = document.createElement(\"script\");\n    node.appendChild(script);\n  }\n\n  /**\n   * Handle when an output is cleared or removed\n   */\n  function handleClearOutput(event, handle) {\n    function drop(id) {\n      const view = Bokeh.index.get_by_id(id)\n      if (view != null) {\n        view.model.document.clear()\n        Bokeh.index.delete(view)\n      }\n    }\n\n    const cell = handle.cell;\n\n    const id = cell.output_area._bokeh_element_id;\n    const server_id = cell.output_area._bokeh_server_id;\n\n    // Clean up Bokeh references\n    if (id != null) {\n      drop(id)\n    }\n\n    if (server_id !== undefined) {\n      // Clean up Bokeh references\n      const cmd_clean = \"from bokeh.io.state import curstate; print(curstate().uuid_to_server['\" + server_id + \"'].get_sessions()[0].document.roots[0]._id)\";\n      cell.notebook.kernel.execute(cmd_clean, {\n        iopub: {\n          output: function(msg) {\n            const id = msg.content.text.trim()\n            drop(id)\n          }\n        }\n      });\n      // Destroy server and session\n      const cmd_destroy = \"import bokeh.io.notebook as ion; ion.destroy_server('\" + server_id + \"')\";\n      cell.notebook.kernel.execute(cmd_destroy);\n    }\n  }\n\n  /**\n   * Handle when a new output is added\n   */\n  function handleAddOutput(event, handle) {\n    const output_area = handle.output_area;\n    const output = handle.output;\n\n    // limit handleAddOutput to display_data with EXEC_MIME_TYPE content only\n    if ((output.output_type != \"display_data\") || (!Object.prototype.hasOwnProperty.call(output.data, EXEC_MIME_TYPE))) {\n      return\n    }\n\n    const toinsert = output_area.element.find(\".\" + CLASS_NAME.split(' ')[0]);\n\n    if (output.metadata[EXEC_MIME_TYPE][\"id\"] !== undefined) {\n      toinsert[toinsert.length - 1].firstChild.textContent = output.data[JS_MIME_TYPE];\n      // store reference to embed id on output_area\n      output_area._bokeh_element_id = output.metadata[EXEC_MIME_TYPE][\"id\"];\n    }\n    if (output.metadata[EXEC_MIME_TYPE][\"server_id\"] !== undefined) {\n      const bk_div = document.createElement(\"div\");\n      bk_div.innerHTML = output.data[HTML_MIME_TYPE];\n      const script_attrs = bk_div.children[0].attributes;\n      for (let i = 0; i < script_attrs.length; i++) {\n        toinsert[toinsert.length - 1].firstChild.setAttribute(script_attrs[i].name, script_attrs[i].value);\n        toinsert[toinsert.length - 1].firstChild.textContent = bk_div.children[0].textContent\n      }\n      // store reference to server id on output_area\n      output_area._bokeh_server_id = output.metadata[EXEC_MIME_TYPE][\"server_id\"];\n    }\n  }\n\n  function register_renderer(events, OutputArea) {\n\n    function append_mime(data, metadata, element) {\n      // create a DOM node to render to\n      const toinsert = this.create_output_subarea(\n        metadata,\n        CLASS_NAME,\n        EXEC_MIME_TYPE\n      );\n      this.keyboard_manager.register_events(toinsert);\n      // Render to node\n      const props = {data: data, metadata: metadata[EXEC_MIME_TYPE]};\n      render(props, toinsert[toinsert.length - 1]);\n      element.append(toinsert);\n      return toinsert\n    }\n\n    /* Handle when an output is cleared or removed */\n    events.on('clear_output.CodeCell', handleClearOutput);\n    events.on('delete.Cell', handleClearOutput);\n\n    /* Handle when a new output is added */\n    events.on('output_added.OutputArea', handleAddOutput);\n\n    /**\n     * Register the mime type and append_mime function with output_area\n     */\n    OutputArea.prototype.register_mime_type(EXEC_MIME_TYPE, append_mime, {\n      /* Is output safe? */\n      safe: true,\n      /* Index of renderer in `output_area.display_order` */\n      index: 0\n    });\n  }\n\n  // register the mime type if in Jupyter Notebook environment and previously unregistered\n  if (root.Jupyter !== undefined) {\n    const events = require('base/js/events');\n    const OutputArea = require('notebook/js/outputarea').OutputArea;\n\n    if (OutputArea.prototype.mime_types().indexOf(EXEC_MIME_TYPE) == -1) {\n      register_renderer(events, OutputArea);\n    }\n  }\n  if (typeof (root._bokeh_timeout) === \"undefined\" || force === true) {\n    root._bokeh_timeout = Date.now() + 5000;\n    root._bokeh_failed_load = false;\n  }\n\n  const NB_LOAD_WARNING = {'data': {'text/html':\n     \"<div style='background-color: #fdd'>\\n\"+\n     \"<p>\\n\"+\n     \"BokehJS does not appear to have successfully loaded. If loading BokehJS from CDN, this \\n\"+\n     \"may be due to a slow or bad network connection. Possible fixes:\\n\"+\n     \"</p>\\n\"+\n     \"<ul>\\n\"+\n     \"<li>re-rerun `output_notebook()` to attempt to load from CDN again, or</li>\\n\"+\n     \"<li>use INLINE resources instead, as so:</li>\\n\"+\n     \"</ul>\\n\"+\n     \"<code>\\n\"+\n     \"from bokeh.resources import INLINE\\n\"+\n     \"output_notebook(resources=INLINE)\\n\"+\n     \"</code>\\n\"+\n     \"</div>\"}};\n\n  function display_loaded(error = null) {\n    const el = document.getElementById(\"a9f6d9b7-10ec-46a0-9b2b-4695d5b56804\");\n    if (el != null) {\n      const html = (() => {\n        if (typeof root.Bokeh === \"undefined\") {\n          if (error == null) {\n            return \"BokehJS is loading ...\";\n          } else {\n            return \"BokehJS failed to load.\";\n          }\n        } else {\n          const prefix = `BokehJS ${root.Bokeh.version}`;\n          if (error == null) {\n            return `${prefix} successfully loaded.`;\n          } else {\n            return `${prefix} <b>encountered errors</b> while loading and may not function as expected.`;\n          }\n        }\n      })();\n      el.innerHTML = html;\n\n      if (error != null) {\n        const wrapper = document.createElement(\"div\");\n        wrapper.style.overflow = \"auto\";\n        wrapper.style.height = \"5em\";\n        wrapper.style.resize = \"vertical\";\n        const content = document.createElement(\"div\");\n        content.style.fontFamily = \"monospace\";\n        content.style.whiteSpace = \"pre-wrap\";\n        content.style.backgroundColor = \"rgb(255, 221, 221)\";\n        content.textContent = error.stack ?? error.toString();\n        wrapper.append(content);\n        el.append(wrapper);\n      }\n    } else if (Date.now() < root._bokeh_timeout) {\n      setTimeout(() => display_loaded(error), 100);\n    }\n  }\n\n  function run_callbacks() {\n    try {\n      root._bokeh_onload_callbacks.forEach(function(callback) {\n        if (callback != null)\n          callback();\n      });\n    } finally {\n      delete root._bokeh_onload_callbacks\n    }\n    console.debug(\"Bokeh: all callbacks have finished\");\n  }\n\n  function load_libs(css_urls, js_urls, callback) {\n    if (css_urls == null) css_urls = [];\n    if (js_urls == null) js_urls = [];\n\n    root._bokeh_onload_callbacks.push(callback);\n    if (root._bokeh_is_loading > 0) {\n      console.debug(\"Bokeh: BokehJS is being loaded, scheduling callback at\", now());\n      return null;\n    }\n    if (js_urls == null || js_urls.length === 0) {\n      run_callbacks();\n      return null;\n    }\n    console.debug(\"Bokeh: BokehJS not loaded, scheduling load and callback at\", now());\n    root._bokeh_is_loading = css_urls.length + js_urls.length;\n\n    function on_load() {\n      root._bokeh_is_loading--;\n      if (root._bokeh_is_loading === 0) {\n        console.debug(\"Bokeh: all BokehJS libraries/stylesheets loaded\");\n        run_callbacks()\n      }\n    }\n\n    function on_error(url) {\n      console.error(\"failed to load \" + url);\n    }\n\n    for (let i = 0; i < css_urls.length; i++) {\n      const url = css_urls[i];\n      const element = document.createElement(\"link\");\n      element.onload = on_load;\n      element.onerror = on_error.bind(null, url);\n      element.rel = \"stylesheet\";\n      element.type = \"text/css\";\n      element.href = url;\n      console.debug(\"Bokeh: injecting link tag for BokehJS stylesheet: \", url);\n      document.body.appendChild(element);\n    }\n\n    for (let i = 0; i < js_urls.length; i++) {\n      const url = js_urls[i];\n      const element = document.createElement('script');\n      element.onload = on_load;\n      element.onerror = on_error.bind(null, url);\n      element.async = false;\n      element.src = url;\n      console.debug(\"Bokeh: injecting script tag for BokehJS library: \", url);\n      document.head.appendChild(element);\n    }\n  };\n\n  function inject_raw_css(css) {\n    const element = document.createElement(\"style\");\n    element.appendChild(document.createTextNode(css));\n    document.body.appendChild(element);\n  }\n\n  const js_urls = [\"https://cdn.bokeh.org/bokeh/release/bokeh-3.7.3.min.js\", \"https://cdn.bokeh.org/bokeh/release/bokeh-gl-3.7.3.min.js\", \"https://cdn.bokeh.org/bokeh/release/bokeh-widgets-3.7.3.min.js\", \"https://cdn.bokeh.org/bokeh/release/bokeh-tables-3.7.3.min.js\", \"https://cdn.bokeh.org/bokeh/release/bokeh-mathjax-3.7.3.min.js\"];\n  const css_urls = [];\n\n  const inline_js = [    function(Bokeh) {\n      Bokeh.set_log_level(\"info\");\n    },\nfunction(Bokeh) {\n    }\n  ];\n\n  function run_inline_js() {\n    if (root.Bokeh !== undefined || force === true) {\n      try {\n            for (let i = 0; i < inline_js.length; i++) {\n      inline_js[i].call(root, root.Bokeh);\n    }\n\n      } catch (error) {display_loaded(error);throw error;\n      }if (force === true) {\n        display_loaded();\n      }} else if (Date.now() < root._bokeh_timeout) {\n      setTimeout(run_inline_js, 100);\n    } else if (!root._bokeh_failed_load) {\n      console.log(\"Bokeh: BokehJS failed to load within specified timeout.\");\n      root._bokeh_failed_load = true;\n    } else if (force !== true) {\n      const cell = $(document.getElementById(\"a9f6d9b7-10ec-46a0-9b2b-4695d5b56804\")).parents('.cell').data().cell;\n      cell.output_area.append_execute_result(NB_LOAD_WARNING)\n    }\n  }\n\n  if (root._bokeh_is_loading === 0) {\n    console.debug(\"Bokeh: BokehJS loaded, going straight to plotting\");\n    run_inline_js();\n  } else {\n    load_libs(css_urls, js_urls, function() {\n      console.debug(\"Bokeh: BokehJS plotting callback run at\", now());\n      run_inline_js();\n    });\n  }\n}(window));",
      "application/vnd.bokehjs_load.v0+json": "'use strict';\n(function(root) {\n  function now() {\n    return new Date();\n  }\n\n  const force = true;\n\n  if (typeof root._bokeh_onload_callbacks === \"undefined\" || force === true) {\n    root._bokeh_onload_callbacks = [];\n    root._bokeh_is_loading = undefined;\n  }\n\n\n  if (typeof (root._bokeh_timeout) === \"undefined\" || force === true) {\n    root._bokeh_timeout = Date.now() + 5000;\n    root._bokeh_failed_load = false;\n  }\n\n  const NB_LOAD_WARNING = {'data': {'text/html':\n     \"<div style='background-color: #fdd'>\\n\"+\n     \"<p>\\n\"+\n     \"BokehJS does not appear to have successfully loaded. If loading BokehJS from CDN, this \\n\"+\n     \"may be due to a slow or bad network connection. Possible fixes:\\n\"+\n     \"</p>\\n\"+\n     \"<ul>\\n\"+\n     \"<li>re-rerun `output_notebook()` to attempt to load from CDN again, or</li>\\n\"+\n     \"<li>use INLINE resources instead, as so:</li>\\n\"+\n     \"</ul>\\n\"+\n     \"<code>\\n\"+\n     \"from bokeh.resources import INLINE\\n\"+\n     \"output_notebook(resources=INLINE)\\n\"+\n     \"</code>\\n\"+\n     \"</div>\"}};\n\n  function display_loaded(error = null) {\n    const el = document.getElementById(\"a9f6d9b7-10ec-46a0-9b2b-4695d5b56804\");\n    if (el != null) {\n      const html = (() => {\n        if (typeof root.Bokeh === \"undefined\") {\n          if (error == null) {\n            return \"BokehJS is loading ...\";\n          } else {\n            return \"BokehJS failed to load.\";\n          }\n        } else {\n          const prefix = `BokehJS ${root.Bokeh.version}`;\n          if (error == null) {\n            return `${prefix} successfully loaded.`;\n          } else {\n            return `${prefix} <b>encountered errors</b> while loading and may not function as expected.`;\n          }\n        }\n      })();\n      el.innerHTML = html;\n\n      if (error != null) {\n        const wrapper = document.createElement(\"div\");\n        wrapper.style.overflow = \"auto\";\n        wrapper.style.height = \"5em\";\n        wrapper.style.resize = \"vertical\";\n        const content = document.createElement(\"div\");\n        content.style.fontFamily = \"monospace\";\n        content.style.whiteSpace = \"pre-wrap\";\n        content.style.backgroundColor = \"rgb(255, 221, 221)\";\n        content.textContent = error.stack ?? error.toString();\n        wrapper.append(content);\n        el.append(wrapper);\n      }\n    } else if (Date.now() < root._bokeh_timeout) {\n      setTimeout(() => display_loaded(error), 100);\n    }\n  }\n\n  function run_callbacks() {\n    try {\n      root._bokeh_onload_callbacks.forEach(function(callback) {\n        if (callback != null)\n          callback();\n      });\n    } finally {\n      delete root._bokeh_onload_callbacks\n    }\n    console.debug(\"Bokeh: all callbacks have finished\");\n  }\n\n  function load_libs(css_urls, js_urls, callback) {\n    if (css_urls == null) css_urls = [];\n    if (js_urls == null) js_urls = [];\n\n    root._bokeh_onload_callbacks.push(callback);\n    if (root._bokeh_is_loading > 0) {\n      console.debug(\"Bokeh: BokehJS is being loaded, scheduling callback at\", now());\n      return null;\n    }\n    if (js_urls == null || js_urls.length === 0) {\n      run_callbacks();\n      return null;\n    }\n    console.debug(\"Bokeh: BokehJS not loaded, scheduling load and callback at\", now());\n    root._bokeh_is_loading = css_urls.length + js_urls.length;\n\n    function on_load() {\n      root._bokeh_is_loading--;\n      if (root._bokeh_is_loading === 0) {\n        console.debug(\"Bokeh: all BokehJS libraries/stylesheets loaded\");\n        run_callbacks()\n      }\n    }\n\n    function on_error(url) {\n      console.error(\"failed to load \" + url);\n    }\n\n    for (let i = 0; i < css_urls.length; i++) {\n      const url = css_urls[i];\n      const element = document.createElement(\"link\");\n      element.onload = on_load;\n      element.onerror = on_error.bind(null, url);\n      element.rel = \"stylesheet\";\n      element.type = \"text/css\";\n      element.href = url;\n      console.debug(\"Bokeh: injecting link tag for BokehJS stylesheet: \", url);\n      document.body.appendChild(element);\n    }\n\n    for (let i = 0; i < js_urls.length; i++) {\n      const url = js_urls[i];\n      const element = document.createElement('script');\n      element.onload = on_load;\n      element.onerror = on_error.bind(null, url);\n      element.async = false;\n      element.src = url;\n      console.debug(\"Bokeh: injecting script tag for BokehJS library: \", url);\n      document.head.appendChild(element);\n    }\n  };\n\n  function inject_raw_css(css) {\n    const element = document.createElement(\"style\");\n    element.appendChild(document.createTextNode(css));\n    document.body.appendChild(element);\n  }\n\n  const js_urls = [\"https://cdn.bokeh.org/bokeh/release/bokeh-3.7.3.min.js\", \"https://cdn.bokeh.org/bokeh/release/bokeh-gl-3.7.3.min.js\", \"https://cdn.bokeh.org/bokeh/release/bokeh-widgets-3.7.3.min.js\", \"https://cdn.bokeh.org/bokeh/release/bokeh-tables-3.7.3.min.js\", \"https://cdn.bokeh.org/bokeh/release/bokeh-mathjax-3.7.3.min.js\"];\n  const css_urls = [];\n\n  const inline_js = [    function(Bokeh) {\n      Bokeh.set_log_level(\"info\");\n    },\nfunction(Bokeh) {\n    }\n  ];\n\n  function run_inline_js() {\n    if (root.Bokeh !== undefined || force === true) {\n      try {\n            for (let i = 0; i < inline_js.length; i++) {\n      inline_js[i].call(root, root.Bokeh);\n    }\n\n      } catch (error) {display_loaded(error);throw error;\n      }if (force === true) {\n        display_loaded();\n      }} else if (Date.now() < root._bokeh_timeout) {\n      setTimeout(run_inline_js, 100);\n    } else if (!root._bokeh_failed_load) {\n      console.log(\"Bokeh: BokehJS failed to load within specified timeout.\");\n      root._bokeh_failed_load = true;\n    } else if (force !== true) {\n      const cell = $(document.getElementById(\"a9f6d9b7-10ec-46a0-9b2b-4695d5b56804\")).parents('.cell').data().cell;\n      cell.output_area.append_execute_result(NB_LOAD_WARNING)\n    }\n  }\n\n  if (root._bokeh_is_loading === 0) {\n    console.debug(\"Bokeh: BokehJS loaded, going straight to plotting\");\n    run_inline_js();\n  } else {\n    load_libs(css_urls, js_urls, function() {\n      console.debug(\"Bokeh: BokehJS plotting callback run at\", now());\n      run_inline_js();\n    });\n  }\n}(window));"
     },
     "metadata": {},
     "output_type": "display_data"
    },
    {
     "data": {
      "text/html": [
       "\n",
       "  <div id=\"cc9f971a-54fb-4ea9-9f8d-b51f88620f96\" data-root-id=\"p1003\" style=\"display: contents;\"></div>\n"
      ]
     },
     "metadata": {},
     "output_type": "display_data"
    },
    {
     "data": {
      "application/javascript": "(function(root) {\n  function embed_document(root) {\n  const docs_json = {\"2bb4904e-0a04-4f16-ba1b-f4f7cfa48530\":{\"version\":\"3.7.3\",\"title\":\"Bokeh Application\",\"roots\":[{\"type\":\"object\",\"name\":\"Figure\",\"id\":\"p1003\",\"attributes\":{\"x_range\":{\"type\":\"object\",\"name\":\"DataRange1d\",\"id\":\"p1004\"},\"y_range\":{\"type\":\"object\",\"name\":\"DataRange1d\",\"id\":\"p1005\"},\"x_scale\":{\"type\":\"object\",\"name\":\"LinearScale\",\"id\":\"p1013\"},\"y_scale\":{\"type\":\"object\",\"name\":\"LinearScale\",\"id\":\"p1014\"},\"title\":{\"type\":\"object\",\"name\":\"Title\",\"id\":\"p1006\",\"attributes\":{\"text\":\"word2vec T-SNE (eng model, top1000 words)\"}},\"renderers\":[{\"type\":\"object\",\"name\":\"GlyphRenderer\",\"id\":\"p1038\",\"attributes\":{\"data_source\":{\"type\":\"object\",\"name\":\"ColumnDataSource\",\"id\":\"p1029\",\"attributes\":{\"selected\":{\"type\":\"object\",\"name\":\"Selection\",\"id\":\"p1030\",\"attributes\":{\"indices\":[],\"line_indices\":[]}},\"selection_policy\":{\"type\":\"object\",\"name\":\"UnionRenderers\",\"id\":\"p1031\"},\"data\":{\"type\":\"map\",\"entries\":[[\"x1\",{\"type\":\"ndarray\",\"array\":{\"type\":\"bytes\",\"data\":\"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\"},\"shape\":[1000],\"dtype\":\"float32\",\"order\":\"little\"}],[\"x2\",{\"type\":\"ndarray\",\"array\":{\"type\":\"bytes\",\"data\":\"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\"},\"shape\":[1000],\"dtype\":\"float32\",\"order\":\"little\"}],[\"names\",[\"the\",\"and\",\"a\",\"of\",\"to\",\"is\",\"it\",\"in\",\"i\",\"this\",\"that\",\"s\",\"was\",\"as\",\"with\",\"for\",\"movie\",\"but\",\"film\",\"you\",\"t\",\"on\",\"not\",\"he\",\"are\",\"his\",\"have\",\"be\",\"one\",\"all\",\"they\",\"at\",\"by\",\"who\",\"an\",\"from\",\"so\",\"like\",\"there\",\"or\",\"her\",\"just\",\"about\",\"out\",\"has\",\"if\",\"what\",\"some\",\"good\",\"can\",\"when\",\"more\",\"very\",\"she\",\"up\",\"no\",\"time\",\"even\",\"would\",\"their\",\"my\",\"which\",\"story\",\"only\",\"really\",\"see\",\"had\",\"were\",\"well\",\"me\",\"we\",\"than\",\"much\",\"bad\",\"been\",\"get\",\"people\",\"great\",\"into\",\"also\",\"do\",\"other\",\"first\",\"will\",\"him\",\"because\",\"most\",\"how\",\"don\",\"them\",\"make\",\"its\",\"made\",\"way\",\"could\",\"then\",\"too\",\"movies\",\"after\",\"any\",\"characters\",\"character\",\"films\",\"two\",\"think\",\"watch\",\"being\",\"plot\",\"many\",\"where\",\"never\",\"love\",\"seen\",\"little\",\"life\",\"acting\",\"best\",\"did\",\"off\",\"know\",\"over\",\"ever\",\"does\",\"show\",\"better\",\"man\",\"your\",\"end\",\"here\",\"scene\",\"while\",\"these\",\"why\",\"still\",\"scenes\",\"something\",\"say\",\"go\",\"m\",\"ve\",\"should\",\"back\",\"such\",\"real\",\"through\",\"those\",\"now\",\"re\",\"doesn\",\"watching\",\"thing\",\"director\",\"funny\",\"though\",\"years\",\"didn\",\"another\",\"actors\",\"new\",\"going\",\"old\",\"makes\",\"nothing\",\"actually\",\"before\",\"work\",\"look\",\"same\",\"find\",\"lot\",\"part\",\"few\",\"every\",\"again\",\"world\",\"action\",\"cast\",\"horror\",\"things\",\"us\",\"quite\",\"want\",\"down\",\"pretty\",\"young\",\"fact\",\"around\",\"seems\",\"enough\",\"both\",\"take\",\"long\",\"however\",\"thought\",\"got\",\"own\",\"give\",\"comedy\",\"between\",\"big\",\"d\",\"must\",\"series\",\"right\",\"may\",\"without\",\"role\",\"guy\",\"original\",\"interesting\",\"whole\",\"come\",\"isn\",\"times\",\"always\",\"saw\",\"least\",\"bit\",\"gets\",\"almost\",\"script\",\"point\",\"last\",\"music\",\"done\",\"minutes\",\"feel\",\"far\",\"since\",\"girl\",\"ll\",\"yet\",\"might\",\"making\",\"performance\",\"away\",\"family\",\"anything\",\"am\",\"probably\",\"hard\",\"woman\",\"tv\",\"kind\",\"fun\",\"rather\",\"day\",\"played\",\"worst\",\"each\",\"found\",\"sure\",\"anyone\",\"especially\",\"trying\",\"having\",\"our\",\"screen\",\"looking\",\"different\",\"believe\",\"sense\",\"place\",\"american\",\"although\",\"ending\",\"goes\",\"worth\",\"course\",\"set\",\"shows\",\"maybe\",\"three\",\"comes\",\"dvd\",\"money\",\"once\",\"everything\",\"plays\",\"effects\",\"put\",\"john\",\"looks\",\"actor\",\"main\",\"together\",\"during\",\"someone\",\"let\",\"wasn\",\"instead\",\"everyone\",\"war\",\"year\",\"reason\",\"takes\",\"special\",\"said\",\"true\",\"high\",\"night\",\"book\",\"seem\",\"job\",\"play\",\"watched\",\"audience\",\"later\",\"wife\",\"black\",\"death\",\"himself\",\"star\",\"half\",\"seeing\",\"used\",\"idea\",\"dead\",\"second\",\"men\",\"left\",\"excellent\",\"simply\",\"shot\",\"else\",\"beautiful\",\"sex\",\"completely\",\"budget\",\"father\",\"women\",\"mind\",\"house\",\"hollywood\",\"poor\",\"less\",\"fan\",\"along\",\"boring\",\"performances\",\"home\",\"line\",\"help\",\"nice\",\"try\",\"couple\",\"top\",\"version\",\"until\",\"either\",\"low\",\"next\",\"camera\",\"use\",\"friends\",\"short\",\"wrong\",\"start\",\"kids\",\"given\",\"mother\",\"read\",\"need\",\"full\",\"enjoy\",\"production\",\"classic\",\"perhaps\",\"school\",\"moments\",\"truly\",\"stupid\",\"keep\",\"awful\",\"getting\",\"rest\",\"video\",\"face\",\"tell\",\"mean\",\"others\",\"itself\",\"understand\",\"boy\",\"terrible\",\"small\",\"name\",\"style\",\"came\",\"won\",\"playing\",\"recommend\",\"doing\",\"lost\",\"person\",\"definitely\",\"gives\",\"dialogue\",\"entertaining\",\"wonderful\",\"often\",\"live\",\"lines\",\"hope\",\"went\",\"stars\",\"case\",\"remember\",\"written\",\"couldn\",\"head\",\"early\",\"title\",\"yes\",\"human\",\"perfect\",\"become\",\"based\",\"friend\",\"children\",\"certainly\",\"liked\",\"problem\",\"drama\",\"son\",\"picture\",\"several\",\"fans\",\"under\",\"lead\",\"laugh\",\"oh\",\"guys\",\"humor\",\"supposed\",\"direction\",\"against\",\"absolutely\",\"overall\",\"sort\",\"piece\",\"episode\",\"finally\",\"game\",\"lives\",\"called\",\"entire\",\"evil\",\"cinema\",\"worse\",\"care\",\"waste\",\"killer\",\"dark\",\"felt\",\"beginning\",\"despite\",\"seemed\",\"genre\",\"final\",\"b\",\"totally\",\"history\",\"wanted\",\"unfortunately\",\"town\",\"throughout\",\"white\",\"city\",\"becomes\",\"able\",\"days\",\"already\",\"turn\",\"guess\",\"run\",\"fine\",\"loved\",\"act\",\"mr\",\"flick\",\"today\",\"horrible\",\"heart\",\"side\",\"hand\",\"kill\",\"tries\",\"wants\",\"starts\",\"quality\",\"killed\",\"past\",\"themselves\",\"child\",\"close\",\"matter\",\"group\",\"sound\",\"turns\",\"daughter\",\"parts\",\"viewer\",\"etc\",\"expect\",\"fight\",\"car\",\"enjoyed\",\"directed\",\"writing\",\"decent\",\"type\",\"violence\",\"stop\",\"example\",\"stuff\",\"self\",\"kid\",\"amazing\",\"behind\",\"soon\",\"blood\",\"favorite\",\"works\",\"known\",\"thinking\",\"gave\",\"obviously\",\"sometimes\",\"hero\",\"eyes\",\"actress\",\"girls\",\"michael\",\"happened\",\"brilliant\",\"stories\",\"except\",\"myself\",\"hour\",\"coming\",\"says\",\"writer\",\"late\",\"husband\",\"extremely\",\"experience\",\"hell\",\"happens\",\"art\",\"heard\",\"police\",\"took\",\"feeling\",\"roles\",\"leave\",\"highly\",\"attempt\",\"taken\",\"interest\",\"wouldn\",\"murder\",\"moment\",\"slow\",\"score\",\"god\",\"including\",\"looked\",\"obvious\",\"involved\",\"living\",\"anyway\",\"robert\",\"david\",\"cool\",\"hours\",\"save\",\"ok\",\"age\",\"voice\",\"o\",\"career\",\"told\",\"across\",\"wonder\",\"none\",\"strong\",\"cut\",\"happen\",\"please\",\"gore\",\"simple\",\"hilarious\",\"brother\",\"important\",\"exactly\",\"power\",\"chance\",\"ago\",\"james\",\"particularly\",\"relationship\",\"documentary\",\"level\",\"complete\",\"light\",\"female\",\"annoying\",\"possible\",\"serious\",\"cannot\",\"hit\",\"crap\",\"sad\",\"running\",\"lack\",\"sequel\",\"talent\",\"usually\",\"whose\",\"basically\",\"reality\",\"ends\",\"seriously\",\"strange\",\"order\",\"finds\",\"call\",\"taking\",\"somewhat\",\"room\",\"happy\",\"silly\",\"scary\",\"middle\",\"turned\",\"alone\",\"apparently\",\"ridiculous\",\"change\",\"clich\",\"country\",\"mostly\",\"attention\",\"miss\",\"four\",\"usual\",\"shown\",\"body\",\"song\",\"wish\",\"jokes\",\"number\",\"opening\",\"released\",\"disappointed\",\"word\",\"jack\",\"thriller\",\"single\",\"opinion\",\"straight\",\"future\",\"english\",\"words\",\"parents\",\"novel\",\"saying\",\"cinematography\",\"yourself\",\"view\",\"cheap\",\"started\",\"french\",\"beyond\",\"huge\",\"talking\",\"non\",\"clearly\",\"sets\",\"talk\",\"major\",\"die\",\"shots\",\"rating\",\"problems\",\"knew\",\"knows\",\"gay\",\"modern\",\"fast\",\"british\",\"due\",\"events\",\"tells\",\"add\",\"bring\",\"comic\",\"clear\",\"ones\",\"above\",\"hate\",\"storyline\",\"york\",\"easy\",\"typical\",\"entertainment\",\"aren\",\"easily\",\"haven\",\"within\",\"local\",\"upon\",\"general\",\"dialog\",\"crime\",\"ten\",\"giving\",\"george\",\"lots\",\"sequence\",\"america\",\"ways\",\"falls\",\"similar\",\"begins\",\"appears\",\"class\",\"near\",\"mystery\",\"named\",\"bunch\",\"filmed\",\"king\",\"elements\",\"romantic\",\"team\",\"certain\",\"review\",\"predictable\",\"working\",\"avoid\",\"stand\",\"de\",\"earth\",\"sorry\",\"th\",\"e\",\"television\",\"mention\",\"enjoyable\",\"supporting\",\"tale\",\"theme\",\"message\",\"points\",\"cop\",\"gone\",\"among\",\"fall\",\"space\",\"tom\",\"viewers\",\"eye\",\"red\",\"truth\",\"leads\",\"surprised\",\"stay\",\"release\",\"kept\",\"minute\",\"richard\",\"five\",\"dull\",\"killing\",\"using\",\"effort\",\"monster\",\"third\",\"brought\",\"musical\",\"feels\",\"suspense\",\"tried\",\"means\",\"whether\",\"comments\",\"sequences\",\"dog\",\"moving\",\"period\",\"peter\",\"lee\",\"needs\",\"doubt\",\"fi\",\"showing\",\"buy\",\"okay\",\"sci\",\"somehow\",\"soundtrack\",\"viewing\",\"rent\",\"herself\",\"nearly\",\"average\",\"songs\",\"theater\",\"episodes\",\"reviews\",\"whatever\",\"follow\",\"surprise\",\"feature\",\"form\",\"move\",\"forget\",\"realistic\",\"believable\",\"free\",\"material\",\"premise\",\"editing\",\"sister\",\"brothers\",\"deep\",\"imagine\",\"gun\",\"forced\",\"famous\",\"poorly\",\"deal\",\"crew\",\"western\",\"indeed\",\"expected\",\"check\",\"possibly\",\"fantastic\",\"lame\",\"society\",\"figure\",\"otherwise\",\"dr\",\"learn\",\"open\",\"paul\",\"eventually\",\"plus\",\"lady\",\"weak\",\"hear\",\"stage\",\"sexual\",\"leaves\",\"question\",\"note\",\"difficult\",\"sit\",\"towards\",\"romance\",\"box\",\"situation\",\"begin\",\"earlier\",\"personal\",\"atmosphere\",\"reading\",\"male\",\"screenplay\",\"wait\",\"decided\",\"joe\",\"battle\",\"interested\",\"powerful\",\"previous\",\"business\",\"greatest\",\"nor\",\"hot\",\"actual\",\"cheesy\",\"became\",\"acted\",\"worked\",\"animation\",\"subject\",\"island\",\"effect\",\"footage\",\"mess\",\"era\",\"oscar\",\"result\",\"meet\",\"rock\",\"credits\",\"features\",\"particular\",\"memorable\",\"whom\",\"boys\",\"air\",\"setting\",\"perfectly\",\"writers\",\"laughs\",\"street\",\"shame\",\"quickly\",\"rich\",\"older\",\"hands\",\"background\",\"keeps\",\"twist\",\"dramatic\",\"bill\",\"total\",\"present\",\"various\",\"appear\",\"pay\",\"telling\",\"directing\",\"william\",\"party\",\"alien\",\"unless\",\"crazy\",\"harry\",\"mark\",\"badly\",\"realize\",\"girlfriend\",\"forward\",\"front\",\"needed\",\"comment\",\"emotional\",\"imdb\",\"development\",\"fighting\",\"secret\",\"break\",\"fairly\",\"unique\",\"c\",\"baby\",\"outside\",\"married\",\"manages\",\"plenty\",\"villain\",\"apart\",\"missing\",\"masterpiece\",\"nature\",\"brings\",\"remake\",\"write\",\"former\",\"superb\",\"weird\",\"doctor\",\"clever\",\"escape\",\"list\",\"incredibly\",\"meets\",\"reasons\",\"hold\",\"created\",\"sounds\",\"sam\",\"inside\",\"unlike\",\"leading\",\"laughing\",\"ideas\",\"japanese\",\"season\",\"prison\",\"directors\",\"copy\",\"cute\",\"public\",\"return\",\"political\",\"violent\",\"success\",\"force\",\"create\",\"caught\",\"admit\",\"meant\",\"water\"]]]}}},\"view\":{\"type\":\"object\",\"name\":\"CDSView\",\"id\":\"p1039\",\"attributes\":{\"filter\":{\"type\":\"object\",\"name\":\"AllIndices\",\"id\":\"p1040\"}}},\"glyph\":{\"type\":\"object\",\"name\":\"Scatter\",\"id\":\"p1035\",\"attributes\":{\"x\":{\"type\":\"field\",\"field\":\"x1\"},\"y\":{\"type\":\"field\",\"field\":\"x2\"},\"size\":{\"type\":\"value\",\"value\":8},\"line_color\":{\"type\":\"value\",\"value\":\"#1f77b4\"},\"fill_color\":{\"type\":\"value\",\"value\":\"#1f77b4\"}}},\"nonselection_glyph\":{\"type\":\"object\",\"name\":\"Scatter\",\"id\":\"p1036\",\"attributes\":{\"x\":{\"type\":\"field\",\"field\":\"x1\"},\"y\":{\"type\":\"field\",\"field\":\"x2\"},\"size\":{\"type\":\"value\",\"value\":8},\"line_color\":{\"type\":\"value\",\"value\":\"#1f77b4\"},\"line_alpha\":{\"type\":\"value\",\"value\":0.1},\"fill_color\":{\"type\":\"value\",\"value\":\"#1f77b4\"},\"fill_alpha\":{\"type\":\"value\",\"value\":0.1},\"hatch_alpha\":{\"type\":\"value\",\"value\":0.1}}},\"muted_glyph\":{\"type\":\"object\",\"name\":\"Scatter\",\"id\":\"p1037\",\"attributes\":{\"x\":{\"type\":\"field\",\"field\":\"x1\"},\"y\":{\"type\":\"field\",\"field\":\"x2\"},\"size\":{\"type\":\"value\",\"value\":8},\"line_color\":{\"type\":\"value\",\"value\":\"#1f77b4\"},\"line_alpha\":{\"type\":\"value\",\"value\":0.2},\"fill_color\":{\"type\":\"value\",\"value\":\"#1f77b4\"},\"fill_alpha\":{\"type\":\"value\",\"value\":0.2},\"hatch_alpha\":{\"type\":\"value\",\"value\":0.2}}}}}],\"toolbar\":{\"type\":\"object\",\"name\":\"Toolbar\",\"id\":\"p1012\",\"attributes\":{\"tools\":[{\"type\":\"object\",\"name\":\"PanTool\",\"id\":\"p1025\"},{\"type\":\"object\",\"name\":\"WheelZoomTool\",\"id\":\"p1026\",\"attributes\":{\"renderers\":\"auto\"}},{\"type\":\"object\",\"name\":\"ResetTool\",\"id\":\"p1027\"},{\"type\":\"object\",\"name\":\"SaveTool\",\"id\":\"p1028\"}]}},\"toolbar_location\":\"above\",\"left\":[{\"type\":\"object\",\"name\":\"LinearAxis\",\"id\":\"p1020\",\"attributes\":{\"ticker\":{\"type\":\"object\",\"name\":\"BasicTicker\",\"id\":\"p1021\",\"attributes\":{\"mantissas\":[1,2,5]}},\"formatter\":{\"type\":\"object\",\"name\":\"BasicTickFormatter\",\"id\":\"p1022\"},\"major_label_policy\":{\"type\":\"object\",\"name\":\"AllLabels\",\"id\":\"p1023\"}}}],\"below\":[{\"type\":\"object\",\"name\":\"LinearAxis\",\"id\":\"p1015\",\"attributes\":{\"ticker\":{\"type\":\"object\",\"name\":\"BasicTicker\",\"id\":\"p1016\",\"attributes\":{\"mantissas\":[1,2,5]}},\"formatter\":{\"type\":\"object\",\"name\":\"BasicTickFormatter\",\"id\":\"p1017\"},\"major_label_policy\":{\"type\":\"object\",\"name\":\"AllLabels\",\"id\":\"p1018\"}}}],\"center\":[{\"type\":\"object\",\"name\":\"Grid\",\"id\":\"p1019\",\"attributes\":{\"axis\":{\"id\":\"p1015\"}}},{\"type\":\"object\",\"name\":\"Grid\",\"id\":\"p1024\",\"attributes\":{\"dimension\":1,\"axis\":{\"id\":\"p1020\"}}},{\"type\":\"object\",\"name\":\"LabelSet\",\"id\":\"p1041\",\"attributes\":{\"source\":{\"id\":\"p1029\"},\"x\":{\"type\":\"field\",\"field\":\"x1\"},\"y\":{\"type\":\"field\",\"field\":\"x2\"},\"text\":{\"type\":\"field\",\"field\":\"names\"},\"y_offset\":{\"type\":\"value\",\"value\":6},\"text_color\":{\"type\":\"value\",\"value\":\"#555555\"},\"text_font_size\":{\"type\":\"value\",\"value\":\"8pt\"},\"text_align\":{\"type\":\"value\",\"value\":\"center\"}}}]}}]}};\n  const render_items = [{\"docid\":\"2bb4904e-0a04-4f16-ba1b-f4f7cfa48530\",\"roots\":{\"p1003\":\"cc9f971a-54fb-4ea9-9f8d-b51f88620f96\"},\"root_ids\":[\"p1003\"]}];\n  void root.Bokeh.embed.embed_items_notebook(docs_json, render_items);\n  }\n  if (root.Bokeh !== undefined) {\n    embed_document(root);\n  } else {\n    let attempts = 0;\n    const timer = setInterval(function(root) {\n      if (root.Bokeh !== undefined) {\n        clearInterval(timer);\n        embed_document(root);\n      } else {\n        attempts++;\n        if (attempts > 100) {\n          clearInterval(timer);\n          console.log(\"Bokeh: ERROR: Unable to run BokehJS code because BokehJS library is missing\");\n        }\n      }\n    }, 10, root)\n  }\n})(window);",
      "application/vnd.bokehjs_exec.v0+json": ""
     },
     "metadata": {
      "application/vnd.bokehjs_exec.v0+json": {
       "id": "p1003"
      }
     },
     "output_type": "display_data"
    }
   ],
   "execution_count": 37
  },
  {
   "cell_type": "markdown",
   "metadata": {
    "id": "2Szes63RX-sl"
   },
   "source": [
    "Чтобы вычислить преобразование t-SNE быстрее (и иногда еще и эффективнее), можно сперва снизить размерность исходных данных с помощью, например, SVD (singular value decomposition, сингулярное разлолжение матрицы), и потом применять t-SNE.\n",
    "\n",
    "Понизим размерность наших векторов с исходных 300 до 50 с помощью SVD:\n"
   ]
  },
  {
   "cell_type": "code",
   "metadata": {
    "id": "p0R7hvIfX-sm",
    "ExecuteTime": {
     "end_time": "2025-05-29T16:34:40.008837Z",
     "start_time": "2025-05-29T16:34:37.863366Z"
    }
   },
   "source": [
    "# загружаем SVD из библиотеки sklearn\n",
    "from sklearn.decomposition import TruncatedSVD\n",
    "\n",
    "# инициализируем SVD\n",
    "svd_50 = TruncatedSVD(n_components=50)\n",
    "\n",
    "# обучаем и применяем разложение\n",
    "top_words_vec_50 = svd_50.fit_transform(top_words_vec)\n",
    "\n",
    "# обучаем и применяем TSNE\n",
    "top_words_tsne2 = TSNE(n_components=2, random_state=0).fit_transform(top_words_vec_50)"
   ],
   "outputs": [],
   "execution_count": 38
  },
  {
   "cell_type": "markdown",
   "metadata": {
    "id": "uyWn2hUQLNSs"
   },
   "source": [
    "Нарисуем полученный результат:"
   ]
  },
  {
   "cell_type": "code",
   "metadata": {
    "colab": {
     "base_uri": "https://localhost:8080/",
     "height": 616
    },
    "id": "zpUJyJibX-sn",
    "outputId": "3e342ea9-7be9-4e4c-a4fd-77c914b49abc",
    "ExecuteTime": {
     "end_time": "2025-05-29T16:34:43.650063Z",
     "start_time": "2025-05-29T16:34:43.590278Z"
    }
   },
   "source": [
    "output_notebook()\n",
    "\n",
    "p = figure(tools=\"pan,wheel_zoom,reset,save\",\n",
    "           toolbar_location=\"above\",\n",
    "           title=\"word2vec T-SNE (eng model, top1000 words, +SVD)\")\n",
    "\n",
    "source = ColumnDataSource(data=dict(x1=top_words_tsne2[:,0],\n",
    "                                    x2=top_words_tsne2[:,1],\n",
    "                                    names=top_words))\n",
    "\n",
    "p.scatter(x=\"x1\", y=\"x2\", size=8, source=source)\n",
    "\n",
    "labels = LabelSet(x=\"x1\", y=\"x2\", text=\"names\", y_offset=6,\n",
    "                  text_font_size=\"8pt\", text_color=\"#555555\",\n",
    "                  source=source, text_align='center')\n",
    "p.add_layout(labels)\n",
    "\n",
    "show(p)"
   ],
   "outputs": [
    {
     "data": {
      "text/html": [
       "    <style>\n",
       "        .bk-notebook-logo {\n",
       "            display: block;\n",
       "            width: 20px;\n",
       "            height: 20px;\n",
       "            background-image: url(data:image/png;base64,iVBORw0KGgoAAAANSUhEUgAAABQAAAAUCAYAAACNiR0NAAAABHNCSVQICAgIfAhkiAAAAAlwSFlzAAALEgAACxIB0t1+/AAAABx0RVh0U29mdHdhcmUAQWRvYmUgRmlyZXdvcmtzIENTNui8sowAAAOkSURBVDiNjZRtaJVlGMd/1/08zzln5zjP1LWcU9N0NkN8m2CYjpgQYQXqSs0I84OLIC0hkEKoPtiH3gmKoiJDU7QpLgoLjLIQCpEsNJ1vqUOdO7ppbuec5+V+rj4ctwzd8IIbbi6u+8f1539dt3A78eXC7QizUF7gyV1fD1Yqg4JWz84yffhm0qkFqBogB9rM8tZdtwVsPUhWhGcFJngGeWrPzHm5oaMmkfEg1usvLFyc8jLRqDOMru7AyC8saQr7GG7f5fvDeH7Ej8CM66nIF+8yngt6HWaKh7k49Soy9nXurCi1o3qUbS3zWfrYeQDTB/Qj6kX6Ybhw4B+bOYoLKCC9H3Nu/leUTZ1JdRWkkn2ldcCamzrcf47KKXdAJllSlxAOkRgyHsGC/zRday5Qld9DyoM4/q/rUoy/CXh3jzOu3bHUVZeU+DEn8FInkPBFlu3+nW3Nw0mk6vCDiWg8CeJaxEwuHS3+z5RgY+YBR6V1Z1nxSOfoaPa4LASWxxdNp+VWTk7+4vzaou8v8PN+xo+KY2xsw6une2frhw05CTYOmQvsEhjhWjn0bmXPjpE1+kplmmkP3suftwTubK9Vq22qKmrBhpY4jvd5afdRA3wGjFAgcnTK2s4hY0/GPNIb0nErGMCRxWOOX64Z8RAC4oCXdklmEvcL8o0BfkNK4lUg9HTl+oPlQxdNo3Mg4Nv175e/1LDGzZen30MEjRUtmXSfiTVu1kK8W4txyV6BMKlbgk3lMwYCiusNy9fVfvvwMxv8Ynl6vxoByANLTWplvuj/nF9m2+PDtt1eiHPBr1oIfhCChQMBw6Aw0UulqTKZdfVvfG7VcfIqLG9bcldL/+pdWTLxLUy8Qq38heUIjh4XlzZxzQm19lLFlr8vdQ97rjZVOLf8nclzckbcD4wxXMidpX30sFd37Fv/GtwwhzhxGVAprjbg0gCAEeIgwCZyTV2Z1REEW8O4py0wsjeloKoMr6iCY6dP92H6Vw/oTyICIthibxjm/DfN9lVz8IqtqKYLUXfoKVMVQVVJOElGjrnnUt9T9wbgp8AyYKaGlqingHZU/uG2NTZSVqwHQTWkx9hxjkpWDaCg6Ckj5qebgBVbT3V3NNXMSiWSDdGV3hrtzla7J+duwPOToIg42ChPQOQjspnSlp1V+Gjdged7+8UN5CRAV7a5EdFNwCjEaBR27b3W890TE7g24NAP/mMDXRWrGoFPQI9ls/MWO2dWFAar/xcOIImbbpA3zgAAAABJRU5ErkJggg==);\n",
       "        }\n",
       "    </style>\n",
       "    <div>\n",
       "        <a href=\"https://bokeh.org\" target=\"_blank\" class=\"bk-notebook-logo\"></a>\n",
       "        <span id=\"d6f269c3-2e15-4459-834e-e7b19a0d1170\">Loading BokehJS ...</span>\n",
       "    </div>\n"
      ]
     },
     "metadata": {},
     "output_type": "display_data"
    },
    {
     "data": {
      "application/javascript": "'use strict';\n(function(root) {\n  function now() {\n    return new Date();\n  }\n\n  const force = true;\n\n  if (typeof root._bokeh_onload_callbacks === \"undefined\" || force === true) {\n    root._bokeh_onload_callbacks = [];\n    root._bokeh_is_loading = undefined;\n  }\n\nconst JS_MIME_TYPE = 'application/javascript';\n  const HTML_MIME_TYPE = 'text/html';\n  const EXEC_MIME_TYPE = 'application/vnd.bokehjs_exec.v0+json';\n  const CLASS_NAME = 'output_bokeh rendered_html';\n\n  /**\n   * Render data to the DOM node\n   */\n  function render(props, node) {\n    const script = document.createElement(\"script\");\n    node.appendChild(script);\n  }\n\n  /**\n   * Handle when an output is cleared or removed\n   */\n  function handleClearOutput(event, handle) {\n    function drop(id) {\n      const view = Bokeh.index.get_by_id(id)\n      if (view != null) {\n        view.model.document.clear()\n        Bokeh.index.delete(view)\n      }\n    }\n\n    const cell = handle.cell;\n\n    const id = cell.output_area._bokeh_element_id;\n    const server_id = cell.output_area._bokeh_server_id;\n\n    // Clean up Bokeh references\n    if (id != null) {\n      drop(id)\n    }\n\n    if (server_id !== undefined) {\n      // Clean up Bokeh references\n      const cmd_clean = \"from bokeh.io.state import curstate; print(curstate().uuid_to_server['\" + server_id + \"'].get_sessions()[0].document.roots[0]._id)\";\n      cell.notebook.kernel.execute(cmd_clean, {\n        iopub: {\n          output: function(msg) {\n            const id = msg.content.text.trim()\n            drop(id)\n          }\n        }\n      });\n      // Destroy server and session\n      const cmd_destroy = \"import bokeh.io.notebook as ion; ion.destroy_server('\" + server_id + \"')\";\n      cell.notebook.kernel.execute(cmd_destroy);\n    }\n  }\n\n  /**\n   * Handle when a new output is added\n   */\n  function handleAddOutput(event, handle) {\n    const output_area = handle.output_area;\n    const output = handle.output;\n\n    // limit handleAddOutput to display_data with EXEC_MIME_TYPE content only\n    if ((output.output_type != \"display_data\") || (!Object.prototype.hasOwnProperty.call(output.data, EXEC_MIME_TYPE))) {\n      return\n    }\n\n    const toinsert = output_area.element.find(\".\" + CLASS_NAME.split(' ')[0]);\n\n    if (output.metadata[EXEC_MIME_TYPE][\"id\"] !== undefined) {\n      toinsert[toinsert.length - 1].firstChild.textContent = output.data[JS_MIME_TYPE];\n      // store reference to embed id on output_area\n      output_area._bokeh_element_id = output.metadata[EXEC_MIME_TYPE][\"id\"];\n    }\n    if (output.metadata[EXEC_MIME_TYPE][\"server_id\"] !== undefined) {\n      const bk_div = document.createElement(\"div\");\n      bk_div.innerHTML = output.data[HTML_MIME_TYPE];\n      const script_attrs = bk_div.children[0].attributes;\n      for (let i = 0; i < script_attrs.length; i++) {\n        toinsert[toinsert.length - 1].firstChild.setAttribute(script_attrs[i].name, script_attrs[i].value);\n        toinsert[toinsert.length - 1].firstChild.textContent = bk_div.children[0].textContent\n      }\n      // store reference to server id on output_area\n      output_area._bokeh_server_id = output.metadata[EXEC_MIME_TYPE][\"server_id\"];\n    }\n  }\n\n  function register_renderer(events, OutputArea) {\n\n    function append_mime(data, metadata, element) {\n      // create a DOM node to render to\n      const toinsert = this.create_output_subarea(\n        metadata,\n        CLASS_NAME,\n        EXEC_MIME_TYPE\n      );\n      this.keyboard_manager.register_events(toinsert);\n      // Render to node\n      const props = {data: data, metadata: metadata[EXEC_MIME_TYPE]};\n      render(props, toinsert[toinsert.length - 1]);\n      element.append(toinsert);\n      return toinsert\n    }\n\n    /* Handle when an output is cleared or removed */\n    events.on('clear_output.CodeCell', handleClearOutput);\n    events.on('delete.Cell', handleClearOutput);\n\n    /* Handle when a new output is added */\n    events.on('output_added.OutputArea', handleAddOutput);\n\n    /**\n     * Register the mime type and append_mime function with output_area\n     */\n    OutputArea.prototype.register_mime_type(EXEC_MIME_TYPE, append_mime, {\n      /* Is output safe? */\n      safe: true,\n      /* Index of renderer in `output_area.display_order` */\n      index: 0\n    });\n  }\n\n  // register the mime type if in Jupyter Notebook environment and previously unregistered\n  if (root.Jupyter !== undefined) {\n    const events = require('base/js/events');\n    const OutputArea = require('notebook/js/outputarea').OutputArea;\n\n    if (OutputArea.prototype.mime_types().indexOf(EXEC_MIME_TYPE) == -1) {\n      register_renderer(events, OutputArea);\n    }\n  }\n  if (typeof (root._bokeh_timeout) === \"undefined\" || force === true) {\n    root._bokeh_timeout = Date.now() + 5000;\n    root._bokeh_failed_load = false;\n  }\n\n  const NB_LOAD_WARNING = {'data': {'text/html':\n     \"<div style='background-color: #fdd'>\\n\"+\n     \"<p>\\n\"+\n     \"BokehJS does not appear to have successfully loaded. If loading BokehJS from CDN, this \\n\"+\n     \"may be due to a slow or bad network connection. Possible fixes:\\n\"+\n     \"</p>\\n\"+\n     \"<ul>\\n\"+\n     \"<li>re-rerun `output_notebook()` to attempt to load from CDN again, or</li>\\n\"+\n     \"<li>use INLINE resources instead, as so:</li>\\n\"+\n     \"</ul>\\n\"+\n     \"<code>\\n\"+\n     \"from bokeh.resources import INLINE\\n\"+\n     \"output_notebook(resources=INLINE)\\n\"+\n     \"</code>\\n\"+\n     \"</div>\"}};\n\n  function display_loaded(error = null) {\n    const el = document.getElementById(\"d6f269c3-2e15-4459-834e-e7b19a0d1170\");\n    if (el != null) {\n      const html = (() => {\n        if (typeof root.Bokeh === \"undefined\") {\n          if (error == null) {\n            return \"BokehJS is loading ...\";\n          } else {\n            return \"BokehJS failed to load.\";\n          }\n        } else {\n          const prefix = `BokehJS ${root.Bokeh.version}`;\n          if (error == null) {\n            return `${prefix} successfully loaded.`;\n          } else {\n            return `${prefix} <b>encountered errors</b> while loading and may not function as expected.`;\n          }\n        }\n      })();\n      el.innerHTML = html;\n\n      if (error != null) {\n        const wrapper = document.createElement(\"div\");\n        wrapper.style.overflow = \"auto\";\n        wrapper.style.height = \"5em\";\n        wrapper.style.resize = \"vertical\";\n        const content = document.createElement(\"div\");\n        content.style.fontFamily = \"monospace\";\n        content.style.whiteSpace = \"pre-wrap\";\n        content.style.backgroundColor = \"rgb(255, 221, 221)\";\n        content.textContent = error.stack ?? error.toString();\n        wrapper.append(content);\n        el.append(wrapper);\n      }\n    } else if (Date.now() < root._bokeh_timeout) {\n      setTimeout(() => display_loaded(error), 100);\n    }\n  }\n\n  function run_callbacks() {\n    try {\n      root._bokeh_onload_callbacks.forEach(function(callback) {\n        if (callback != null)\n          callback();\n      });\n    } finally {\n      delete root._bokeh_onload_callbacks\n    }\n    console.debug(\"Bokeh: all callbacks have finished\");\n  }\n\n  function load_libs(css_urls, js_urls, callback) {\n    if (css_urls == null) css_urls = [];\n    if (js_urls == null) js_urls = [];\n\n    root._bokeh_onload_callbacks.push(callback);\n    if (root._bokeh_is_loading > 0) {\n      console.debug(\"Bokeh: BokehJS is being loaded, scheduling callback at\", now());\n      return null;\n    }\n    if (js_urls == null || js_urls.length === 0) {\n      run_callbacks();\n      return null;\n    }\n    console.debug(\"Bokeh: BokehJS not loaded, scheduling load and callback at\", now());\n    root._bokeh_is_loading = css_urls.length + js_urls.length;\n\n    function on_load() {\n      root._bokeh_is_loading--;\n      if (root._bokeh_is_loading === 0) {\n        console.debug(\"Bokeh: all BokehJS libraries/stylesheets loaded\");\n        run_callbacks()\n      }\n    }\n\n    function on_error(url) {\n      console.error(\"failed to load \" + url);\n    }\n\n    for (let i = 0; i < css_urls.length; i++) {\n      const url = css_urls[i];\n      const element = document.createElement(\"link\");\n      element.onload = on_load;\n      element.onerror = on_error.bind(null, url);\n      element.rel = \"stylesheet\";\n      element.type = \"text/css\";\n      element.href = url;\n      console.debug(\"Bokeh: injecting link tag for BokehJS stylesheet: \", url);\n      document.body.appendChild(element);\n    }\n\n    for (let i = 0; i < js_urls.length; i++) {\n      const url = js_urls[i];\n      const element = document.createElement('script');\n      element.onload = on_load;\n      element.onerror = on_error.bind(null, url);\n      element.async = false;\n      element.src = url;\n      console.debug(\"Bokeh: injecting script tag for BokehJS library: \", url);\n      document.head.appendChild(element);\n    }\n  };\n\n  function inject_raw_css(css) {\n    const element = document.createElement(\"style\");\n    element.appendChild(document.createTextNode(css));\n    document.body.appendChild(element);\n  }\n\n  const js_urls = [\"https://cdn.bokeh.org/bokeh/release/bokeh-3.7.3.min.js\", \"https://cdn.bokeh.org/bokeh/release/bokeh-gl-3.7.3.min.js\", \"https://cdn.bokeh.org/bokeh/release/bokeh-widgets-3.7.3.min.js\", \"https://cdn.bokeh.org/bokeh/release/bokeh-tables-3.7.3.min.js\", \"https://cdn.bokeh.org/bokeh/release/bokeh-mathjax-3.7.3.min.js\"];\n  const css_urls = [];\n\n  const inline_js = [    function(Bokeh) {\n      Bokeh.set_log_level(\"info\");\n    },\nfunction(Bokeh) {\n    }\n  ];\n\n  function run_inline_js() {\n    if (root.Bokeh !== undefined || force === true) {\n      try {\n            for (let i = 0; i < inline_js.length; i++) {\n      inline_js[i].call(root, root.Bokeh);\n    }\n\n      } catch (error) {display_loaded(error);throw error;\n      }if (force === true) {\n        display_loaded();\n      }} else if (Date.now() < root._bokeh_timeout) {\n      setTimeout(run_inline_js, 100);\n    } else if (!root._bokeh_failed_load) {\n      console.log(\"Bokeh: BokehJS failed to load within specified timeout.\");\n      root._bokeh_failed_load = true;\n    } else if (force !== true) {\n      const cell = $(document.getElementById(\"d6f269c3-2e15-4459-834e-e7b19a0d1170\")).parents('.cell').data().cell;\n      cell.output_area.append_execute_result(NB_LOAD_WARNING)\n    }\n  }\n\n  if (root._bokeh_is_loading === 0) {\n    console.debug(\"Bokeh: BokehJS loaded, going straight to plotting\");\n    run_inline_js();\n  } else {\n    load_libs(css_urls, js_urls, function() {\n      console.debug(\"Bokeh: BokehJS plotting callback run at\", now());\n      run_inline_js();\n    });\n  }\n}(window));",
      "application/vnd.bokehjs_load.v0+json": "'use strict';\n(function(root) {\n  function now() {\n    return new Date();\n  }\n\n  const force = true;\n\n  if (typeof root._bokeh_onload_callbacks === \"undefined\" || force === true) {\n    root._bokeh_onload_callbacks = [];\n    root._bokeh_is_loading = undefined;\n  }\n\n\n  if (typeof (root._bokeh_timeout) === \"undefined\" || force === true) {\n    root._bokeh_timeout = Date.now() + 5000;\n    root._bokeh_failed_load = false;\n  }\n\n  const NB_LOAD_WARNING = {'data': {'text/html':\n     \"<div style='background-color: #fdd'>\\n\"+\n     \"<p>\\n\"+\n     \"BokehJS does not appear to have successfully loaded. If loading BokehJS from CDN, this \\n\"+\n     \"may be due to a slow or bad network connection. Possible fixes:\\n\"+\n     \"</p>\\n\"+\n     \"<ul>\\n\"+\n     \"<li>re-rerun `output_notebook()` to attempt to load from CDN again, or</li>\\n\"+\n     \"<li>use INLINE resources instead, as so:</li>\\n\"+\n     \"</ul>\\n\"+\n     \"<code>\\n\"+\n     \"from bokeh.resources import INLINE\\n\"+\n     \"output_notebook(resources=INLINE)\\n\"+\n     \"</code>\\n\"+\n     \"</div>\"}};\n\n  function display_loaded(error = null) {\n    const el = document.getElementById(\"d6f269c3-2e15-4459-834e-e7b19a0d1170\");\n    if (el != null) {\n      const html = (() => {\n        if (typeof root.Bokeh === \"undefined\") {\n          if (error == null) {\n            return \"BokehJS is loading ...\";\n          } else {\n            return \"BokehJS failed to load.\";\n          }\n        } else {\n          const prefix = `BokehJS ${root.Bokeh.version}`;\n          if (error == null) {\n            return `${prefix} successfully loaded.`;\n          } else {\n            return `${prefix} <b>encountered errors</b> while loading and may not function as expected.`;\n          }\n        }\n      })();\n      el.innerHTML = html;\n\n      if (error != null) {\n        const wrapper = document.createElement(\"div\");\n        wrapper.style.overflow = \"auto\";\n        wrapper.style.height = \"5em\";\n        wrapper.style.resize = \"vertical\";\n        const content = document.createElement(\"div\");\n        content.style.fontFamily = \"monospace\";\n        content.style.whiteSpace = \"pre-wrap\";\n        content.style.backgroundColor = \"rgb(255, 221, 221)\";\n        content.textContent = error.stack ?? error.toString();\n        wrapper.append(content);\n        el.append(wrapper);\n      }\n    } else if (Date.now() < root._bokeh_timeout) {\n      setTimeout(() => display_loaded(error), 100);\n    }\n  }\n\n  function run_callbacks() {\n    try {\n      root._bokeh_onload_callbacks.forEach(function(callback) {\n        if (callback != null)\n          callback();\n      });\n    } finally {\n      delete root._bokeh_onload_callbacks\n    }\n    console.debug(\"Bokeh: all callbacks have finished\");\n  }\n\n  function load_libs(css_urls, js_urls, callback) {\n    if (css_urls == null) css_urls = [];\n    if (js_urls == null) js_urls = [];\n\n    root._bokeh_onload_callbacks.push(callback);\n    if (root._bokeh_is_loading > 0) {\n      console.debug(\"Bokeh: BokehJS is being loaded, scheduling callback at\", now());\n      return null;\n    }\n    if (js_urls == null || js_urls.length === 0) {\n      run_callbacks();\n      return null;\n    }\n    console.debug(\"Bokeh: BokehJS not loaded, scheduling load and callback at\", now());\n    root._bokeh_is_loading = css_urls.length + js_urls.length;\n\n    function on_load() {\n      root._bokeh_is_loading--;\n      if (root._bokeh_is_loading === 0) {\n        console.debug(\"Bokeh: all BokehJS libraries/stylesheets loaded\");\n        run_callbacks()\n      }\n    }\n\n    function on_error(url) {\n      console.error(\"failed to load \" + url);\n    }\n\n    for (let i = 0; i < css_urls.length; i++) {\n      const url = css_urls[i];\n      const element = document.createElement(\"link\");\n      element.onload = on_load;\n      element.onerror = on_error.bind(null, url);\n      element.rel = \"stylesheet\";\n      element.type = \"text/css\";\n      element.href = url;\n      console.debug(\"Bokeh: injecting link tag for BokehJS stylesheet: \", url);\n      document.body.appendChild(element);\n    }\n\n    for (let i = 0; i < js_urls.length; i++) {\n      const url = js_urls[i];\n      const element = document.createElement('script');\n      element.onload = on_load;\n      element.onerror = on_error.bind(null, url);\n      element.async = false;\n      element.src = url;\n      console.debug(\"Bokeh: injecting script tag for BokehJS library: \", url);\n      document.head.appendChild(element);\n    }\n  };\n\n  function inject_raw_css(css) {\n    const element = document.createElement(\"style\");\n    element.appendChild(document.createTextNode(css));\n    document.body.appendChild(element);\n  }\n\n  const js_urls = [\"https://cdn.bokeh.org/bokeh/release/bokeh-3.7.3.min.js\", \"https://cdn.bokeh.org/bokeh/release/bokeh-gl-3.7.3.min.js\", \"https://cdn.bokeh.org/bokeh/release/bokeh-widgets-3.7.3.min.js\", \"https://cdn.bokeh.org/bokeh/release/bokeh-tables-3.7.3.min.js\", \"https://cdn.bokeh.org/bokeh/release/bokeh-mathjax-3.7.3.min.js\"];\n  const css_urls = [];\n\n  const inline_js = [    function(Bokeh) {\n      Bokeh.set_log_level(\"info\");\n    },\nfunction(Bokeh) {\n    }\n  ];\n\n  function run_inline_js() {\n    if (root.Bokeh !== undefined || force === true) {\n      try {\n            for (let i = 0; i < inline_js.length; i++) {\n      inline_js[i].call(root, root.Bokeh);\n    }\n\n      } catch (error) {display_loaded(error);throw error;\n      }if (force === true) {\n        display_loaded();\n      }} else if (Date.now() < root._bokeh_timeout) {\n      setTimeout(run_inline_js, 100);\n    } else if (!root._bokeh_failed_load) {\n      console.log(\"Bokeh: BokehJS failed to load within specified timeout.\");\n      root._bokeh_failed_load = true;\n    } else if (force !== true) {\n      const cell = $(document.getElementById(\"d6f269c3-2e15-4459-834e-e7b19a0d1170\")).parents('.cell').data().cell;\n      cell.output_area.append_execute_result(NB_LOAD_WARNING)\n    }\n  }\n\n  if (root._bokeh_is_loading === 0) {\n    console.debug(\"Bokeh: BokehJS loaded, going straight to plotting\");\n    run_inline_js();\n  } else {\n    load_libs(css_urls, js_urls, function() {\n      console.debug(\"Bokeh: BokehJS plotting callback run at\", now());\n      run_inline_js();\n    });\n  }\n}(window));"
     },
     "metadata": {},
     "output_type": "display_data"
    },
    {
     "data": {
      "text/html": [
       "\n",
       "  <div id=\"ac7cbcb7-c576-4a83-b866-b175b36b6407\" data-root-id=\"p1047\" style=\"display: contents;\"></div>\n"
      ]
     },
     "metadata": {},
     "output_type": "display_data"
    },
    {
     "data": {
      "application/javascript": "(function(root) {\n  function embed_document(root) {\n  const docs_json = {\"8c043cd7-62a3-4d13-9853-38d6a467058b\":{\"version\":\"3.7.3\",\"title\":\"Bokeh Application\",\"roots\":[{\"type\":\"object\",\"name\":\"Figure\",\"id\":\"p1047\",\"attributes\":{\"x_range\":{\"type\":\"object\",\"name\":\"DataRange1d\",\"id\":\"p1048\"},\"y_range\":{\"type\":\"object\",\"name\":\"DataRange1d\",\"id\":\"p1049\"},\"x_scale\":{\"type\":\"object\",\"name\":\"LinearScale\",\"id\":\"p1057\"},\"y_scale\":{\"type\":\"object\",\"name\":\"LinearScale\",\"id\":\"p1058\"},\"title\":{\"type\":\"object\",\"name\":\"Title\",\"id\":\"p1050\",\"attributes\":{\"text\":\"word2vec T-SNE (eng model, top1000 words, +SVD)\"}},\"renderers\":[{\"type\":\"object\",\"name\":\"GlyphRenderer\",\"id\":\"p1082\",\"attributes\":{\"data_source\":{\"type\":\"object\",\"name\":\"ColumnDataSource\",\"id\":\"p1073\",\"attributes\":{\"selected\":{\"type\":\"object\",\"name\":\"Selection\",\"id\":\"p1074\",\"attributes\":{\"indices\":[],\"line_indices\":[]}},\"selection_policy\":{\"type\":\"object\",\"name\":\"UnionRenderers\",\"id\":\"p1075\"},\"data\":{\"type\":\"map\",\"entries\":[[\"x1\",{\"type\":\"ndarray\",\"array\":{\"type\":\"bytes\",\"data\":\"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\"},\"shape\":[1000],\"dtype\":\"float32\",\"order\":\"little\"}],[\"x2\",{\"type\":\"ndarray\",\"array\":{\"type\":\"bytes\",\"data\":\"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\"},\"shape\":[1000],\"dtype\":\"float32\",\"order\":\"little\"}],[\"names\",[\"the\",\"and\",\"a\",\"of\",\"to\",\"is\",\"it\",\"in\",\"i\",\"this\",\"that\",\"s\",\"was\",\"as\",\"with\",\"for\",\"movie\",\"but\",\"film\",\"you\",\"t\",\"on\",\"not\",\"he\",\"are\",\"his\",\"have\",\"be\",\"one\",\"all\",\"they\",\"at\",\"by\",\"who\",\"an\",\"from\",\"so\",\"like\",\"there\",\"or\",\"her\",\"just\",\"about\",\"out\",\"has\",\"if\",\"what\",\"some\",\"good\",\"can\",\"when\",\"more\",\"very\",\"she\",\"up\",\"no\",\"time\",\"even\",\"would\",\"their\",\"my\",\"which\",\"story\",\"only\",\"really\",\"see\",\"had\",\"were\",\"well\",\"me\",\"we\",\"than\",\"much\",\"bad\",\"been\",\"get\",\"people\",\"great\",\"into\",\"also\",\"do\",\"other\",\"first\",\"will\",\"him\",\"because\",\"most\",\"how\",\"don\",\"them\",\"make\",\"its\",\"made\",\"way\",\"could\",\"then\",\"too\",\"movies\",\"after\",\"any\",\"characters\",\"character\",\"films\",\"two\",\"think\",\"watch\",\"being\",\"plot\",\"many\",\"where\",\"never\",\"love\",\"seen\",\"little\",\"life\",\"acting\",\"best\",\"did\",\"off\",\"know\",\"over\",\"ever\",\"does\",\"show\",\"better\",\"man\",\"your\",\"end\",\"here\",\"scene\",\"while\",\"these\",\"why\",\"still\",\"scenes\",\"something\",\"say\",\"go\",\"m\",\"ve\",\"should\",\"back\",\"such\",\"real\",\"through\",\"those\",\"now\",\"re\",\"doesn\",\"watching\",\"thing\",\"director\",\"funny\",\"though\",\"years\",\"didn\",\"another\",\"actors\",\"new\",\"going\",\"old\",\"makes\",\"nothing\",\"actually\",\"before\",\"work\",\"look\",\"same\",\"find\",\"lot\",\"part\",\"few\",\"every\",\"again\",\"world\",\"action\",\"cast\",\"horror\",\"things\",\"us\",\"quite\",\"want\",\"down\",\"pretty\",\"young\",\"fact\",\"around\",\"seems\",\"enough\",\"both\",\"take\",\"long\",\"however\",\"thought\",\"got\",\"own\",\"give\",\"comedy\",\"between\",\"big\",\"d\",\"must\",\"series\",\"right\",\"may\",\"without\",\"role\",\"guy\",\"original\",\"interesting\",\"whole\",\"come\",\"isn\",\"times\",\"always\",\"saw\",\"least\",\"bit\",\"gets\",\"almost\",\"script\",\"point\",\"last\",\"music\",\"done\",\"minutes\",\"feel\",\"far\",\"since\",\"girl\",\"ll\",\"yet\",\"might\",\"making\",\"performance\",\"away\",\"family\",\"anything\",\"am\",\"probably\",\"hard\",\"woman\",\"tv\",\"kind\",\"fun\",\"rather\",\"day\",\"played\",\"worst\",\"each\",\"found\",\"sure\",\"anyone\",\"especially\",\"trying\",\"having\",\"our\",\"screen\",\"looking\",\"different\",\"believe\",\"sense\",\"place\",\"american\",\"although\",\"ending\",\"goes\",\"worth\",\"course\",\"set\",\"shows\",\"maybe\",\"three\",\"comes\",\"dvd\",\"money\",\"once\",\"everything\",\"plays\",\"effects\",\"put\",\"john\",\"looks\",\"actor\",\"main\",\"together\",\"during\",\"someone\",\"let\",\"wasn\",\"instead\",\"everyone\",\"war\",\"year\",\"reason\",\"takes\",\"special\",\"said\",\"true\",\"high\",\"night\",\"book\",\"seem\",\"job\",\"play\",\"watched\",\"audience\",\"later\",\"wife\",\"black\",\"death\",\"himself\",\"star\",\"half\",\"seeing\",\"used\",\"idea\",\"dead\",\"second\",\"men\",\"left\",\"excellent\",\"simply\",\"shot\",\"else\",\"beautiful\",\"sex\",\"completely\",\"budget\",\"father\",\"women\",\"mind\",\"house\",\"hollywood\",\"poor\",\"less\",\"fan\",\"along\",\"boring\",\"performances\",\"home\",\"line\",\"help\",\"nice\",\"try\",\"couple\",\"top\",\"version\",\"until\",\"either\",\"low\",\"next\",\"camera\",\"use\",\"friends\",\"short\",\"wrong\",\"start\",\"kids\",\"given\",\"mother\",\"read\",\"need\",\"full\",\"enjoy\",\"production\",\"classic\",\"perhaps\",\"school\",\"moments\",\"truly\",\"stupid\",\"keep\",\"awful\",\"getting\",\"rest\",\"video\",\"face\",\"tell\",\"mean\",\"others\",\"itself\",\"understand\",\"boy\",\"terrible\",\"small\",\"name\",\"style\",\"came\",\"won\",\"playing\",\"recommend\",\"doing\",\"lost\",\"person\",\"definitely\",\"gives\",\"dialogue\",\"entertaining\",\"wonderful\",\"often\",\"live\",\"lines\",\"hope\",\"went\",\"stars\",\"case\",\"remember\",\"written\",\"couldn\",\"head\",\"early\",\"title\",\"yes\",\"human\",\"perfect\",\"become\",\"based\",\"friend\",\"children\",\"certainly\",\"liked\",\"problem\",\"drama\",\"son\",\"picture\",\"several\",\"fans\",\"under\",\"lead\",\"laugh\",\"oh\",\"guys\",\"humor\",\"supposed\",\"direction\",\"against\",\"absolutely\",\"overall\",\"sort\",\"piece\",\"episode\",\"finally\",\"game\",\"lives\",\"called\",\"entire\",\"evil\",\"cinema\",\"worse\",\"care\",\"waste\",\"killer\",\"dark\",\"felt\",\"beginning\",\"despite\",\"seemed\",\"genre\",\"final\",\"b\",\"totally\",\"history\",\"wanted\",\"unfortunately\",\"town\",\"throughout\",\"white\",\"city\",\"becomes\",\"able\",\"days\",\"already\",\"turn\",\"guess\",\"run\",\"fine\",\"loved\",\"act\",\"mr\",\"flick\",\"today\",\"horrible\",\"heart\",\"side\",\"hand\",\"kill\",\"tries\",\"wants\",\"starts\",\"quality\",\"killed\",\"past\",\"themselves\",\"child\",\"close\",\"matter\",\"group\",\"sound\",\"turns\",\"daughter\",\"parts\",\"viewer\",\"etc\",\"expect\",\"fight\",\"car\",\"enjoyed\",\"directed\",\"writing\",\"decent\",\"type\",\"violence\",\"stop\",\"example\",\"stuff\",\"self\",\"kid\",\"amazing\",\"behind\",\"soon\",\"blood\",\"favorite\",\"works\",\"known\",\"thinking\",\"gave\",\"obviously\",\"sometimes\",\"hero\",\"eyes\",\"actress\",\"girls\",\"michael\",\"happened\",\"brilliant\",\"stories\",\"except\",\"myself\",\"hour\",\"coming\",\"says\",\"writer\",\"late\",\"husband\",\"extremely\",\"experience\",\"hell\",\"happens\",\"art\",\"heard\",\"police\",\"took\",\"feeling\",\"roles\",\"leave\",\"highly\",\"attempt\",\"taken\",\"interest\",\"wouldn\",\"murder\",\"moment\",\"slow\",\"score\",\"god\",\"including\",\"looked\",\"obvious\",\"involved\",\"living\",\"anyway\",\"robert\",\"david\",\"cool\",\"hours\",\"save\",\"ok\",\"age\",\"voice\",\"o\",\"career\",\"told\",\"across\",\"wonder\",\"none\",\"strong\",\"cut\",\"happen\",\"please\",\"gore\",\"simple\",\"hilarious\",\"brother\",\"important\",\"exactly\",\"power\",\"chance\",\"ago\",\"james\",\"particularly\",\"relationship\",\"documentary\",\"level\",\"complete\",\"light\",\"female\",\"annoying\",\"possible\",\"serious\",\"cannot\",\"hit\",\"crap\",\"sad\",\"running\",\"lack\",\"sequel\",\"talent\",\"usually\",\"whose\",\"basically\",\"reality\",\"ends\",\"seriously\",\"strange\",\"order\",\"finds\",\"call\",\"taking\",\"somewhat\",\"room\",\"happy\",\"silly\",\"scary\",\"middle\",\"turned\",\"alone\",\"apparently\",\"ridiculous\",\"change\",\"clich\",\"country\",\"mostly\",\"attention\",\"miss\",\"four\",\"usual\",\"shown\",\"body\",\"song\",\"wish\",\"jokes\",\"number\",\"opening\",\"released\",\"disappointed\",\"word\",\"jack\",\"thriller\",\"single\",\"opinion\",\"straight\",\"future\",\"english\",\"words\",\"parents\",\"novel\",\"saying\",\"cinematography\",\"yourself\",\"view\",\"cheap\",\"started\",\"french\",\"beyond\",\"huge\",\"talking\",\"non\",\"clearly\",\"sets\",\"talk\",\"major\",\"die\",\"shots\",\"rating\",\"problems\",\"knew\",\"knows\",\"gay\",\"modern\",\"fast\",\"british\",\"due\",\"events\",\"tells\",\"add\",\"bring\",\"comic\",\"clear\",\"ones\",\"above\",\"hate\",\"storyline\",\"york\",\"easy\",\"typical\",\"entertainment\",\"aren\",\"easily\",\"haven\",\"within\",\"local\",\"upon\",\"general\",\"dialog\",\"crime\",\"ten\",\"giving\",\"george\",\"lots\",\"sequence\",\"america\",\"ways\",\"falls\",\"similar\",\"begins\",\"appears\",\"class\",\"near\",\"mystery\",\"named\",\"bunch\",\"filmed\",\"king\",\"elements\",\"romantic\",\"team\",\"certain\",\"review\",\"predictable\",\"working\",\"avoid\",\"stand\",\"de\",\"earth\",\"sorry\",\"th\",\"e\",\"television\",\"mention\",\"enjoyable\",\"supporting\",\"tale\",\"theme\",\"message\",\"points\",\"cop\",\"gone\",\"among\",\"fall\",\"space\",\"tom\",\"viewers\",\"eye\",\"red\",\"truth\",\"leads\",\"surprised\",\"stay\",\"release\",\"kept\",\"minute\",\"richard\",\"five\",\"dull\",\"killing\",\"using\",\"effort\",\"monster\",\"third\",\"brought\",\"musical\",\"feels\",\"suspense\",\"tried\",\"means\",\"whether\",\"comments\",\"sequences\",\"dog\",\"moving\",\"period\",\"peter\",\"lee\",\"needs\",\"doubt\",\"fi\",\"showing\",\"buy\",\"okay\",\"sci\",\"somehow\",\"soundtrack\",\"viewing\",\"rent\",\"herself\",\"nearly\",\"average\",\"songs\",\"theater\",\"episodes\",\"reviews\",\"whatever\",\"follow\",\"surprise\",\"feature\",\"form\",\"move\",\"forget\",\"realistic\",\"believable\",\"free\",\"material\",\"premise\",\"editing\",\"sister\",\"brothers\",\"deep\",\"imagine\",\"gun\",\"forced\",\"famous\",\"poorly\",\"deal\",\"crew\",\"western\",\"indeed\",\"expected\",\"check\",\"possibly\",\"fantastic\",\"lame\",\"society\",\"figure\",\"otherwise\",\"dr\",\"learn\",\"open\",\"paul\",\"eventually\",\"plus\",\"lady\",\"weak\",\"hear\",\"stage\",\"sexual\",\"leaves\",\"question\",\"note\",\"difficult\",\"sit\",\"towards\",\"romance\",\"box\",\"situation\",\"begin\",\"earlier\",\"personal\",\"atmosphere\",\"reading\",\"male\",\"screenplay\",\"wait\",\"decided\",\"joe\",\"battle\",\"interested\",\"powerful\",\"previous\",\"business\",\"greatest\",\"nor\",\"hot\",\"actual\",\"cheesy\",\"became\",\"acted\",\"worked\",\"animation\",\"subject\",\"island\",\"effect\",\"footage\",\"mess\",\"era\",\"oscar\",\"result\",\"meet\",\"rock\",\"credits\",\"features\",\"particular\",\"memorable\",\"whom\",\"boys\",\"air\",\"setting\",\"perfectly\",\"writers\",\"laughs\",\"street\",\"shame\",\"quickly\",\"rich\",\"older\",\"hands\",\"background\",\"keeps\",\"twist\",\"dramatic\",\"bill\",\"total\",\"present\",\"various\",\"appear\",\"pay\",\"telling\",\"directing\",\"william\",\"party\",\"alien\",\"unless\",\"crazy\",\"harry\",\"mark\",\"badly\",\"realize\",\"girlfriend\",\"forward\",\"front\",\"needed\",\"comment\",\"emotional\",\"imdb\",\"development\",\"fighting\",\"secret\",\"break\",\"fairly\",\"unique\",\"c\",\"baby\",\"outside\",\"married\",\"manages\",\"plenty\",\"villain\",\"apart\",\"missing\",\"masterpiece\",\"nature\",\"brings\",\"remake\",\"write\",\"former\",\"superb\",\"weird\",\"doctor\",\"clever\",\"escape\",\"list\",\"incredibly\",\"meets\",\"reasons\",\"hold\",\"created\",\"sounds\",\"sam\",\"inside\",\"unlike\",\"leading\",\"laughing\",\"ideas\",\"japanese\",\"season\",\"prison\",\"directors\",\"copy\",\"cute\",\"public\",\"return\",\"political\",\"violent\",\"success\",\"force\",\"create\",\"caught\",\"admit\",\"meant\",\"water\"]]]}}},\"view\":{\"type\":\"object\",\"name\":\"CDSView\",\"id\":\"p1083\",\"attributes\":{\"filter\":{\"type\":\"object\",\"name\":\"AllIndices\",\"id\":\"p1084\"}}},\"glyph\":{\"type\":\"object\",\"name\":\"Scatter\",\"id\":\"p1079\",\"attributes\":{\"x\":{\"type\":\"field\",\"field\":\"x1\"},\"y\":{\"type\":\"field\",\"field\":\"x2\"},\"size\":{\"type\":\"value\",\"value\":8},\"line_color\":{\"type\":\"value\",\"value\":\"#1f77b4\"},\"fill_color\":{\"type\":\"value\",\"value\":\"#1f77b4\"}}},\"nonselection_glyph\":{\"type\":\"object\",\"name\":\"Scatter\",\"id\":\"p1080\",\"attributes\":{\"x\":{\"type\":\"field\",\"field\":\"x1\"},\"y\":{\"type\":\"field\",\"field\":\"x2\"},\"size\":{\"type\":\"value\",\"value\":8},\"line_color\":{\"type\":\"value\",\"value\":\"#1f77b4\"},\"line_alpha\":{\"type\":\"value\",\"value\":0.1},\"fill_color\":{\"type\":\"value\",\"value\":\"#1f77b4\"},\"fill_alpha\":{\"type\":\"value\",\"value\":0.1},\"hatch_alpha\":{\"type\":\"value\",\"value\":0.1}}},\"muted_glyph\":{\"type\":\"object\",\"name\":\"Scatter\",\"id\":\"p1081\",\"attributes\":{\"x\":{\"type\":\"field\",\"field\":\"x1\"},\"y\":{\"type\":\"field\",\"field\":\"x2\"},\"size\":{\"type\":\"value\",\"value\":8},\"line_color\":{\"type\":\"value\",\"value\":\"#1f77b4\"},\"line_alpha\":{\"type\":\"value\",\"value\":0.2},\"fill_color\":{\"type\":\"value\",\"value\":\"#1f77b4\"},\"fill_alpha\":{\"type\":\"value\",\"value\":0.2},\"hatch_alpha\":{\"type\":\"value\",\"value\":0.2}}}}}],\"toolbar\":{\"type\":\"object\",\"name\":\"Toolbar\",\"id\":\"p1056\",\"attributes\":{\"tools\":[{\"type\":\"object\",\"name\":\"PanTool\",\"id\":\"p1069\"},{\"type\":\"object\",\"name\":\"WheelZoomTool\",\"id\":\"p1070\",\"attributes\":{\"renderers\":\"auto\"}},{\"type\":\"object\",\"name\":\"ResetTool\",\"id\":\"p1071\"},{\"type\":\"object\",\"name\":\"SaveTool\",\"id\":\"p1072\"}]}},\"toolbar_location\":\"above\",\"left\":[{\"type\":\"object\",\"name\":\"LinearAxis\",\"id\":\"p1064\",\"attributes\":{\"ticker\":{\"type\":\"object\",\"name\":\"BasicTicker\",\"id\":\"p1065\",\"attributes\":{\"mantissas\":[1,2,5]}},\"formatter\":{\"type\":\"object\",\"name\":\"BasicTickFormatter\",\"id\":\"p1066\"},\"major_label_policy\":{\"type\":\"object\",\"name\":\"AllLabels\",\"id\":\"p1067\"}}}],\"below\":[{\"type\":\"object\",\"name\":\"LinearAxis\",\"id\":\"p1059\",\"attributes\":{\"ticker\":{\"type\":\"object\",\"name\":\"BasicTicker\",\"id\":\"p1060\",\"attributes\":{\"mantissas\":[1,2,5]}},\"formatter\":{\"type\":\"object\",\"name\":\"BasicTickFormatter\",\"id\":\"p1061\"},\"major_label_policy\":{\"type\":\"object\",\"name\":\"AllLabels\",\"id\":\"p1062\"}}}],\"center\":[{\"type\":\"object\",\"name\":\"Grid\",\"id\":\"p1063\",\"attributes\":{\"axis\":{\"id\":\"p1059\"}}},{\"type\":\"object\",\"name\":\"Grid\",\"id\":\"p1068\",\"attributes\":{\"dimension\":1,\"axis\":{\"id\":\"p1064\"}}},{\"type\":\"object\",\"name\":\"LabelSet\",\"id\":\"p1085\",\"attributes\":{\"source\":{\"id\":\"p1073\"},\"x\":{\"type\":\"field\",\"field\":\"x1\"},\"y\":{\"type\":\"field\",\"field\":\"x2\"},\"text\":{\"type\":\"field\",\"field\":\"names\"},\"y_offset\":{\"type\":\"value\",\"value\":6},\"text_color\":{\"type\":\"value\",\"value\":\"#555555\"},\"text_font_size\":{\"type\":\"value\",\"value\":\"8pt\"},\"text_align\":{\"type\":\"value\",\"value\":\"center\"}}}]}}]}};\n  const render_items = [{\"docid\":\"8c043cd7-62a3-4d13-9853-38d6a467058b\",\"roots\":{\"p1047\":\"ac7cbcb7-c576-4a83-b866-b175b36b6407\"},\"root_ids\":[\"p1047\"]}];\n  void root.Bokeh.embed.embed_items_notebook(docs_json, render_items);\n  }\n  if (root.Bokeh !== undefined) {\n    embed_document(root);\n  } else {\n    let attempts = 0;\n    const timer = setInterval(function(root) {\n      if (root.Bokeh !== undefined) {\n        clearInterval(timer);\n        embed_document(root);\n      } else {\n        attempts++;\n        if (attempts > 100) {\n          clearInterval(timer);\n          console.log(\"Bokeh: ERROR: Unable to run BokehJS code because BokehJS library is missing\");\n        }\n      }\n    }, 10, root)\n  }\n})(window);",
      "application/vnd.bokehjs_exec.v0+json": ""
     },
     "metadata": {
      "application/vnd.bokehjs_exec.v0+json": {
       "id": "p1047"
      }
     },
     "output_type": "display_data"
    }
   ],
   "execution_count": 39
  },
  {
   "cell_type": "markdown",
   "metadata": {
    "id": "9qZcF3nGX-sp"
   },
   "source": "## FastText"
  },
  {
   "cell_type": "code",
   "metadata": {
    "id": "s-IW_cBDX-sp",
    "ExecuteTime": {
     "end_time": "2025-05-29T16:39:11.398347Z",
     "start_time": "2025-05-29T16:39:09.216373Z"
    }
   },
   "source": [
    "import fasttext\n",
    "\n",
    "ft_model = fasttext.train_unsupervised('clean_text.txt', minn=3, maxn=4, dim=300)"
   ],
   "outputs": [
    {
     "name": "stderr",
     "output_type": "stream",
     "text": [
      "Read 0M words\n",
      "Number of words:  2436\n",
      "Number of labels: 0\n",
      "Progress: 100.0% words/sec/thread:   98636 lr:  0.000000 avg.loss:  2.749217 ETA:   0h 0m 0s\n"
     ]
    }
   ],
   "execution_count": 40
  },
  {
   "cell_type": "markdown",
   "metadata": {
    "id": "l8DPGBDVLfYc"
   },
   "source": [
    "Посмотрим на вектор для слова \"movie\":"
   ]
  },
  {
   "cell_type": "code",
   "metadata": {
    "colab": {
     "base_uri": "https://localhost:8080/"
    },
    "id": "NNiuzf4DX-sr",
    "outputId": "71c368e5-c116-4231-b0b3-48a42ed90409",
    "ExecuteTime": {
     "end_time": "2025-05-29T16:39:14.119092Z",
     "start_time": "2025-05-29T16:39:14.113191Z"
    }
   },
   "source": [
    "ft_model.get_word_vector(\"movie\")"
   ],
   "outputs": [
    {
     "data": {
      "text/plain": [
       "array([-0.03372104, -0.05612415, -0.10509384, -0.08622092,  0.15641013,\n",
       "       -0.04973717, -0.10229631,  0.1782459 , -0.01056085, -0.06433695,\n",
       "       -0.00228852, -0.0844503 , -0.05315302,  0.13464028,  0.08346517,\n",
       "        0.23560286, -0.11725441, -0.14061408,  0.04722716, -0.03544731,\n",
       "        0.05611718,  0.21291149, -0.05827711,  0.13642135, -0.02270552,\n",
       "        0.0149653 , -0.07217506, -0.05248531, -0.07062826,  0.00543572,\n",
       "       -0.17101401,  0.11031697, -0.13429002, -0.05777853, -0.1527026 ,\n",
       "       -0.02054235, -0.06124336,  0.10353541, -0.05617575,  0.12050416,\n",
       "        0.2166105 ,  0.075666  , -0.04244894,  0.09138583,  0.02125417,\n",
       "       -0.14540307,  0.01948881,  0.1850579 ,  0.09291629,  0.13560699,\n",
       "        0.00543272,  0.06080012, -0.10832422,  0.03530419, -0.03985006,\n",
       "       -0.0475775 , -0.05726317,  0.01480375,  0.07751747,  0.03421183,\n",
       "       -0.03747869,  0.06621891,  0.11612202,  0.00843818,  0.1340326 ,\n",
       "        0.04652696,  0.03155451,  0.12457638, -0.06438967, -0.00134297,\n",
       "        0.06086546, -0.05623982, -0.12392688,  0.10300131,  0.05151955,\n",
       "       -0.05788153, -0.02968364,  0.1144758 ,  0.1936841 ,  0.09616082,\n",
       "        0.01154586, -0.01250936,  0.02602045,  0.10516273,  0.04087899,\n",
       "       -0.12473925, -0.0480186 ,  0.13901125,  0.1023094 , -0.10640004,\n",
       "       -0.17857909, -0.06600144,  0.09335221, -0.01355302, -0.07694184,\n",
       "       -0.08477502,  0.04647319, -0.1166838 ,  0.13390379, -0.0226368 ,\n",
       "       -0.01550371, -0.03651675,  0.06291249,  0.08480839,  0.03829719,\n",
       "       -0.0122569 ,  0.0035078 , -0.13381113,  0.1771322 , -0.11117732,\n",
       "        0.02895439,  0.05539298, -0.08594901, -0.07980789, -0.06011276,\n",
       "        0.10124248, -0.05604101, -0.0402913 , -0.01027841, -0.01761656,\n",
       "        0.0953795 ,  0.02761138,  0.03839036, -0.01915977,  0.11239238,\n",
       "        0.17449847,  0.2627669 ,  0.13613413,  0.09163732,  0.09367704,\n",
       "       -0.04725159, -0.10669424,  0.13714989, -0.09524166,  0.02544811,\n",
       "        0.01124147,  0.02570375, -0.0695674 ,  0.16445173,  0.02261097,\n",
       "       -0.01686172, -0.00800972,  0.02315751,  0.13639675,  0.02571071,\n",
       "       -0.02015154,  0.20100306, -0.00393991,  0.1680818 , -0.01929061,\n",
       "       -0.16436416, -0.06332115, -0.03317604,  0.06521649, -0.08730645,\n",
       "        0.12189241,  0.06423446,  0.07284483,  0.08832317,  0.10124157,\n",
       "        0.06519047, -0.09155471,  0.02391777,  0.06834766,  0.02040152,\n",
       "       -0.01522193,  0.00048322, -0.11720151, -0.00121145,  0.14072415,\n",
       "        0.16774115, -0.06488557, -0.12390273, -0.02172481, -0.08603264,\n",
       "       -0.11121605,  0.03548142, -0.02824463,  0.11570229, -0.04110876,\n",
       "        0.1374428 ,  0.1310846 ,  0.01672344,  0.09066744,  0.03952878,\n",
       "        0.118535  , -0.01863962, -0.09667938, -0.08511707,  0.052946  ,\n",
       "        0.10339092, -0.01206393, -0.10555299,  0.18420911, -0.30594346,\n",
       "       -0.17025219, -0.08329482,  0.06244725, -0.03158405,  0.04093198,\n",
       "        0.1105077 ,  0.07831808,  0.184153  ,  0.00218946, -0.01770796,\n",
       "       -0.09795404, -0.01241759, -0.03162919, -0.18185245,  0.07933587,\n",
       "        0.0465121 ,  0.02750773, -0.21550055, -0.10273633, -0.05660793,\n",
       "        0.09905217,  0.03452726, -0.08893894,  0.04994481,  0.05090768,\n",
       "       -0.10726225,  0.01457834,  0.03358553,  0.0390525 , -0.00478171,\n",
       "       -0.03449624,  0.00686076, -0.06319302, -0.12265694,  0.07035998,\n",
       "        0.06767662,  0.00664323,  0.03013851, -0.1523792 , -0.01418358,\n",
       "        0.02281689,  0.11645384, -0.05994665, -0.06284344,  0.03896269,\n",
       "       -0.07202534, -0.09926847, -0.15544634,  0.00211945,  0.08387114,\n",
       "       -0.03522327,  0.08720239,  0.00845051,  0.09075608,  0.12838145,\n",
       "        0.02410021, -0.04990205, -0.04116353,  0.06310426, -0.03782544,\n",
       "        0.023857  , -0.14724168, -0.0197886 , -0.00538891,  0.02691276,\n",
       "       -0.11566561, -0.06490046,  0.06600111,  0.0700925 , -0.03524859,\n",
       "       -0.06614832,  0.06720807, -0.05020329, -0.13506922, -0.0328467 ,\n",
       "       -0.18459776, -0.10954487,  0.14294891,  0.01735104, -0.18331437,\n",
       "        0.06038172, -0.05119897, -0.07195456, -0.15679179, -0.05823773,\n",
       "        0.15029214, -0.00628459,  0.08162018, -0.05037754, -0.02660589,\n",
       "        0.16386405,  0.05908708,  0.135085  , -0.00369433,  0.04251863,\n",
       "       -0.1154023 , -0.04793508, -0.00594624,  0.01904537, -0.14077309,\n",
       "       -0.11971004, -0.10544766,  0.08596605, -0.02520013,  0.01010248],\n",
       "      dtype=float32)"
      ]
     },
     "execution_count": 41,
     "metadata": {},
     "output_type": "execute_result"
    }
   ],
   "execution_count": 41
  },
  {
   "cell_type": "markdown",
   "metadata": {
    "id": "Z08WVXl-Lkx3"
   },
   "source": [
    "Метод ```get_nearest_neighbors``` возвращает самые похожие слова (аналог метода ```most_similar()``` для w2v):"
   ]
  },
  {
   "cell_type": "code",
   "metadata": {
    "colab": {
     "base_uri": "https://localhost:8080/"
    },
    "id": "TsZnXqH8X-st",
    "outputId": "e023f4f1-1acb-4737-af8e-495b6d9572c5",
    "ExecuteTime": {
     "end_time": "2025-05-29T16:39:26.152962Z",
     "start_time": "2025-05-29T16:39:26.141278Z"
    }
   },
   "source": [
    "ft_model.get_nearest_neighbors('actor')"
   ],
   "outputs": [
    {
     "data": {
      "text/plain": [
       "[(0.9998452663421631, 'actors'),\n",
       " (0.999701738357544, 'directors'),\n",
       " (0.9996725916862488, 'director'),\n",
       " (0.9996594786643982, 'actress'),\n",
       " (0.9996394515037537, 'act'),\n",
       " (0.999450147151947, 'correct'),\n",
       " (0.9994181990623474, 'dirty'),\n",
       " (0.999415934085846, 'actual'),\n",
       " (0.9994115829467773, 'attractive'),\n",
       " (0.9993978142738342, 'perspective')]"
      ]
     },
     "execution_count": 42,
     "metadata": {},
     "output_type": "execute_result"
    }
   ],
   "execution_count": 42
  },
  {
   "cell_type": "markdown",
   "metadata": {
    "id": "1AYmqk4JLz72"
   },
   "source": [
    "С помощью метода ```get_analogues()``` можно получить аналогии:"
   ]
  },
  {
   "cell_type": "code",
   "metadata": {
    "colab": {
     "base_uri": "https://localhost:8080/"
    },
    "id": "iKR3FzCFX-sv",
    "outputId": "49929b3b-0e7e-4f7e-982a-1cd72b127630",
    "ExecuteTime": {
     "end_time": "2025-05-29T16:39:28.542513Z",
     "start_time": "2025-05-29T16:39:28.536929Z"
    }
   },
   "source": [
    "ft_model.get_analogies(\"woman\", \"man\", \"actor\")"
   ],
   "outputs": [
    {
     "data": {
      "text/plain": [
       "[(0.9992786645889282, 'act'),\n",
       " (0.9992228150367737, 'actors'),\n",
       " (0.9992055296897888, 'actress'),\n",
       " (0.9990889430046082, 'actually'),\n",
       " (0.998973548412323, 'written'),\n",
       " (0.9989454746246338, 'bad'),\n",
       " (0.9989438056945801, 'recent'),\n",
       " (0.9989053606987, 'recently'),\n",
       " (0.9988710880279541, 'edited'),\n",
       " (0.9988704323768616, 'committed')]"
      ]
     },
     "execution_count": 43,
     "metadata": {},
     "output_type": "execute_result"
    }
   ],
   "execution_count": 43
  },
  {
   "cell_type": "markdown",
   "metadata": {
    "id": "rs7X9dGjL7O7"
   },
   "source": [
    "Проблема с опечатками решена!"
   ]
  },
  {
   "cell_type": "code",
   "metadata": {
    "colab": {
     "base_uri": "https://localhost:8080/"
    },
    "id": "ttAgMPC_X-sx",
    "outputId": "dfc37e2e-f412-41d4-dcb4-350c2b7fbfc9",
    "ExecuteTime": {
     "end_time": "2025-05-29T16:39:29.944517Z",
     "start_time": "2025-05-29T16:39:29.939554Z"
    }
   },
   "source": [
    "ft_model.get_nearest_neighbors('actr')"
   ],
   "outputs": [
    {
     "data": {
      "text/plain": [
       "[(0.9996079206466675, 'act'),\n",
       " (0.999275803565979, 'actors'),\n",
       " (0.9990800619125366, 'actor'),\n",
       " (0.9989238977432251, 'actress'),\n",
       " (0.9987796545028687, 'directors'),\n",
       " (0.9987174868583679, 'acted'),\n",
       " (0.9986833333969116, 'actual'),\n",
       " (0.9986427426338196, 'directed'),\n",
       " (0.9986122250556946, 'direct'),\n",
       " (0.9985419511795044, 'acts')]"
      ]
     },
     "execution_count": 44,
     "metadata": {},
     "output_type": "execute_result"
    }
   ],
   "execution_count": 44
  },
  {
   "cell_type": "markdown",
   "metadata": {
    "id": "EkftfIJnL-6W"
   },
   "source": [
    "Проблема с out of vocabulary словами тоже решена!\n"
   ]
  },
  {
   "cell_type": "code",
   "metadata": {
    "colab": {
     "base_uri": "https://localhost:8080/"
    },
    "id": "V9alEdz0X-s0",
    "outputId": "277bc108-fb8b-425f-c5f5-f967b3bf45da",
    "ExecuteTime": {
     "end_time": "2025-05-29T16:39:34.023215Z",
     "start_time": "2025-05-29T16:39:34.018046Z"
    }
   },
   "source": [
    "ft_model.get_nearest_neighbors('moviegeek')"
   ],
   "outputs": [
    {
     "data": {
      "text/plain": [
       "[(0.9996760487556458, 'move'),\n",
       " (0.9995264410972595, 'movie'),\n",
       " (0.9994995594024658, 'reviews'),\n",
       " (0.9994115233421326, 'said'),\n",
       " (0.9994101524353027, 'view'),\n",
       " (0.9994035363197327, 'thoroughly'),\n",
       " (0.9994027018547058, 'good'),\n",
       " (0.9993962049484253, 'likely'),\n",
       " (0.9993897080421448, 'enjoy'),\n",
       " (0.9993826746940613, 'but')]"
      ]
     },
     "execution_count": 45,
     "metadata": {},
     "output_type": "execute_result"
    }
   ],
   "execution_count": 45
  },
  {
   "cell_type": "markdown",
   "metadata": {
    "id": "a2M62-Vq8b2H"
   },
   "source": [
    "# Бонус*: Применим полученные выше навыки и решим простую задачу анализа тональности твиттов:\n",
    "\n",
    "Проделаем весь пайплайн от сырых текстов до получения обученной модели.\n",
    "Отдельно скачиваем файлы с положительно окрашенными твитами и негативно окрашеннными.\n",
    "Это реальные данные русскоязычного сегмента твиттера.\n"
   ]
  },
  {
   "cell_type": "code",
   "metadata": {
    "colab": {
     "base_uri": "https://localhost:8080/"
    },
    "id": "HSzVZF3bX-s3",
    "outputId": "f02d73a9-282d-49f4-d2c5-0f352bbbf25e",
    "ExecuteTime": {
     "end_time": "2025-05-29T16:39:52.654889Z",
     "start_time": "2025-05-29T16:39:48.612240Z"
    }
   },
   "source": [
    "!wget -O positive.csv https://www.dropbox.com/s/fnpq3z4bcnoktiv/positive.csv?dl=0"
   ],
   "outputs": [
    {
     "name": "stdout",
     "output_type": "stream",
     "text": [
      "/bin/bash: warning: setlocale: LC_ALL: cannot change locale (en_US.UTF-8)\r\n",
      "--2025-05-29 19:39:48--  https://www.dropbox.com/s/fnpq3z4bcnoktiv/positive.csv?dl=0\r\n",
      "Resolving www.dropbox.com (www.dropbox.com)... 162.125.69.18, 2620:100:6025:18::a27d:4512\r\n",
      "Connecting to www.dropbox.com (www.dropbox.com)|162.125.69.18|:443... connected.\r\n",
      "HTTP request sent, awaiting response... 302 Found\r\n",
      "Location: https://www.dropbox.com/scl/fi/6mg7rw3wltux83q2o4ah4/positive.csv?rlkey=cvruhzofza9kkfxwzyp2vskfd&dl=0 [following]\r\n",
      "--2025-05-29 19:39:49--  https://www.dropbox.com/scl/fi/6mg7rw3wltux83q2o4ah4/positive.csv?rlkey=cvruhzofza9kkfxwzyp2vskfd&dl=0\r\n",
      "Reusing existing connection to www.dropbox.com:443.\r\n",
      "HTTP request sent, awaiting response... 302 Found\r\n",
      "Location: https://uc83d2df4510cd794c1f5da68491.dl.dropboxusercontent.com/cd/0/inline/Cqn033mb7wBH27zCgMtvdStf0rw86h4NcJ1sD590ZhHotYUIMzXZEjl0q345osjLOwqPFLghUdUPF1-I2gDn9Aiige7Vao0dkDb159Zx6Icvguw6HTfs7fl-Mnf2FHoz5Bk/file# [following]\r\n",
      "--2025-05-29 19:39:49--  https://uc83d2df4510cd794c1f5da68491.dl.dropboxusercontent.com/cd/0/inline/Cqn033mb7wBH27zCgMtvdStf0rw86h4NcJ1sD590ZhHotYUIMzXZEjl0q345osjLOwqPFLghUdUPF1-I2gDn9Aiige7Vao0dkDb159Zx6Icvguw6HTfs7fl-Mnf2FHoz5Bk/file\r\n",
      "Resolving uc83d2df4510cd794c1f5da68491.dl.dropboxusercontent.com (uc83d2df4510cd794c1f5da68491.dl.dropboxusercontent.com)... 162.125.69.15, 2620:100:6025:15::a27d:450f\r\n",
      "Connecting to uc83d2df4510cd794c1f5da68491.dl.dropboxusercontent.com (uc83d2df4510cd794c1f5da68491.dl.dropboxusercontent.com)|162.125.69.15|:443... connected.\r\n",
      "HTTP request sent, awaiting response... 200 OK\r\n",
      "Length: 26233379 (25M) [text/plain]\r\n",
      "Saving to: 'positive.csv'\r\n",
      "\r\n",
      "positive.csv        100%[===================>]  25.02M  14.7MB/s    in 1.7s    \r\n",
      "\r\n",
      "2025-05-29 19:39:52 (14.7 MB/s) - 'positive.csv' saved [26233379/26233379]\r\n",
      "\r\n"
     ]
    }
   ],
   "execution_count": 46
  },
  {
   "cell_type": "code",
   "metadata": {
    "colab": {
     "base_uri": "https://localhost:8080/"
    },
    "id": "yVDNoIcuX-s5",
    "outputId": "97d782b7-ee05-4bed-ab41-4d270a68d443",
    "ExecuteTime": {
     "end_time": "2025-05-29T16:40:00.876645Z",
     "start_time": "2025-05-29T16:39:57.282823Z"
    }
   },
   "source": [
    "!wget -O negative.csv https://www.dropbox.com/s/r6u59ljhhjdg6j0/negative.csv?dl=0"
   ],
   "outputs": [
    {
     "name": "stdout",
     "output_type": "stream",
     "text": [
      "/bin/bash: warning: setlocale: LC_ALL: cannot change locale (en_US.UTF-8)\r\n",
      "--2025-05-29 19:39:57--  https://www.dropbox.com/s/r6u59ljhhjdg6j0/negative.csv?dl=0\r\n",
      "Resolving www.dropbox.com (www.dropbox.com)... 162.125.69.18, 2620:100:6025:18::a27d:4512\r\n",
      "Connecting to www.dropbox.com (www.dropbox.com)|162.125.69.18|:443... connected.\r\n",
      "HTTP request sent, awaiting response... 302 Found\r\n",
      "Location: https://www.dropbox.com/scl/fi/wui0xz78kpna56690uej4/negative.csv?rlkey=309xeou9u3rtbejw9stb13wfr&dl=0 [following]\r\n",
      "--2025-05-29 19:39:57--  https://www.dropbox.com/scl/fi/wui0xz78kpna56690uej4/negative.csv?rlkey=309xeou9u3rtbejw9stb13wfr&dl=0\r\n",
      "Reusing existing connection to www.dropbox.com:443.\r\n",
      "HTTP request sent, awaiting response... 302 Found\r\n",
      "Location: https://uc26ffb2d4d926b5c26ba7dd1fb1.dl.dropboxusercontent.com/cd/0/inline/Cql310tSgxCJZ0sEOmJSF2qJ2i_a8RxNS7EsjBVB_YKrMxhBr2bF5eOkqHr8ZKGmhqa92EKBdenJDXkVlMvAwdggTaqs1BX-Y1kOEb21oWe_KyglDAVRiiF7vTIblN1a7NU/file# [following]\r\n",
      "--2025-05-29 19:39:58--  https://uc26ffb2d4d926b5c26ba7dd1fb1.dl.dropboxusercontent.com/cd/0/inline/Cql310tSgxCJZ0sEOmJSF2qJ2i_a8RxNS7EsjBVB_YKrMxhBr2bF5eOkqHr8ZKGmhqa92EKBdenJDXkVlMvAwdggTaqs1BX-Y1kOEb21oWe_KyglDAVRiiF7vTIblN1a7NU/file\r\n",
      "Resolving uc26ffb2d4d926b5c26ba7dd1fb1.dl.dropboxusercontent.com (uc26ffb2d4d926b5c26ba7dd1fb1.dl.dropboxusercontent.com)... 162.125.69.15, 2620:100:6025:15::a27d:450f\r\n",
      "Connecting to uc26ffb2d4d926b5c26ba7dd1fb1.dl.dropboxusercontent.com (uc26ffb2d4d926b5c26ba7dd1fb1.dl.dropboxusercontent.com)|162.125.69.15|:443... connected.\r\n",
      "HTTP request sent, awaiting response... 200 OK\r\n",
      "Length: 24450101 (23M) [text/plain]\r\n",
      "Saving to: 'negative.csv'\r\n",
      "\r\n",
      "negative.csv        100%[===================>]  23.32M  15.2MB/s    in 1.5s    \r\n",
      "\r\n",
      "2025-05-29 19:40:00 (15.2 MB/s) - 'negative.csv' saved [24450101/24450101]\r\n",
      "\r\n"
     ]
    }
   ],
   "execution_count": 47
  },
  {
   "cell_type": "code",
   "metadata": {
    "colab": {
     "base_uri": "https://localhost:8080/",
     "height": 261
    },
    "id": "HLidtYsuX-s8",
    "outputId": "af0a2245-0b59-4296-c54e-6d04ccfce976",
    "ExecuteTime": {
     "end_time": "2025-05-29T16:40:43.000111Z",
     "start_time": "2025-05-29T16:40:42.183228Z"
    }
   },
   "source": [
    "import pandas as pd\n",
    "\n",
    "positive = pd.read_csv('positive.csv', sep=';', usecols=[3], names=['text'])\n",
    "positive['label'] = ['positive'] * len(positive)\n",
    "\n",
    "negative = pd.read_csv('negative.csv', sep=';', usecols=[3], names=['text'])\n",
    "negative['label'] = ['negative'] * len(negative)\n",
    "df = pd.concat([positive , negative])\n",
    "df.head()"
   ],
   "outputs": [
    {
     "data": {
      "text/plain": [
       "                                                text     label\n",
       "0  @first_timee хоть я и школота, но поверь, у на...  positive\n",
       "1  Да, все-таки он немного похож на него. Но мой ...  positive\n",
       "2  RT @KatiaCheh: Ну ты идиотка) я испугалась за ...  positive\n",
       "3  RT @digger2912: \"Кто то в углу сидит и погибае...  positive\n",
       "4  @irina_dyshkant Вот что значит страшилка :D\\nН...  positive"
      ],
      "text/html": [
       "<div>\n",
       "<style scoped>\n",
       "    .dataframe tbody tr th:only-of-type {\n",
       "        vertical-align: middle;\n",
       "    }\n",
       "\n",
       "    .dataframe tbody tr th {\n",
       "        vertical-align: top;\n",
       "    }\n",
       "\n",
       "    .dataframe thead th {\n",
       "        text-align: right;\n",
       "    }\n",
       "</style>\n",
       "<table border=\"1\" class=\"dataframe\">\n",
       "  <thead>\n",
       "    <tr style=\"text-align: right;\">\n",
       "      <th></th>\n",
       "      <th>text</th>\n",
       "      <th>label</th>\n",
       "    </tr>\n",
       "  </thead>\n",
       "  <tbody>\n",
       "    <tr>\n",
       "      <th>0</th>\n",
       "      <td>@first_timee хоть я и школота, но поверь, у на...</td>\n",
       "      <td>positive</td>\n",
       "    </tr>\n",
       "    <tr>\n",
       "      <th>1</th>\n",
       "      <td>Да, все-таки он немного похож на него. Но мой ...</td>\n",
       "      <td>positive</td>\n",
       "    </tr>\n",
       "    <tr>\n",
       "      <th>2</th>\n",
       "      <td>RT @KatiaCheh: Ну ты идиотка) я испугалась за ...</td>\n",
       "      <td>positive</td>\n",
       "    </tr>\n",
       "    <tr>\n",
       "      <th>3</th>\n",
       "      <td>RT @digger2912: \"Кто то в углу сидит и погибае...</td>\n",
       "      <td>positive</td>\n",
       "    </tr>\n",
       "    <tr>\n",
       "      <th>4</th>\n",
       "      <td>@irina_dyshkant Вот что значит страшилка :D\\nН...</td>\n",
       "      <td>positive</td>\n",
       "    </tr>\n",
       "  </tbody>\n",
       "</table>\n",
       "</div>"
      ]
     },
     "execution_count": 49,
     "metadata": {},
     "output_type": "execute_result"
    }
   ],
   "execution_count": 49
  },
  {
   "cell_type": "code",
   "metadata": {
    "colab": {
     "base_uri": "https://localhost:8080/"
    },
    "id": "-YB6B4CvmNJ8",
    "outputId": "41782a2b-eeac-42a5-f1ba-d5e27292070e",
    "ExecuteTime": {
     "end_time": "2025-05-29T16:40:44.826854Z",
     "start_time": "2025-05-29T16:40:44.822923Z"
    }
   },
   "source": [
    "len(df)"
   ],
   "outputs": [
    {
     "data": {
      "text/plain": [
       "226834"
      ]
     },
     "execution_count": 50,
     "metadata": {},
     "output_type": "execute_result"
    }
   ],
   "execution_count": 50
  },
  {
   "cell_type": "markdown",
   "metadata": {
    "id": "5jtZR-uYX-tA"
   },
   "source": [
    "Проведем стандартный препроцессинг:"
   ]
  },
  {
   "cell_type": "code",
   "metadata": {
    "id": "3qAiiLvsX-tB",
    "ExecuteTime": {
     "end_time": "2025-05-29T16:41:05.950782Z",
     "start_time": "2025-05-29T16:41:05.861700Z"
    }
   },
   "source": [
    "import pymorphy2\n",
    "from multiprocessing import Pool\n",
    "import numpy as np\n",
    "from sklearn.model_selection import train_test_split\n",
    "from tqdm import tqdm_notebook as tqdm\n",
    "import re\n",
    "\n",
    "m = pymorphy2.MorphAnalyzer()\n",
    "\n",
    "# убираем все небуквенные символы\n",
    "regex = re.compile(\"[А-Яа-я:=!\\)\\()A-z\\_\\%/|]+\")\n",
    "\n",
    "def words_only(text, regex=regex):\n",
    "    try:\n",
    "        return regex.findall(text)\n",
    "    except:\n",
    "        return []"
   ],
   "outputs": [],
   "execution_count": 51
  },
  {
   "cell_type": "code",
   "metadata": {
    "id": "9zakhvVrX-tC",
    "ExecuteTime": {
     "end_time": "2025-05-29T16:41:15.804641Z",
     "start_time": "2025-05-29T16:41:15.801406Z"
    }
   },
   "source": [
    "def lemmatize(text, pymorphy=m):\n",
    "    try:\n",
    "        return \" \".join([pymorphy.parse(w)[0].normal_form for w in text])\n",
    "    except:\n",
    "        return \" \""
   ],
   "outputs": [],
   "execution_count": 52
  },
  {
   "cell_type": "code",
   "metadata": {
    "id": "nDQdq4MLX-tE",
    "ExecuteTime": {
     "end_time": "2025-05-29T16:41:17.394162Z",
     "start_time": "2025-05-29T16:41:17.391279Z"
    }
   },
   "source": [
    "def clean_text(text):\n",
    "    return lemmatize(words_only(text))"
   ],
   "outputs": [],
   "execution_count": 53
  },
  {
   "cell_type": "code",
   "metadata": {
    "colab": {
     "base_uri": "https://localhost:8080/",
     "height": 291,
     "referenced_widgets": [
      "ba39fc09153c44039607875bec4ba9a7",
      "a2715bc7a2ac47b58c0317f5de214587",
      "289a9e4085c348efbae213cbb584c615",
      "77f8b33fbb8c462c9279c0867822348b",
      "f38f6cb137ec47a1b4ebb1be2c522ca5",
      "7eef0f160a6d489ca8c2eba368c36b48",
      "3e33e96e691d4150ba2bad28a633e751",
      "57585720a0bf4b86b4e232e6011fcc52",
      "aaa0cd8f2aaa4a4fbba939b018e7a55f",
      "fe8a2816fd8f4d358a04f3b59c5a3f83",
      "c1ef40a839904706965a2ce49a680f88"
     ]
    },
    "id": "fj6dS127X-tG",
    "outputId": "c07602e0-9dba-448b-fa41-e1b59951f905",
    "ExecuteTime": {
     "end_time": "2025-05-29T16:42:19.366919Z",
     "start_time": "2025-05-29T16:41:19.179433Z"
    }
   },
   "source": [
    "with Pool(8) as p:\n",
    "    lemmas = list(tqdm(p.imap(clean_text, df['text']), total=len(df)))\n",
    "\n",
    "df['lemmas'] = lemmas\n",
    "df.head()"
   ],
   "outputs": [
    {
     "name": "stderr",
     "output_type": "stream",
     "text": [
      "/tmp/ipykernel_55556/305022119.py:5: TqdmDeprecationWarning: This function will be removed in tqdm==5.0.0\n",
      "Please use `tqdm.notebook.tqdm` instead of `tqdm.tqdm_notebook`\n",
      "  lemmas = list(tqdm(p.imap(clean_text, df['text']), total=len(df)))\n"
     ]
    },
    {
     "data": {
      "text/plain": [
       "  0%|          | 0/226834 [00:00<?, ?it/s]"
      ],
      "application/vnd.jupyter.widget-view+json": {
       "version_major": 2,
       "version_minor": 0,
       "model_id": "884b869f5aa84350bef2d6cffb324faa"
      }
     },
     "metadata": {},
     "output_type": "display_data"
    },
    {
     "data": {
      "text/plain": [
       "                                                text     label  \\\n",
       "0  @first_timee хоть я и школота, но поверь, у на...  positive   \n",
       "1  Да, все-таки он немного похож на него. Но мой ...  positive   \n",
       "2  RT @KatiaCheh: Ну ты идиотка) я испугалась за ...  positive   \n",
       "3  RT @digger2912: \"Кто то в углу сидит и погибае...  positive   \n",
       "4  @irina_dyshkant Вот что значит страшилка :D\\nН...  positive   \n",
       "\n",
       "                                              lemmas  \n",
       "0  first_timee хоть я и школотый но поверь у мы т...  \n",
       "1  да всё таки он немного похожий на он но мой ма...  \n",
       "2  rt katiacheh: ну ты идиотка) я испугаться за т...  \n",
       "3  rt digger : кто то в угол сидеть и погибать от...  \n",
       "4  irina_dyshkant вот что значит страшилка :d но ...  "
      ],
      "text/html": [
       "<div>\n",
       "<style scoped>\n",
       "    .dataframe tbody tr th:only-of-type {\n",
       "        vertical-align: middle;\n",
       "    }\n",
       "\n",
       "    .dataframe tbody tr th {\n",
       "        vertical-align: top;\n",
       "    }\n",
       "\n",
       "    .dataframe thead th {\n",
       "        text-align: right;\n",
       "    }\n",
       "</style>\n",
       "<table border=\"1\" class=\"dataframe\">\n",
       "  <thead>\n",
       "    <tr style=\"text-align: right;\">\n",
       "      <th></th>\n",
       "      <th>text</th>\n",
       "      <th>label</th>\n",
       "      <th>lemmas</th>\n",
       "    </tr>\n",
       "  </thead>\n",
       "  <tbody>\n",
       "    <tr>\n",
       "      <th>0</th>\n",
       "      <td>@first_timee хоть я и школота, но поверь, у на...</td>\n",
       "      <td>positive</td>\n",
       "      <td>first_timee хоть я и школотый но поверь у мы т...</td>\n",
       "    </tr>\n",
       "    <tr>\n",
       "      <th>1</th>\n",
       "      <td>Да, все-таки он немного похож на него. Но мой ...</td>\n",
       "      <td>positive</td>\n",
       "      <td>да всё таки он немного похожий на он но мой ма...</td>\n",
       "    </tr>\n",
       "    <tr>\n",
       "      <th>2</th>\n",
       "      <td>RT @KatiaCheh: Ну ты идиотка) я испугалась за ...</td>\n",
       "      <td>positive</td>\n",
       "      <td>rt katiacheh: ну ты идиотка) я испугаться за т...</td>\n",
       "    </tr>\n",
       "    <tr>\n",
       "      <th>3</th>\n",
       "      <td>RT @digger2912: \"Кто то в углу сидит и погибае...</td>\n",
       "      <td>positive</td>\n",
       "      <td>rt digger : кто то в угол сидеть и погибать от...</td>\n",
       "    </tr>\n",
       "    <tr>\n",
       "      <th>4</th>\n",
       "      <td>@irina_dyshkant Вот что значит страшилка :D\\nН...</td>\n",
       "      <td>positive</td>\n",
       "      <td>irina_dyshkant вот что значит страшилка :d но ...</td>\n",
       "    </tr>\n",
       "  </tbody>\n",
       "</table>\n",
       "</div>"
      ]
     },
     "execution_count": 54,
     "metadata": {},
     "output_type": "execute_result"
    }
   ],
   "execution_count": 54
  },
  {
   "cell_type": "markdown",
   "metadata": {
    "id": "3QuPeLrvX-tI"
   },
   "source": [
    "Запишем полученные данные в формате для обучения классификатора:"
   ]
  },
  {
   "cell_type": "code",
   "metadata": {
    "colab": {
     "base_uri": "https://localhost:8080/"
    },
    "id": "AGOFQSekX-tI",
    "outputId": "c17e2a5e-9dc9-4579-c143-a0d1b38bb3ad",
    "ExecuteTime": {
     "end_time": "2025-05-29T16:42:31.731085Z",
     "start_time": "2025-05-29T16:42:31.521445Z"
    }
   },
   "source": [
    "# переводим данные из датафрейма в списки\n",
    "\n",
    "X = df.lemmas.tolist()\n",
    "y = df.label.tolist()\n",
    "\n",
    "X, y = np.array(X), np.array(y)\n",
    "\n",
    "# разбиваем на обучающую и тестовую выборки\n",
    "X_train, X_test, y_train, y_test = train_test_split(X,y, test_size=0.33)\n",
    "print (\"total train examples %s\" % len(y_train))\n",
    "print (\"total test examples %s\" % len(y_test))"
   ],
   "outputs": [
    {
     "name": "stdout",
     "output_type": "stream",
     "text": [
      "total train examples 151978\n",
      "total test examples 74856\n"
     ]
    }
   ],
   "execution_count": 55
  },
  {
   "cell_type": "markdown",
   "metadata": {
    "id": "6jKVeS0DM26H"
   },
   "source": [
    "Записываем train и test выборки в файлы в соответствии с форматом выше:"
   ]
  },
  {
   "cell_type": "code",
   "metadata": {
    "id": "mogTwRfnX-tK",
    "ExecuteTime": {
     "end_time": "2025-05-29T16:42:34.249617Z",
     "start_time": "2025-05-29T16:42:33.290604Z"
    }
   },
   "source": [
    "with open('data.train.txt', 'w+') as outfile:\n",
    "    for i in range(len(X_train)):\n",
    "        outfile.write('__label__' + y_train[i] + ' '+ X_train[i] + '\\n')\n",
    "\n",
    "\n",
    "with open('test.txt', 'w+') as outfile:\n",
    "    for i in range(len(X_test)):\n",
    "        outfile.write('__label__' + y_test[i] + ' ' + X_test[i] + '\\n')"
   ],
   "outputs": [],
   "execution_count": 56
  },
  {
   "cell_type": "markdown",
   "metadata": {
    "id": "wXTm1VYBM7ej"
   },
   "source": [
    "Обучаем классификатор fasttext:"
   ]
  },
  {
   "cell_type": "code",
   "metadata": {
    "id": "ledZdPquM6R5",
    "ExecuteTime": {
     "end_time": "2025-05-29T16:42:38.034791Z",
     "start_time": "2025-05-29T16:42:35.562343Z"
    }
   },
   "source": [
    "classifier = fasttext.train_supervised('data.train.txt')\n",
    "result = classifier.test('test.txt')"
   ],
   "outputs": [
    {
     "name": "stderr",
     "output_type": "stream",
     "text": [
      "Read 2M words\n",
      "Number of words:  239875\n",
      "Number of labels: 2\n",
      "Progress: 100.0% words/sec/thread:  950348 lr:  0.000000 avg.loss:  0.182824 ETA:   0h 0m 0s\n"
     ]
    }
   ],
   "execution_count": 57
  },
  {
   "cell_type": "markdown",
   "metadata": {
    "id": "C2D8b0KuM_H9"
   },
   "source": [
    "Смотрим на метрики качества (precision и recall) полученной модели:"
   ]
  },
  {
   "cell_type": "code",
   "metadata": {
    "colab": {
     "base_uri": "https://localhost:8080/"
    },
    "id": "u0rt2mhjX-tL",
    "outputId": "3fd8a462-f242-4be5-eca7-a905f6fb4291",
    "ExecuteTime": {
     "end_time": "2025-05-29T16:42:39.652438Z",
     "start_time": "2025-05-29T16:42:39.649123Z"
    }
   },
   "source": [
    "print('P@1:', result[1])\n",
    "print('R@1:', result[2])\n",
    "print('Number of examples:', result[0])"
   ],
   "outputs": [
    {
     "name": "stdout",
     "output_type": "stream",
     "text": [
      "P@1: 0.8972427059955114\n",
      "R@1: 0.8972427059955114\n",
      "Number of examples: 74856\n"
     ]
    }
   ],
   "execution_count": 58
  }
 ]
}
