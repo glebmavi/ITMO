{
 "cells": [
  {
   "metadata": {
    "ExecuteTime": {
     "end_time": "2025-03-10T09:17:30.571699Z",
     "start_time": "2025-03-10T09:17:29.217096Z"
    }
   },
   "cell_type": "code",
   "source": [
    "!pip install colorama\n",
    "from datetime import datetime\n",
    "import colorama\n",
    "\n",
    "colorama.init(autoreset=True)\n",
    "\n",
    "def log(message, level=\"normal\"):\n",
    "    \"\"\"\n",
    "    Выводит сообщение с временной меткой и цветом, зависящим от уровня важности.\n",
    "\n",
    "    Аргументы:\n",
    "        message (str): Сообщение для вывода.\n",
    "        level (str): Уровень важности: 'info', 'warning', 'error', 'debug' или 'normal'.\n",
    "    \"\"\"\n",
    "    timestamp = datetime.now().strftime(\"%H:%M:%S.%f\")[:-3]\n",
    "\n",
    "    if level == \"info\":\n",
    "        color = colorama.Fore.GREEN\n",
    "    elif level == \"warning\":\n",
    "        color = colorama.Fore.YELLOW\n",
    "    elif level == \"error\":\n",
    "        color = colorama.Fore.RED\n",
    "    elif level == \"debug\":\n",
    "        color = colorama.Fore.BLUE\n",
    "    else: # normal\n",
    "        color = colorama.Fore.WHITE\n",
    "\n",
    "    print(f\"{timestamp} {color}{message}{colorama.Style.RESET_ALL}\")"
   ],
   "id": "6a4bda117cf87083",
   "outputs": [
    {
     "name": "stdout",
     "output_type": "stream",
     "text": [
      "Requirement already satisfied: colorama in c:\\imprimir\\3kurs\\theoryofsystems\\.venv\\lib\\site-packages (0.4.6)\n"
     ]
    }
   ],
   "execution_count": 5
  },
  {
   "cell_type": "code",
   "id": "initial_id",
   "metadata": {
    "collapsed": true,
    "colab": {
     "base_uri": "https://localhost:8080/"
    },
    "id": "initial_id",
    "outputId": "e1fccf58-70f1-48b4-a73e-5bdcb01ed7e2",
    "ExecuteTime": {
     "end_time": "2025-03-10T09:17:31.840475Z",
     "start_time": "2025-03-10T09:17:30.583821Z"
    }
   },
   "source": [
    "!pip install transitions\n",
    "import random\n",
    "import threading\n",
    "import time\n",
    "from transitions.extensions import GraphMachine\n",
    "\n",
    "\n",
    "states = [\n",
    "    'off',\n",
    "    'on',\n",
    "    'eco_active',\n",
    "    'eco_pause',\n",
    "    'fan_active',\n",
    "    'fan_pause',\n",
    "    'heating_active',\n",
    "    'heating_pause',\n",
    "    'cooling_active',\n",
    "    'cooling_pause',\n",
    "    'stop',\n",
    "    'broken'\n",
    "]\n",
    "\n",
    "transitions_list = [\n",
    "    # Переходы питания.\n",
    "    {'trigger': 'power_on', 'source': 'off', 'dest': 'on'},\n",
    "    {'trigger': 'power_off', 'source': ['on', 'stop', 'broken'], 'dest': 'off'},\n",
    "\n",
    "    # Переходы из состояния 'on' в рабочий режим.\n",
    "    {'trigger': 'set_eco', 'source': 'on', 'dest': 'eco_active'},\n",
    "    {'trigger': 'set_fan', 'source': 'on', 'dest': 'fan_active'},\n",
    "    {'trigger': 'set_heating', 'source': 'on', 'dest': 'heating_active'},\n",
    "    {'trigger': 'set_cooling', 'source': 'on', 'dest': 'cooling_active'},\n",
    "\n",
    "    # По истечении таймера работы активные состояния переходят в 'stop'.\n",
    "    {'trigger': 'timeout', 'source': ['eco_active', 'fan_active', 'heating_active', 'cooling_active'], 'dest': 'stop'},\n",
    "\n",
    "    # Переходы на паузу из активных режимов в состояние 'pause'.\n",
    "    {'trigger': 'pause', 'source': 'eco_active', 'dest': 'eco_pause'},\n",
    "    {'trigger': 'pause', 'source': 'fan_active', 'dest': 'fan_pause'},\n",
    "    {'trigger': 'pause', 'source': 'heating_active', 'dest': 'heating_pause'},\n",
    "    {'trigger': 'pause', 'source': 'cooling_active', 'dest': 'cooling_pause'},\n",
    "\n",
    "    # Переходы возобновления работы из состояния паузы в активное состояние.\n",
    "    {'trigger': 'resume', 'source': 'eco_pause', 'dest': 'eco_active'},\n",
    "    {'trigger': 'resume', 'source': 'fan_pause', 'dest': 'fan_active'},\n",
    "    {'trigger': 'resume', 'source': 'heating_pause', 'dest': 'heating_active'},\n",
    "    {'trigger': 'resume', 'source': 'cooling_pause', 'dest': 'cooling_active'},\n",
    "\n",
    "    # Случайный сбой может произойти в любом активном рабочем состоянии.\n",
    "    {'trigger': 'random_break', 'source': ['eco_active', 'fan_active', 'heating_active', 'cooling_active'], 'dest': 'broken'},\n",
    "\n",
    "    # Ремонт неисправного кондиционера.\n",
    "    {'trigger': 'repair', 'source': 'broken', 'dest': 'on'},\n",
    "\n",
    "    # Перезапуск после остановки.\n",
    "    {'trigger': 'restart', 'source': 'stop', 'dest': 'on'},\n",
    "]\n",
    "\n",
    "\n",
    "class AC(GraphMachine):\n",
    "    def __init__(self):\n",
    "        super(AC, self).__init__(states=states, transitions=transitions_list, initial='off', auto_transitions=False)\n",
    "\n",
    "        # Дескрипторы таймеров (используются в рабочих режимах).\n",
    "        self._working_timer = None\n",
    "        self._random_break_timer = None\n",
    "\n",
    "    def _cancel_timers(self):\n",
    "        if self._working_timer is not None:\n",
    "            self._working_timer.cancel()\n",
    "            self._working_timer = None\n",
    "        if self._random_break_timer is not None:\n",
    "            self._random_break_timer.cancel()\n",
    "            self._random_break_timer = None\n",
    "\n",
    "    # --- Колбэки для входа в активные рабочие состояния ---\n",
    "    def on_enter_eco_active(self):\n",
    "        log(\"Переход в режим ЭКО.\")\n",
    "        self.start_working_timer()\n",
    "        self.start_random_break_timer()\n",
    "\n",
    "    def on_enter_fan_active(self):\n",
    "        log(\"Переход в режим ВЕНТИЛЯТОР.\")\n",
    "        self.start_working_timer()\n",
    "        self.start_random_break_timer()\n",
    "\n",
    "    def on_enter_heating_active(self):\n",
    "        log(\"Переход в режим ОБОГРЕВ.\")\n",
    "        self.start_working_timer()\n",
    "        self.start_random_break_timer()\n",
    "\n",
    "    def on_enter_cooling_active(self):\n",
    "        log(\"Переход в режим ОХЛАЖДЕНИЕ.\")\n",
    "        self.start_working_timer()\n",
    "        self.start_random_break_timer()\n",
    "\n",
    "    # --- Колбэки для выхода из активных рабочих состояний ---\n",
    "    def on_exit_eco_active(self):\n",
    "        log(\"Выход из режима ЭКО.\")\n",
    "        self._cancel_timers()\n",
    "\n",
    "    def on_exit_fan_active(self):\n",
    "        log(\"Выход из режима ВЕНТИЛЯТОР.\")\n",
    "        self._cancel_timers()\n",
    "\n",
    "    def on_exit_heating_active(self):\n",
    "        log(\"Выход из режима ОБОГРЕВ.\")\n",
    "        self._cancel_timers()\n",
    "\n",
    "    def on_exit_cooling_active(self):\n",
    "        log(\"Выход из режима ОХЛАЖДЕНИЕ.\")\n",
    "        self._cancel_timers()\n",
    "\n",
    "    # --- Колбэки для входа в состояние паузы ---\n",
    "    def on_enter_eco_pause(self):\n",
    "        log(\"Режим ЭКО на паузе.\")\n",
    "        self._cancel_timers()\n",
    "\n",
    "    def on_enter_fan_pause(self):\n",
    "        log(\"Режим ВЕНТИЛЯТОР на паузе.\")\n",
    "        self._cancel_timers()\n",
    "\n",
    "    def on_enter_heating_pause(self):\n",
    "        log(\"Режим ОБОГРЕВ на паузе.\")\n",
    "        self._cancel_timers()\n",
    "\n",
    "    def on_enter_cooling_pause(self):\n",
    "        log(\"Режим ОХЛАЖДЕНИЕ на паузе.\")\n",
    "        self._cancel_timers()\n",
    "\n",
    "    # --- Колбэк для состояния 'stop' ---\n",
    "    def on_enter_stop(self):\n",
    "        log(\"Таймер работы истек. Кондиционер остановлен.\")\n",
    "        self._cancel_timers()\n",
    "\n",
    "    # --- Колбэк для состояния 'broken' ---\n",
    "    def on_enter_broken(self):\n",
    "        log(\"Кондиционер вышел из строя! Пожалуйста, отремонтируйте его.\")\n",
    "        self._cancel_timers()\n",
    "\n",
    "    # --- Колбэки для состояний включено/выключено ---\n",
    "    def on_enter_on(self):\n",
    "        log(\"Кондиционер включен.\")\n",
    "\n",
    "    def on_enter_off(self):\n",
    "        log(\"Кондиционер выключен.\")\n",
    "        self._cancel_timers()\n",
    "\n",
    "    # --- Управление таймером для рабочих состояний ---\n",
    "    def start_working_timer(self, duration=10):\n",
    "        \"\"\"Запускает таймер, который вызывает переход по истечении фиксированной продолжительности.\"\"\"\n",
    "        log(\"Запуск таймера работы на {} секунд.\".format(duration))\n",
    "        self._working_timer = threading.Timer(duration, self._on_timeout)\n",
    "        self._working_timer.start()\n",
    "\n",
    "    def _on_timeout(self):\n",
    "        if self.state in ['eco_active', 'fan_active', 'heating_active', 'cooling_active']:\n",
    "            log(\"Таймер работы истек. Остановка.\")\n",
    "            self.timeout()\n",
    "\n",
    "    # --- Управление таймером случайного сбоя ---\n",
    "    def start_random_break_timer(self, min_duration=5, max_duration=15):\n",
    "        \"\"\"Запускает таймер, который вызовет случайный сбой после случайной задержки.\"\"\"\n",
    "        duration = random.uniform(min_duration, max_duration)\n",
    "        log(\"Запуск таймера случайного сбоя на {:.2f} секунд.\".format(duration))\n",
    "        self._random_break_timer = threading.Timer(duration, self._on_random_break)\n",
    "        self._random_break_timer.start()\n",
    "\n",
    "    def _on_random_break(self):\n",
    "        if self.state in ['eco_active', 'fan_active', 'heating_active', 'cooling_active']:\n",
    "            log(\"Произошел случайный сбой! Кондиционер вышел из строя.\")\n",
    "            self.random_break()\n"
   ],
   "outputs": [
    {
     "name": "stdout",
     "output_type": "stream",
     "text": [
      "Requirement already satisfied: transitions in c:\\imprimir\\3kurs\\theoryofsystems\\.venv\\lib\\site-packages (0.9.2)\n",
      "Requirement already satisfied: six in c:\\imprimir\\3kurs\\theoryofsystems\\.venv\\lib\\site-packages (from transitions) (1.17.0)\n"
     ]
    }
   ],
   "execution_count": 6
  },
  {
   "metadata": {
    "colab": {
     "base_uri": "https://localhost:8080/"
    },
    "id": "3ce1f1d26bcf14c2",
    "outputId": "7465eebb-93c4-4830-d9c8-c752066e6d43",
    "ExecuteTime": {
     "end_time": "2025-03-10T09:17:56.906018Z",
     "start_time": "2025-03-10T09:17:31.862247Z"
    }
   },
   "cell_type": "code",
   "source": [
    "ac = AC()\n",
    "\n",
    "log(f\"Начальное состояние: {ac.state}\", level=\"info\")\n",
    "ac.power_on()\n",
    "log(\"Состояние после включения: {}\".format(ac.state), level=\"info\")\n",
    "\n",
    "ac.set_cooling()\n",
    "log(\"Состояние после установки режима охлаждения: {}\".format(ac.state), level=\"info\")\n",
    "\n",
    "time.sleep(3)\n",
    "ac.pause()\n",
    "log(\"Состояние после постановки на паузу: {}\".format(ac.state), level=\"info\")\n",
    "\n",
    "time.sleep(2)\n",
    "ac.resume()\n",
    "log(\"Состояние после возобновления работы: {}\".format(ac.state), level=\"info\")\n",
    "\n",
    "log(\"Ожидание срабатывания таймеров (истечение времени или случайный сбой)...\", level=\"info\")\n",
    "time.sleep(20)\n",
    "if ac.state == 'broken':\n",
    "    ac.repair()\n",
    "    log(\"Состояние после ремонта: {}\".format(ac.state), level=\"info\")\n",
    "\n",
    "log(\"Конечное состояние: {}\".format(ac.state), level=\"info\")"
   ],
   "id": "3ce1f1d26bcf14c2",
   "outputs": [
    {
     "name": "stdout",
     "output_type": "stream",
     "text": [
      "12:17:31.865 Начальное состояние: off\n",
      "12:17:31.867 Кондиционер включен.\n",
      "12:17:31.869 Состояние после включения: on\n",
      "12:17:31.871 Переход в режим ОХЛАЖДЕНИЕ.\n",
      "12:17:31.873 Запуск таймера работы на 10 секунд.\n",
      "12:17:31.876 Запуск таймера случайного сбоя на 12.24 секунд.\n",
      "12:17:31.879 Состояние после установки режима охлаждения: cooling_active\n",
      "12:17:34.881 Выход из режима ОХЛАЖДЕНИЕ.\n",
      "12:17:34.882 Режим ОХЛАЖДЕНИЕ на паузе.\n",
      "12:17:34.885 Состояние после постановки на паузу: cooling_pause\n",
      "12:17:36.888 Переход в режим ОХЛАЖДЕНИЕ.\n",
      "12:17:36.890 Запуск таймера работы на 10 секунд.\n",
      "12:17:36.893 Запуск таймера случайного сбоя на 13.06 секунд.\n",
      "12:17:36.896 Состояние после возобновления работы: cooling_active\n",
      "12:17:36.899 Ожидание срабатывания таймеров (истечение времени или случайный сбой)...\n",
      "12:17:46.909 Таймер работы истек. Остановка.\n",
      "12:17:46.913 Выход из режима ОХЛАЖДЕНИЕ.\n",
      "12:17:46.916 Таймер работы истек. Кондиционер остановлен.\n",
      "12:17:56.902 Конечное состояние: stop\n"
     ]
    }
   ],
   "execution_count": 7
  },
  {
   "metadata": {
    "colab": {
     "base_uri": "https://localhost:8080/"
    },
    "id": "b2a581f58a0d9c09",
    "outputId": "9478bc21-5cf0-45ec-d163-84155bf2a8ea",
    "ExecuteTime": {
     "end_time": "2025-03-10T09:17:58.627453Z",
     "start_time": "2025-03-10T09:17:56.936159Z"
    }
   },
   "cell_type": "code",
   "source": [
    "!pip install graphviz\n",
    "import graphviz\n",
    "ac_model = AC()\n",
    "ac_model.get_combined_graph().draw('ac_state_diagram.png', prog='dot')\n"
   ],
   "id": "b2a581f58a0d9c09",
   "outputs": [
    {
     "name": "stdout",
     "output_type": "stream",
     "text": [
      "Requirement already satisfied: graphviz in c:\\imprimir\\3kurs\\theoryofsystems\\.venv\\lib\\site-packages (0.20.3)\n"
     ]
    }
   ],
   "execution_count": 8
  }
 ],
 "metadata": {
  "kernelspec": {
   "display_name": "Python 3",
   "language": "python",
   "name": "python3"
  },
  "language_info": {
   "codemirror_mode": {
    "name": "ipython",
    "version": 2
   },
   "file_extension": ".py",
   "mimetype": "text/x-python",
   "name": "python",
   "nbconvert_exporter": "python",
   "pygments_lexer": "ipython2",
   "version": "2.7.6"
  },
  "colab": {
   "provenance": []
  }
 },
 "nbformat": 4,
 "nbformat_minor": 5
}
