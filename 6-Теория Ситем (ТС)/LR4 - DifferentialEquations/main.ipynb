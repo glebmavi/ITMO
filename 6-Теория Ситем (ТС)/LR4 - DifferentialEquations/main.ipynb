{
 "cells": [
  {
   "cell_type": "code",
   "id": "initial_id",
   "metadata": {
    "collapsed": true,
    "ExecuteTime": {
     "end_time": "2025-04-21T09:54:57.273865Z",
     "start_time": "2025-04-21T09:54:57.270606Z"
    }
   },
   "source": [
    "import numpy as np\n",
    "from scipy.integrate import odeint\n",
    "from scipy import optimize\n",
    "import matplotlib.pyplot as plt"
   ],
   "outputs": [],
   "execution_count": 20
  },
  {
   "metadata": {},
   "cell_type": "markdown",
   "source": [
    "1. Определение входного воздействия u(t) и его производной u'(t)\n",
    "\n",
    "Для единичного шага: u(t)=0 при t<0, u(t)=1 при t>=0"
   ],
   "id": "44fd7e969d443b1f"
  },
  {
   "metadata": {
    "ExecuteTime": {
     "end_time": "2025-04-21T09:54:57.287028Z",
     "start_time": "2025-04-21T09:54:57.282919Z"
    }
   },
   "cell_type": "code",
   "source": [
    "def u_func(t):\n",
    "    return 1.0 if t >= 0 else 0.0\n",
    "\n",
    "# Производная единичного шага равна 0 для t≠0 (игнорируем дельта-функцию в t=0)\n",
    "def du_dt_func(t):\n",
    "    return 0.0"
   ],
   "id": "b90d547f8776fc6b",
   "outputs": [],
   "execution_count": 21
  },
  {
   "metadata": {},
   "cell_type": "markdown",
   "source": [
    "2. Запись ДУ второго порядка в виде системы первого порядка (форма Коши)\n",
    "\n",
    "Введём переменные:\n",
    "```\n",
    "x1(t) = y(t)\n",
    "\n",
    "x2(t) = y'(t)\n",
    "```\n",
    "\n",
    "Тогда получаем систему:\n",
    "```\n",
    "dx1/dt = x2\n",
    "\n",
    "dx2/dt = -a*x2 - b*x1 + c*u'(t) + d*u(t)\n",
    "```"
   ],
   "id": "73c371e4de2be3f4"
  },
  {
   "metadata": {
    "ExecuteTime": {
     "end_time": "2025-04-21T09:54:57.317555Z",
     "start_time": "2025-04-21T09:54:57.311377Z"
    }
   },
   "cell_type": "code",
   "source": [
    "# Здесь параметры a, b, c, d задаются как коэффициенты, сохраняющих\n",
    "# общую структуру уравнения.\n",
    "def system_odes(x, t, params):\n",
    "    \"\"\"\n",
    "    Функция для вычисления производной системы ОДУ.\n",
    "    \"\"\"\n",
    "    a, b, c, d = params\n",
    "    x1, x2 = x\n",
    "    u = u_func(t)\n",
    "    du = du_dt_func(t)\n",
    "    dx1_dt = x2\n",
    "    dx2_dt = -a * x2 - b * x1 + c * du + d * u\n",
    "    return [dx1_dt, dx2_dt]"
   ],
   "id": "bfc9339d25a7518e",
   "outputs": [],
   "execution_count": 22
  },
  {
   "metadata": {},
   "cell_type": "markdown",
   "source": "3. Функция для моделирования системы с заданными параметрами",
   "id": "9476ca8dc0d5e10f"
  },
  {
   "metadata": {
    "ExecuteTime": {
     "end_time": "2025-04-21T09:54:57.353729Z",
     "start_time": "2025-04-21T09:54:57.347481Z"
    }
   },
   "cell_type": "code",
   "source": [
    "def simulate_system(params, x0, t):\n",
    "    \"\"\"\n",
    "    Функция для моделирования системы с заданными параметрами.\n",
    "    \"\"\"\n",
    "    sol = odeint(system_odes, x0, t, args=(params,))\n",
    "    return sol"
   ],
   "id": "a20c677a97adbc32",
   "outputs": [],
   "execution_count": 23
  },
  {
   "metadata": {},
   "cell_type": "markdown",
   "source": [
    "\n",
    "4. Оценка параметров ДУ методом наименьших квадратов\n",
    "\n",
    "Здесь мы определяем класс для оценки параметров модели по экспериментальным данным.\n",
    "В данном примере данные синтезируются с использованием \"истинных\" параметров,\n",
    "затем к ним добавляется небольшой шум."
   ],
   "id": "6ca6a8bb28af9977"
  },
  {
   "metadata": {
    "ExecuteTime": {
     "end_time": "2025-04-21T09:54:57.389959Z",
     "start_time": "2025-04-21T09:54:57.384683Z"
    }
   },
   "cell_type": "code",
   "source": [
    "class ParameterEstimator:\n",
    "    def __init__(self, t_data, y_data, system_func, x0):\n",
    "        \"\"\"\n",
    "        t_data - массив временных отсчетов,\n",
    "        y_data - экспериментальные данные (выход системы, y(t)),\n",
    "        system_func - функция, описывающая систему ОДУ,\n",
    "        x0 - начальные условия системы (например, [0, 0])\n",
    "        \"\"\"\n",
    "        self.t_data = t_data\n",
    "        self.y_data = y_data\n",
    "        self.system_func = system_func\n",
    "        self.x0 = x0\n",
    "\n",
    "    def simulate(self, params):\n",
    "        \"\"\"\n",
    "        Моделирование системы с параметрами params, возвращает y(t)=x1(t)\n",
    "        \"\"\"\n",
    "        sol = odeint(self.system_func, self.x0, self.t_data, args=(params,))\n",
    "        return sol[:, 0]\n",
    "\n",
    "    def residuals(self, p):\n",
    "        \"\"\"\n",
    "        Вычисление разности между моделью и экспериментальными данными\n",
    "        \"\"\"\n",
    "        y_sim = self.simulate(p)\n",
    "        return (y_sim - self.y_data).flatten()\n",
    "\n",
    "    def estimate(self, initial_guess):\n",
    "        \"\"\"\n",
    "        Оценка параметров с помощью оптимизации наименьших квадратов.\n",
    "        Возвращает оцененные параметры и дополнительную информацию.\n",
    "        \"\"\"\n",
    "        p_est, cov, infodict, mesg, ier = optimize.leastsq(self.residuals, initial_guess, full_output=True)\n",
    "        return p_est, cov, mesg, ier"
   ],
   "id": "4e7bfff3abbb10f7",
   "outputs": [],
   "execution_count": 24
  },
  {
   "metadata": {},
   "cell_type": "markdown",
   "source": [
    "\n",
    " 5. Пример использования\n",
    "\n",
    " Рассмотрим, уравнение:\n",
    "   y''(t) + 3*y'(t) + 4*y(t) = 4*u'(t) + 2*u(t)\n",
    "\n",
    " В нашей записи система принимает параметры:\n",
    "   a = 3, b = 4, c = 4, d = 2"
   ],
   "id": "7b5fde4624678820"
  },
  {
   "metadata": {
    "ExecuteTime": {
     "end_time": "2025-04-21T09:54:57.535033Z",
     "start_time": "2025-04-21T09:54:57.409606Z"
    }
   },
   "cell_type": "code",
   "source": [
    "x0 = [0, 0]  # Начальные условия: y(0)=0, y'(0)=0\n",
    "t = np.linspace(0, 10, 101)\n",
    "\n",
    "true_params = [3, 4, 4, 2]\n",
    "sol_true = simulate_system(true_params, x0, t)\n",
    "y_true = sol_true[:, 0]\n",
    "\n",
    "# Имитация эксперимента\n",
    "np.random.seed(0)  # для воспроизводимости\n",
    "noise_level = 0\n",
    "y_noisy = y_true + noise_level * np.random.randn(len(y_true))\n",
    "\n",
    "# Зададим начальное приближение для параметров\n",
    "initial_guess = [1, 1, true_params[2], true_params[3]]\n",
    "\n",
    "# Выполняем оценку параметров\n",
    "estimator = ParameterEstimator(t, y_noisy, system_odes, x0)\n",
    "estimated_params, cov, mesg, ier = estimator.estimate(initial_guess)\n",
    "\n",
    "print(\"Оцененные параметры:\")\n",
    "print(\"a = {:.4f}, b = {:.4f}, c = {:.4f}, d = {:.4f}\".format(\n",
    "    estimated_params[0],\n",
    "    estimated_params[1],\n",
    "    estimated_params[2],\n",
    "    estimated_params[3]\n",
    "))\n",
    "\n",
    "# Моделирование системы с оцененными параметрами:\n",
    "sol_est = simulate_system(estimated_params, x0, t)\n",
    "y_est = sol_est[:, 0]\n",
    "\n",
    "\n",
    "# Визуализация результатов\n",
    "plt.figure(figsize=(10, 6))\n",
    "plt.plot(t, y_noisy, 'r.', label=\"Экспериментальные данные\")\n",
    "plt.plot(t, y_true, 'k--', label=\"Истинная модель\")\n",
    "plt.plot(t, y_est, 'b-', label=\"Модель с оцененными параметрами\")\n",
    "plt.xlabel(\"Время t\")\n",
    "plt.ylabel(\"y(t)\")\n",
    "plt.title(\"Решение ДУ в форме Коши и оценка параметров\")\n",
    "plt.legend()\n",
    "plt.grid(True)\n",
    "plt.show()\n"
   ],
   "id": "473c486fbc92f965",
   "outputs": [
    {
     "name": "stdout",
     "output_type": "stream",
     "text": [
      "Оцененные параметры:\n",
      "a = 3.0000, b = 4.0000, c = 4.0000, d = 2.0000\n"
     ]
    },
    {
     "data": {
      "text/plain": [
       "<Figure size 1000x600 with 1 Axes>"
      ],
      "image/png": "[encoded data removed]"
     },
     "metadata": {},
     "output_type": "display_data"
    }
   ],
   "execution_count": 25
  }
 ],
 "metadata": {
  "kernelspec": {
   "display_name": "Python 3",
   "language": "python",
   "name": "python3"
  },
  "language_info": {
   "codemirror_mode": {
    "name": "ipython",
    "version": 2
   },
   "file_extension": ".py",
   "mimetype": "text/x-python",
   "name": "python",
   "nbconvert_exporter": "python",
   "pygments_lexer": "ipython2",
   "version": "2.7.6"
  }
 },
 "nbformat": 4,
 "nbformat_minor": 5
}
