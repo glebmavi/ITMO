{
 "cells": [
  {
   "cell_type": "markdown",
   "metadata": {
    "id": "qy9oP-te0LD9"
   },
   "source": [
    "Библиотека ImageAI предоставляет очень удобные и мощные методы для обнаружения объектов на изображениях. Чтобы приступить к обнаружению объектов, необходимо загрузить уже обученные модели обнаружения объектов. Воспользуемся моделью YOLO.\n",
    "\n",
    "Установим библиотеки:"
   ]
  },
  {
   "cell_type": "code",
   "metadata": {
    "id": "vv8-l37o0LEA",
    "colab": {
     "base_uri": "https://localhost:8080/"
    },
    "outputId": "692c753c-7f0a-4b9d-c0cf-9ba189431c9c"
   },
   "source": [
    "import warnings\n",
    "warnings.filterwarnings('ignore')\n",
    "warnings.simplefilter('ignore')\n",
    "%pip install -q ultralytics\n",
    "import ultralytics\n",
    "ultralytics.checks(device=\"cpu\")"
   ],
   "execution_count": 1,
   "outputs": [
    {
     "name": "stdout",
     "output_type": "stream",
     "text": [
      "Ultralytics 8.3.48  Python-3.12.7 torch-2.5.1+cu121 CPU (12th Gen Intel Core(TM) i7-12650H)\n",
      "Setup complete  (16 CPUs, 31.6 GB RAM, 744.3/840.9 GB disk)\n"
     ]
    }
   ]
  },
  {
   "cell_type": "markdown",
   "source": [
    "Подключим модель для распознавания:"
   ],
   "metadata": {
    "id": "GYnq-jcZWfjF"
   }
  },
  {
   "cell_type": "code",
   "source": [
    "from ultralytics import YOLO\n",
    "\n",
    "model = YOLO('yolo11n.pt')"
   ],
   "metadata": {
    "colab": {
     "base_uri": "https://localhost:8080/"
    },
    "id": "3_9ltsFPWRSy",
    "outputId": "bed22939-f9d5-4ae5-8a81-0ed09a7bc983",
    "ExecuteTime": {
     "end_time": "2024-12-09T16:13:07.986529Z",
     "start_time": "2024-12-09T16:13:07.950811Z"
    }
   },
   "outputs": [],
   "execution_count": 2
  },
  {
   "cell_type": "markdown",
   "source": [
    "Проверим работу распознавания. Файл можно загрузить в хранилище или использовать прямую ссылку на изображение, например:"
   ],
   "metadata": {
    "id": "rVCaA3srVLv2"
   }
  },
  {
   "cell_type": "code",
   "metadata": {
    "id": "60K76ftm0LEC",
    "colab": {
     "base_uri": "https://localhost:8080/"
    },
    "outputId": "d98529bb-18db-40d7-fcb6-5b896f51e4d2",
    "ExecuteTime": {
     "end_time": "2024-12-09T16:13:19.419679Z",
     "start_time": "2024-12-09T16:13:08.085183Z"
    }
   },
   "source": [
    "links = ['https://de.ifmo.ru/--openedu/dataprocessing/appliedai/img/20.jpg',\n",
    "        'https://de.ifmo.ru/--openedu/dataprocessing/appliedai/img/42.jpg',\n",
    "        'https://de.ifmo.ru/--openedu/dataprocessing/appliedai/img/22.jpg',\n",
    "        'https://de.ifmo.ru/--openedu/dataprocessing/appliedai/img/28.jpg',\n",
    "        'https://de.ifmo.ru/--openedu/dataprocessing/appliedai/img/26.jpg',\n",
    "        'https://de.ifmo.ru/--openedu/dataprocessing/appliedai/img/31.jpg',\n",
    "        'https://de.ifmo.ru/--openedu/dataprocessing/appliedai/img/34.jpg',\n",
    "        'https://de.ifmo.ru/--openedu/dataprocessing/appliedai/img/8.jpg',\n",
    "        'https://de.ifmo.ru/--openedu/dataprocessing/appliedai/img/0.jpg',\n",
    "        'https://de.ifmo.ru/--openedu/dataprocessing/appliedai/img/33.jpg']\n",
    "\n",
    "for link in links:\n",
    "    results = model(link, save=True, conf=0.8)"
   ],
   "outputs": [
    {
     "name": "stdout",
     "output_type": "stream",
     "text": [
      "\n",
      "Downloading https://de.ifmo.ru/--openedu/dataprocessing/appliedai/img/20.jpg to '20.jpg'...\n"
     ]
    },
    {
     "name": "stderr",
     "output_type": "stream",
     "text": [
      "100%|██████████| 295k/295k [00:00<00:00, 834kB/s]\n"
     ]
    },
    {
     "name": "stdout",
     "output_type": "stream",
     "text": [
      "image 1/1 C:\\Users\\Gleb\\PycharmProjects\\AI_Methods\\20.jpg: 448x640 2 persons, 1 dog, 63.3ms\n",
      "Speed: 3.0ms preprocess, 63.3ms inference, 1.0ms postprocess per image at shape (1, 3, 448, 640)\n",
      "Results saved to \u001B[1mruns\\detect\\predict\u001B[0m\n",
      "\n",
      "Downloading https://de.ifmo.ru/--openedu/dataprocessing/appliedai/img/42.jpg to '42.jpg'...\n"
     ]
    },
    {
     "name": "stderr",
     "output_type": "stream",
     "text": [
      "100%|██████████| 38.8k/38.8k [00:00<00:00, 894kB/s]"
     ]
    },
    {
     "name": "stdout",
     "output_type": "stream",
     "text": [
      "image 1/1 C:\\Users\\Gleb\\PycharmProjects\\AI_Methods\\42.jpg: 448x640 4 persons, 50.1ms\n",
      "Speed: 1.8ms preprocess, 50.1ms inference, 0.0ms postprocess per image at shape (1, 3, 448, 640)\n",
      "Results saved to \u001B[1mruns\\detect\\predict\u001B[0m\n",
      "\n",
      "Downloading https://de.ifmo.ru/--openedu/dataprocessing/appliedai/img/22.jpg to '22.jpg'...\n"
     ]
    },
    {
     "name": "stderr",
     "output_type": "stream",
     "text": [
      "\n",
      "100%|██████████| 376k/376k [00:00<00:00, 1.00MB/s]\n"
     ]
    },
    {
     "name": "stdout",
     "output_type": "stream",
     "text": [
      "image 1/1 C:\\Users\\Gleb\\PycharmProjects\\AI_Methods\\22.jpg: 416x640 (no detections), 68.0ms\n",
      "Speed: 2.2ms preprocess, 68.0ms inference, 1.0ms postprocess per image at shape (1, 3, 416, 640)\n",
      "Results saved to \u001B[1mruns\\detect\\predict\u001B[0m\n",
      "\n",
      "Downloading https://de.ifmo.ru/--openedu/dataprocessing/appliedai/img/28.jpg to '28.jpg'...\n"
     ]
    },
    {
     "name": "stderr",
     "output_type": "stream",
     "text": [
      "100%|██████████| 263k/263k [00:00<00:00, 879kB/s]\n"
     ]
    },
    {
     "name": "stdout",
     "output_type": "stream",
     "text": [
      "image 1/1 C:\\Users\\Gleb\\PycharmProjects\\AI_Methods\\28.jpg: 448x640 1 person, 56.5ms\n",
      "Speed: 1.9ms preprocess, 56.5ms inference, 1.0ms postprocess per image at shape (1, 3, 448, 640)\n",
      "Results saved to \u001B[1mruns\\detect\\predict\u001B[0m\n",
      "\n",
      "Downloading https://de.ifmo.ru/--openedu/dataprocessing/appliedai/img/26.jpg to '26.jpg'...\n"
     ]
    },
    {
     "name": "stderr",
     "output_type": "stream",
     "text": [
      "100%|██████████| 393k/393k [00:00<00:00, 1.14MB/s]\n"
     ]
    },
    {
     "name": "stdout",
     "output_type": "stream",
     "text": [
      "image 1/1 C:\\Users\\Gleb\\PycharmProjects\\AI_Methods\\26.jpg: 448x640 6 persons, 51.0ms\n",
      "Speed: 2.0ms preprocess, 51.0ms inference, 1.0ms postprocess per image at shape (1, 3, 448, 640)\n",
      "Results saved to \u001B[1mruns\\detect\\predict\u001B[0m\n",
      "\n",
      "Downloading https://de.ifmo.ru/--openedu/dataprocessing/appliedai/img/31.jpg to '31.jpg'...\n"
     ]
    },
    {
     "name": "stderr",
     "output_type": "stream",
     "text": [
      "100%|██████████| 277k/277k [00:00<00:00, 905kB/s]\n"
     ]
    },
    {
     "name": "stdout",
     "output_type": "stream",
     "text": [
      "image 1/1 C:\\Users\\Gleb\\PycharmProjects\\AI_Methods\\31.jpg: 384x640 6 persons, 61.4ms\n",
      "Speed: 1.0ms preprocess, 61.4ms inference, 1.0ms postprocess per image at shape (1, 3, 384, 640)\n",
      "Results saved to \u001B[1mruns\\detect\\predict\u001B[0m\n",
      "\n",
      "Downloading https://de.ifmo.ru/--openedu/dataprocessing/appliedai/img/34.jpg to '34.jpg'...\n"
     ]
    },
    {
     "name": "stderr",
     "output_type": "stream",
     "text": [
      "100%|██████████| 285k/285k [00:00<00:00, 960kB/s]\n"
     ]
    },
    {
     "name": "stdout",
     "output_type": "stream",
     "text": [
      "image 1/1 C:\\Users\\Gleb\\PycharmProjects\\AI_Methods\\34.jpg: 448x640 2 persons, 48.3ms\n",
      "Speed: 2.9ms preprocess, 48.3ms inference, 0.0ms postprocess per image at shape (1, 3, 448, 640)\n",
      "Results saved to \u001B[1mruns\\detect\\predict\u001B[0m\n",
      "\n",
      "Downloading https://de.ifmo.ru/--openedu/dataprocessing/appliedai/img/8.jpg to '8.jpg'...\n"
     ]
    },
    {
     "name": "stderr",
     "output_type": "stream",
     "text": [
      "100%|██████████| 325k/325k [00:00<00:00, 919kB/s] \n"
     ]
    },
    {
     "name": "stdout",
     "output_type": "stream",
     "text": [
      "image 1/1 C:\\Users\\Gleb\\PycharmProjects\\AI_Methods\\8.jpg: 448x640 3 persons, 56.0ms\n",
      "Speed: 1.0ms preprocess, 56.0ms inference, 0.0ms postprocess per image at shape (1, 3, 448, 640)\n",
      "Results saved to \u001B[1mruns\\detect\\predict\u001B[0m\n",
      "\n",
      "Downloading https://de.ifmo.ru/--openedu/dataprocessing/appliedai/img/0.jpg to '0.jpg'...\n"
     ]
    },
    {
     "name": "stderr",
     "output_type": "stream",
     "text": [
      "100%|██████████| 59.2k/59.2k [00:00<00:00, 632kB/s]\n"
     ]
    },
    {
     "name": "stdout",
     "output_type": "stream",
     "text": [
      "image 1/1 C:\\Users\\Gleb\\PycharmProjects\\AI_Methods\\0.jpg: 384x640 5 persons, 67.1ms\n",
      "Speed: 1.5ms preprocess, 67.1ms inference, 1.0ms postprocess per image at shape (1, 3, 384, 640)\n",
      "Results saved to \u001B[1mruns\\detect\\predict\u001B[0m\n",
      "\n",
      "Downloading https://de.ifmo.ru/--openedu/dataprocessing/appliedai/img/33.jpg to '33.jpg'...\n"
     ]
    },
    {
     "name": "stderr",
     "output_type": "stream",
     "text": [
      "100%|██████████| 268k/268k [00:00<00:00, 956kB/s]"
     ]
    },
    {
     "name": "stdout",
     "output_type": "stream",
     "text": [
      "image 1/1 C:\\Users\\Gleb\\PycharmProjects\\AI_Methods\\33.jpg: 416x640 4 persons, 50.0ms\n"
     ]
    },
    {
     "name": "stderr",
     "output_type": "stream",
     "text": [
      "\n"
     ]
    },
    {
     "name": "stdout",
     "output_type": "stream",
     "text": [
      "Speed: 2.0ms preprocess, 50.0ms inference, 1.0ms postprocess per image at shape (1, 3, 416, 640)\n",
      "Results saved to \u001B[1mruns\\detect\\predict\u001B[0m\n"
     ]
    }
   ],
   "execution_count": 3
  },
  {
   "metadata": {},
   "cell_type": "markdown",
   "source": "Нужно проверить вручную количество людей на изображениях и сравнить с результатами модели."
  },
  {
   "metadata": {
    "ExecuteTime": {
     "end_time": "2024-12-09T16:17:26.738084Z",
     "start_time": "2024-12-09T16:17:26.732762Z"
    }
   },
   "cell_type": "code",
   "source": [
    "# предполагая отсутствие false_positive:\n",
    "TRUE = [4, 5, 4, 5, 6, 7, 4, 3, 5, 4]  # людей на фотографии\n",
    "PRED = [2, 4, 0, 1, 6, 6, 2, 3, 5, 4]  # рамок 'person' на фотографии\n",
    "\n",
    "true_positive = sum(PRED)\n",
    "false_negative = sum(TRUE) - sum(PRED)\n",
    "recall = sum(PRED) / sum(TRUE)\n",
    "precision = 1\n",
    "f1 = (2 * precision * recall) / (precision + recall)\n",
    "print(f'{true_positive=} {false_negative=} {f1=:.3f}')"
   ],
   "outputs": [
    {
     "name": "stdout",
     "output_type": "stream",
     "text": [
      "true_positive=33 false_negative=14 f1=0.825\n"
     ]
    }
   ],
   "execution_count": 1
  }
 ],
 "metadata": {
  "colab": {
   "provenance": []
  },
  "kernelspec": {
   "display_name": "Python 3 (ipykernel)",
   "language": "python",
   "name": "python3"
  },
  "language_info": {
   "codemirror_mode": {
    "name": "ipython",
    "version": 3
   },
   "file_extension": ".py",
   "mimetype": "text/x-python",
   "name": "python",
   "nbconvert_exporter": "python",
   "pygments_lexer": "ipython3",
   "version": "3.6.6"
  }
 },
 "nbformat": 4,
 "nbformat_minor": 0
}
