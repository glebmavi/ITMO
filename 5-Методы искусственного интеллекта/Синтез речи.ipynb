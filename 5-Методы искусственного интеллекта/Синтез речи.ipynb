{
 "cells": [
  {
   "attachments": {},
   "cell_type": "markdown",
   "metadata": {},
   "source": [
    "# Биометрия, распознавание и синтез речи\n",
    "\n",
    "Проведем второй тур соревнования между естественным и искусственным интеллектом. На первом этапе Вам необходимо прослушать предложенные аудиофрагменты и выбрать верный ответ. \n",
    "\n",
    "На втором этапе в бой вступает искусственный интеллект. Он представлен двумя бойцами: модель Pocket Sphinx и Google. Вам необходимо ввести полученные после распознавания фразы."
   ]
  },
  {
   "cell_type": "code",
   "metadata": {
    "id": "Vetqp0TQqonS",
    "ExecuteTime": {
     "end_time": "2024-12-09T13:23:07.925381Z",
     "start_time": "2024-12-09T13:23:05.711126Z"
    }
   },
   "source": [
    "%pip install -q SpeechRecognition==3.8.1\n",
    "%pip install -q pocketsphinx==5.0.0"
   ],
   "outputs": [
    {
     "name": "stdout",
     "output_type": "stream",
     "text": [
      "Note: you may need to restart the kernel to use updated packages.\n",
      "Note: you may need to restart the kernel to use updated packages.\n"
     ]
    }
   ],
   "execution_count": 1
  },
  {
   "cell_type": "code",
   "metadata": {
    "id": "F8RxfP84CpQw",
    "ExecuteTime": {
     "end_time": "2024-12-09T13:23:13.835772Z",
     "start_time": "2024-12-09T13:23:07.931140Z"
    }
   },
   "source": [
    "from urllib.request import urlretrieve\n",
    "\n",
    "DATA = [\n",
    "    'https://de.ifmo.ru/--openedu/dataprocessing/appliedai/audio5/18.wav',\n",
    "    'https://de.ifmo.ru/--openedu/dataprocessing/appliedai/audio5/77.wav',\n",
    "    'https://de.ifmo.ru/--openedu/dataprocessing/appliedai/audio5/9.wav',\n",
    "    'https://de.ifmo.ru/--openedu/dataprocessing/appliedai/audio5/56.wav',\n",
    "    'https://de.ifmo.ru/--openedu/dataprocessing/appliedai/audio5/6.wav',\n",
    "    'https://de.ifmo.ru/--openedu/dataprocessing/appliedai/audio5/20.wav',\n",
    "    'https://de.ifmo.ru/--openedu/dataprocessing/appliedai/audio5/79.wav'\n",
    "]\n",
    "\n",
    "for i, link in enumerate(DATA, start=1):\n",
    "    urlretrieve(link, f'{i}.wav')"
   ],
   "outputs": [],
   "execution_count": 2
  },
  {
   "cell_type": "code",
   "metadata": {
    "colab": {
     "base_uri": "https://localhost:8080/"
    },
    "id": "6SH2matOqong",
    "outputId": "b197f8c6-1be3-4b4d-c270-744797233992",
    "ExecuteTime": {
     "end_time": "2024-12-09T13:23:20.129515Z",
     "start_time": "2024-12-09T13:23:13.920238Z"
    }
   },
   "source": [
    "from glob import glob\n",
    "import speech_recognition as sr\n",
    "\n",
    "for file in sorted(glob('*.wav')):\n",
    "  r = sr.Recognizer()\n",
    "  with sr.AudioFile(file) as source:\n",
    "      audio = r.record(source)\n",
    "  try:\n",
    "      print(f'{file}: {r.recognize_sphinx(audio)}')\n",
    "  except sr.UnknownValueError:\n",
    "      print(f'{file}: Sphinx could not understand audio')\n",
    "  except sr.RequestError as e:\n",
    "      print(f'{file}: Sphinx error; {e}')\n"
   ],
   "outputs": [
    {
     "name": "stdout",
     "output_type": "stream",
     "text": [
      "1.wav: they're going to prove he's been fishing\n",
      "2.wav: don't you hop in a shop\n",
      "3.wav: they've been a bit gets the worm\n",
      "4.wav: this to ten down and say is nine\n",
      "5.wav: you call and have your cake and eat it too\n",
      "6.wav: did i filled he did then was needed\n",
      "7.wav: every cloud has is here lowland\n"
     ]
    }
   ],
   "execution_count": 3
  }
 ],
 "metadata": {
  "colab": {
   "provenance": []
  },
  "kernelspec": {
   "display_name": "Python 3 (ipykernel)",
   "language": "python",
   "name": "python3"
  },
  "language_info": {
   "codemirror_mode": {
    "name": "ipython",
    "version": 3
   },
   "file_extension": ".py",
   "mimetype": "text/x-python",
   "name": "python",
   "nbconvert_exporter": "python",
   "pygments_lexer": "ipython3",
   "version": "3.6.6"
  }
 },
 "nbformat": 4,
 "nbformat_minor": 0
}
